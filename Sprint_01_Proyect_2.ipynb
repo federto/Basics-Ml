{
  "cells": [
    {
      "cell_type": "markdown",
      "metadata": {
        "id": "view-in-github",
        "colab_type": "text"
      },
      "source": [
        "<a href=\"https://colab.research.google.com/github/federto/Sprint-01---02-/blob/main/Sprint_01_Proyect_2.ipynb\" target=\"_parent\"><img src=\"https://colab.research.google.com/assets/colab-badge.svg\" alt=\"Open In Colab\"/></a>"
      ]
    },
    {
      "cell_type": "markdown",
      "metadata": {
        "id": "3d08028c-be52-4d84-a995-34b690c3e8a5"
      },
      "source": [
        "# AnyoneAI - Project II\n",
        "\n",
        "# Making Estimations with our NBA dataset"
      ],
      "id": "3d08028c-be52-4d84-a995-34b690c3e8a5"
    },
    {
      "cell_type": "markdown",
      "metadata": {
        "id": "4ff2f3cb-7e1a-4705-bce7-44a56c0113e1"
      },
      "source": [
        "In our first project, we learn how to create our own datasets by using a public API, Python and Pandas. We're now going to explore how to make predictive models for regression and classification tasks using ScikitLearn"
      ],
      "id": "4ff2f3cb-7e1a-4705-bce7-44a56c0113e1"
    },
    {
      "cell_type": "markdown",
      "metadata": {
        "id": "5b732b5b-8fcc-4917-85a1-035bfc00a7dd"
      },
      "source": [
        "The goals of this project are:\n",
        "- Learn how to define a prediction task\n",
        "- Selecting evaluation metrics and baseline models\n",
        "- Perform feature engineering and standarization\n",
        "- Training and using predictive models: Univariable and Multivariate Linear Regression, Classification\n",
        "- Understand how Gradient Descent works by implementing a Linear Regressor in python"
      ],
      "id": "5b732b5b-8fcc-4917-85a1-035bfc00a7dd"
    },
    {
      "cell_type": "markdown",
      "metadata": {
        "id": "73bd1212-887d-4b10-a277-30156aaf410b"
      },
      "source": [
        "##1. Using Regression Models to Estimate players Salaries"
      ],
      "id": "73bd1212-887d-4b10-a277-30156aaf410b"
    },
    {
      "cell_type": "markdown",
      "metadata": {
        "id": "e51670c9-30ec-4dcf-b3f4-e5ba90019818"
      },
      "source": [
        "A player's salary can be explained by a lot of factors: \n",
        "\n",
        "- Years in the league: NBA contracts are limited in price, players have caps on how much money they make depending on their years playing in the league\n",
        "- Age: Highly correlated to the previous one, NBA players have a minimun age of 19 years\n",
        "- Draft position: players out of USA universities are selected each year through a process called draft, in which each team selects a player in a predefined order for 2 rounds (meaning only 60 players are drafted each year). A rookie contract value depends on the draft position. (Undrafted players have to negotiate a salary independently)\n",
        "- Performance in statistical categories: after the rookie contract, players can negotiate freely with teams, and usually statistical categories like points, rebounds and assists are extremely important.  \n",
        "- Team: Even though there are limits to what all teams can expend in players salary, they all allocate their resources differently, and can be more willing to pay the penalties incurred by exceeding those limitations.\n",
        "- Year in which the contract was signed: the mininum and maximum values of contracts possibles in the NBA changes depending on league revenue (television contracts, sponsorships, etc), so if the amount of money the teams make increases, players can negotiate bigger contracts.\n",
        "- Intangibles: players can be valued also in things that are not easily translated to a statistic, good defensive players might not always have great stats but can be extremely important for a team, the same can be said about veteran players that help young ones to learn and are good locker-room guys.\n",
        "\n",
        "But we're going to take a simplified approach, we'll try to use the data we already have to make the best estimator possible, and then we will analyze what went right and what could've gone wrong with our results."
      ],
      "id": "e51670c9-30ec-4dcf-b3f4-e5ba90019818"
    },
    {
      "cell_type": "markdown",
      "metadata": {
        "id": "6f110fec-8919-4427-89f7-b3e581176703"
      },
      "source": [
        "###Analyzing our data"
      ],
      "id": "6f110fec-8919-4427-89f7-b3e581176703"
    },
    {
      "cell_type": "code",
      "execution_count": null,
      "metadata": {
        "id": "X7CaLvAe_4B3"
      },
      "outputs": [],
      "source": [
        "# import the libraries\n",
        "\n",
        "import numpy as np\n",
        "import seaborn as sns \n",
        "import matplotlib.pyplot as plt\n",
        "from matplotlib.pyplot import figure\n",
        "from sklearn.model_selection import train_test_split\n",
        "from sklearn.preprocessing import StandardScaler\n",
        "from sklearn.tree import DecisionTreeRegressor\n",
        "from sklearn.linear_model import SGDRegressor\n",
        "from sklearn.linear_model import LogisticRegression\n",
        "from sklearn.metrics import accuracy_score\n",
        "from sklearn.metrics import precision_score\n",
        "from sklearn.metrics import recall_score\n",
        "from sklearn.metrics import f1_score\n",
        "from sklearn.metrics import mean_absolute_error\n",
        "from sklearn.base import BaseEstimator\n"
      ],
      "id": "X7CaLvAe_4B3"
    },
    {
      "cell_type": "code",
      "execution_count": null,
      "metadata": {
        "id": "bdac389b-e5f8-4563-a187-36b016c0641c"
      },
      "outputs": [],
      "source": [
        "import pandas as pd\n",
        "data = pd.read_csv(\"https://raw.githubusercontent.com/anyoneai/notebooks/main/datasets/project2_players_df.csv\")\n",
        "data.dropna(subset=[\"PTS\"], inplace=True)"
      ],
      "id": "bdac389b-e5f8-4563-a187-36b016c0641c"
    },
    {
      "cell_type": "code",
      "source": [
        "  list1 = []\n",
        "  list2 = []\n",
        "x = data.BIRTHDATE.dropna()\n",
        "for val in x.str.split(\"-\"):\n",
        "  if val[1] == \"05\":\n",
        "    list1.append(val[0:2])\n",
        "  else: \n",
        "    list2.append(val[0:2]) "
      ],
      "metadata": {
        "id": "VzVj9vSR-zyL"
      },
      "id": "VzVj9vSR-zyL",
      "execution_count": null,
      "outputs": []
    },
    {
      "cell_type": "code",
      "source": [
        "output1 = {}\n",
        "output2 = {}\n",
        "for k, *v in list1:\n",
        "    output1.setdefault(k, []).extend(v)\n",
        "for k, *v in list2:\n",
        "    output2.setdefault(k, []).extend(v)"
      ],
      "metadata": {
        "colab": {
          "base_uri": "https://localhost:8080/"
        },
        "id": "SAqd7_2Uot-o",
        "outputId": "511a8e8c-3955-46df-b38a-20695826cee5"
      },
      "id": "SAqd7_2Uot-o",
      "execution_count": null,
      "outputs": [
        {
          "output_type": "execute_result",
          "data": {
            "text/plain": [
              "{'1999': ['09',\n",
              "  '09',\n",
              "  '03',\n",
              "  '11',\n",
              "  '04',\n",
              "  '07',\n",
              "  '11',\n",
              "  '11',\n",
              "  '10',\n",
              "  '07',\n",
              "  '04',\n",
              "  '04',\n",
              "  '02',\n",
              "  '02',\n",
              "  '04',\n",
              "  '09',\n",
              "  '07',\n",
              "  '10',\n",
              "  '01',\n",
              "  '03',\n",
              "  '10',\n",
              "  '06',\n",
              "  '07',\n",
              "  '08',\n",
              "  '10',\n",
              "  '07',\n",
              "  '04',\n",
              "  '06',\n",
              "  '06',\n",
              "  '09',\n",
              "  '06',\n",
              "  '08',\n",
              "  '01',\n",
              "  '10',\n",
              "  '06',\n",
              "  '01',\n",
              "  '04',\n",
              "  '01',\n",
              "  '09'],\n",
              " '1993': ['07',\n",
              "  '09',\n",
              "  '06',\n",
              "  '01',\n",
              "  '02',\n",
              "  '08',\n",
              "  '01',\n",
              "  '03',\n",
              "  '04',\n",
              "  '08',\n",
              "  '07',\n",
              "  '10',\n",
              "  '06',\n",
              "  '04',\n",
              "  '06',\n",
              "  '02',\n",
              "  '09',\n",
              "  '01',\n",
              "  '06',\n",
              "  '01',\n",
              "  '06',\n",
              "  '01',\n",
              "  '06',\n",
              "  '09',\n",
              "  '09',\n",
              "  '12',\n",
              "  '04',\n",
              "  '09'],\n",
              " '1997': ['07',\n",
              "  '07',\n",
              "  '10',\n",
              "  '07',\n",
              "  '04',\n",
              "  '07',\n",
              "  '09',\n",
              "  '11',\n",
              "  '01',\n",
              "  '06',\n",
              "  '02',\n",
              "  '07',\n",
              "  '12',\n",
              "  '12',\n",
              "  '12',\n",
              "  '09',\n",
              "  '10',\n",
              "  '02',\n",
              "  '07',\n",
              "  '02',\n",
              "  '07',\n",
              "  '03',\n",
              "  '02',\n",
              "  '06',\n",
              "  '08',\n",
              "  '11',\n",
              "  '03',\n",
              "  '11',\n",
              "  '12',\n",
              "  '07',\n",
              "  '03',\n",
              "  '04',\n",
              "  '03'],\n",
              " '2001': ['01',\n",
              "  '01',\n",
              "  '08',\n",
              "  '08',\n",
              "  '11',\n",
              "  '09',\n",
              "  '02',\n",
              "  '12',\n",
              "  '09',\n",
              "  '08',\n",
              "  '02',\n",
              "  '07',\n",
              "  '12',\n",
              "  '01',\n",
              "  '04',\n",
              "  '06',\n",
              "  '02',\n",
              "  '01',\n",
              "  '06',\n",
              "  '01',\n",
              "  '01',\n",
              "  '12',\n",
              "  '06',\n",
              "  '11',\n",
              "  '06',\n",
              "  '10',\n",
              "  '10',\n",
              "  '08',\n",
              "  '08',\n",
              "  '09',\n",
              "  '03'],\n",
              " '1985': ['07', '06', '06', '12', '02'],\n",
              " '1998': ['09',\n",
              "  '04',\n",
              "  '07',\n",
              "  '06',\n",
              "  '01',\n",
              "  '03',\n",
              "  '06',\n",
              "  '06',\n",
              "  '07',\n",
              "  '08',\n",
              "  '10',\n",
              "  '12',\n",
              "  '07',\n",
              "  '02',\n",
              "  '08',\n",
              "  '03',\n",
              "  '10',\n",
              "  '07',\n",
              "  '01',\n",
              "  '01',\n",
              "  '09',\n",
              "  '02',\n",
              "  '07',\n",
              "  '09',\n",
              "  '08',\n",
              "  '09',\n",
              "  '06',\n",
              "  '01',\n",
              "  '04',\n",
              "  '02',\n",
              "  '03',\n",
              "  '03',\n",
              "  '03',\n",
              "  '12',\n",
              "  '08',\n",
              "  '11',\n",
              "  '09',\n",
              "  '06'],\n",
              " '1995': ['10',\n",
              "  '02',\n",
              "  '09',\n",
              "  '02',\n",
              "  '09',\n",
              "  '02',\n",
              "  '03',\n",
              "  '09',\n",
              "  '02',\n",
              "  '06',\n",
              "  '07',\n",
              "  '07',\n",
              "  '03',\n",
              "  '10',\n",
              "  '11',\n",
              "  '09',\n",
              "  '09',\n",
              "  '08',\n",
              "  '06',\n",
              "  '08',\n",
              "  '04',\n",
              "  '12',\n",
              "  '03',\n",
              "  '10',\n",
              "  '02',\n",
              "  '08',\n",
              "  '10',\n",
              "  '11',\n",
              "  '02',\n",
              "  '09'],\n",
              " '1994': ['12',\n",
              "  '03',\n",
              "  '07',\n",
              "  '02',\n",
              "  '11',\n",
              "  '03',\n",
              "  '03',\n",
              "  '01',\n",
              "  '09',\n",
              "  '03',\n",
              "  '08',\n",
              "  '04',\n",
              "  '08',\n",
              "  '12',\n",
              "  '08',\n",
              "  '02',\n",
              "  '03',\n",
              "  '11',\n",
              "  '04',\n",
              "  '03',\n",
              "  '04',\n",
              "  '09',\n",
              "  '04',\n",
              "  '03',\n",
              "  '08',\n",
              "  '02',\n",
              "  '10',\n",
              "  '07',\n",
              "  '12'],\n",
              " '1992': ['07',\n",
              "  '11',\n",
              "  '09',\n",
              "  '08',\n",
              "  '08',\n",
              "  '12',\n",
              "  '11',\n",
              "  '06',\n",
              "  '10',\n",
              "  '10',\n",
              "  '06',\n",
              "  '03',\n",
              "  '07',\n",
              "  '12',\n",
              "  '10',\n",
              "  '03',\n",
              "  '01',\n",
              "  '10',\n",
              "  '03',\n",
              "  '01',\n",
              "  '09',\n",
              "  '12',\n",
              "  '08',\n",
              "  '04',\n",
              "  '04',\n",
              "  '10'],\n",
              " '1987': ['11', '10', '11', '06', '10', '02'],\n",
              " '2000': ['06',\n",
              "  '10',\n",
              "  '06',\n",
              "  '09',\n",
              "  '09',\n",
              "  '08',\n",
              "  '01',\n",
              "  '06',\n",
              "  '01',\n",
              "  '11',\n",
              "  '02',\n",
              "  '01',\n",
              "  '11',\n",
              "  '09',\n",
              "  '01',\n",
              "  '06',\n",
              "  '02',\n",
              "  '11',\n",
              "  '09',\n",
              "  '09',\n",
              "  '06',\n",
              "  '12',\n",
              "  '11',\n",
              "  '03',\n",
              "  '09',\n",
              "  '08',\n",
              "  '11',\n",
              "  '02',\n",
              "  '07'],\n",
              " '1991': ['01',\n",
              "  '03',\n",
              "  '07',\n",
              "  '03',\n",
              "  '07',\n",
              "  '09',\n",
              "  '03',\n",
              "  '08',\n",
              "  '06',\n",
              "  '09',\n",
              "  '07',\n",
              "  '08',\n",
              "  '07',\n",
              "  '04',\n",
              "  '07',\n",
              "  '02',\n",
              "  '10',\n",
              "  '11',\n",
              "  '03'],\n",
              " '1996': ['01',\n",
              "  '11',\n",
              "  '10',\n",
              "  '08',\n",
              "  '01',\n",
              "  '08',\n",
              "  '10',\n",
              "  '08',\n",
              "  '09',\n",
              "  '12',\n",
              "  '09',\n",
              "  '04',\n",
              "  '03',\n",
              "  '06',\n",
              "  '03',\n",
              "  '02',\n",
              "  '10',\n",
              "  '10',\n",
              "  '04',\n",
              "  '09',\n",
              "  '09',\n",
              "  '09',\n",
              "  '11',\n",
              "  '02',\n",
              "  '07',\n",
              "  '03',\n",
              "  '08',\n",
              "  '03',\n",
              "  '06',\n",
              "  '11',\n",
              "  '02',\n",
              "  '09',\n",
              "  '03'],\n",
              " '1988': ['12',\n",
              "  '07',\n",
              "  '03',\n",
              "  '09',\n",
              "  '08',\n",
              "  '12',\n",
              "  '07',\n",
              "  '04',\n",
              "  '04',\n",
              "  '09',\n",
              "  '08',\n",
              "  '01',\n",
              "  '08',\n",
              "  '10',\n",
              "  '07',\n",
              "  '11',\n",
              "  '06'],\n",
              " '1989': ['07',\n",
              "  '12',\n",
              "  '04',\n",
              "  '09',\n",
              "  '06',\n",
              "  '08',\n",
              "  '08',\n",
              "  '03',\n",
              "  '08',\n",
              "  '04',\n",
              "  '09',\n",
              "  '09',\n",
              "  '07',\n",
              "  '06'],\n",
              " '1990': ['11',\n",
              "  '08',\n",
              "  '12',\n",
              "  '12',\n",
              "  '07',\n",
              "  '08',\n",
              "  '01',\n",
              "  '11',\n",
              "  '03',\n",
              "  '06',\n",
              "  '03',\n",
              "  '06',\n",
              "  '04',\n",
              "  '07',\n",
              "  '03',\n",
              "  '10',\n",
              "  '09',\n",
              "  '02',\n",
              "  '10',\n",
              "  '09'],\n",
              " '2002': ['03', '10', '02', '01', '03', '10', '02', '12', '07', '09', '08'],\n",
              " '1986': ['08', '08', '06', '03', '10', '02', '10'],\n",
              " '1980': ['06'],\n",
              " '1984': ['01', '12']}"
            ]
          },
          "metadata": {},
          "execution_count": 77
        }
      ]
    },
    {
      "cell_type": "markdown",
      "metadata": {
        "id": "c3cc6b89-e698-4943-8562-160190b9cbd0"
      },
      "source": [
        "Let's have another look at our previously generated dataset. "
      ],
      "id": "c3cc6b89-e698-4943-8562-160190b9cbd0"
    },
    {
      "cell_type": "code",
      "source": [
        "data['Salary']"
      ],
      "metadata": {
        "colab": {
          "base_uri": "https://localhost:8080/"
        },
        "id": "oGaLsYo0IQrv",
        "outputId": "95791c0d-d93b-4eaf-b56b-dd68507362c4"
      },
      "id": "oGaLsYo0IQrv",
      "execution_count": null,
      "outputs": [
        {
          "output_type": "execute_result",
          "data": {
            "text/plain": [
              "0       2711280\n",
              "1      17073171\n",
              "2      28103550\n",
              "3       1994520\n",
              "4       2641691\n",
              "         ...   \n",
              "455    14190000\n",
              "456     8326471\n",
              "457     1489065\n",
              "458     2389641\n",
              "459     7518518\n",
              "Name: Salary, Length: 459, dtype: int64"
            ]
          },
          "metadata": {},
          "execution_count": 3
        }
      ]
    },
    {
      "cell_type": "markdown",
      "metadata": {
        "id": "e098b76d-c520-474b-9998-a263354fe27b"
      },
      "source": [
        "1.1. Plot all players statistics (\"PTS\", \"REB\", \"AST\",\"STL\",\"BLK\") against salary"
      ],
      "id": "e098b76d-c520-474b-9998-a263354fe27b"
    },
    {
      "cell_type": "code",
      "execution_count": null,
      "metadata": {
        "colab": {
          "base_uri": "https://localhost:8080/",
          "height": 530
        },
        "id": "50d589f1-25c1-48f8-88f3-e2c7f0e72625",
        "outputId": "42be796d-8644-4aa6-f3f4-5a569571ba3a"
      },
      "outputs": [
        {
          "output_type": "execute_result",
          "data": {
            "text/plain": [
              "<matplotlib.axes._subplots.AxesSubplot at 0x7f8a93edbed0>"
            ]
          },
          "metadata": {},
          "execution_count": 4
        },
        {
          "output_type": "display_data",
          "data": {
            "text/plain": [
              "<Figure size 2160x576 with 5 Axes>"
            ],
            "image/png": "[encoded data removed]"
          },
          "metadata": {}
        }
      ],
      "source": [
        "# Plot the relationship between the salary and the following variables:\"PTS\", \"REB\", \"AST\",\"STL\",\"BLK\"\n",
        "\n",
        "df = pd.DataFrame(data)\n",
        "\n",
        "sns.set(rc={'figure.figsize':(30,8)})\n",
        "\n",
        "fig, axs = plt.subplots(ncols=5)\n",
        "\n",
        "sns.scatterplot(data = df, x=\"PTS\", y=\"Salary\", ax = axs[0])\n",
        "sns.scatterplot(data = df, x=\"REB\", y=\"Salary\", ax = axs[1])\n",
        "sns.scatterplot(data = df, x=\"AST\", y=\"Salary\", ax = axs[2])\n",
        "sns.scatterplot(data = df, x=\"STL\", y=\"Salary\", ax = axs[3])\n",
        "sns.scatterplot(data = df, x=\"BLK\", y=\"Salary\", ax = axs[4])"
      ],
      "id": "50d589f1-25c1-48f8-88f3-e2c7f0e72625"
    },
    {
      "cell_type": "markdown",
      "metadata": {
        "id": "bbf0fe81-4aed-4dd9-8500-0919b4ec1e07"
      },
      "source": [
        "1.2. What can we say about these distributions?"
      ],
      "id": "bbf0fe81-4aed-4dd9-8500-0919b4ec1e07"
    },
    {
      "cell_type": "code",
      "execution_count": null,
      "metadata": {
        "colab": {
          "base_uri": "https://localhost:8080/",
          "height": 238
        },
        "id": "12b0fd30-0860-4ac3-8d52-5b072f1fd822",
        "outputId": "6b96d703-9cfd-47d6-d685-f848048fb49a"
      },
      "outputs": [
        {
          "output_type": "execute_result",
          "data": {
            "text/plain": [
              "          Salary       PTS       REB       AST       STL       BLK\n",
              "Salary  1.000000  0.732907  0.435228  0.560400  0.532968  0.241079\n",
              "PTS     0.732907  1.000000  0.566228  0.675474  0.629975  0.273726\n",
              "REB     0.435228  0.566228  1.000000  0.214233  0.356387  0.714334\n",
              "AST     0.560400  0.675474  0.214233  1.000000  0.727288 -0.074422\n",
              "STL     0.532968  0.629975  0.356387  0.727288  1.000000  0.141599\n",
              "BLK     0.241079  0.273726  0.714334 -0.074422  0.141599  1.000000"
            ],
            "text/html": [
              "\n",
              "  <div id=\"df-104bd138-c949-413e-b6fa-be3edf09761f\">\n",
              "    <div class=\"colab-df-container\">\n",
              "      <div>\n",
              "<style scoped>\n",
              "    .dataframe tbody tr th:only-of-type {\n",
              "        vertical-align: middle;\n",
              "    }\n",
              "\n",
              "    .dataframe tbody tr th {\n",
              "        vertical-align: top;\n",
              "    }\n",
              "\n",
              "    .dataframe thead th {\n",
              "        text-align: right;\n",
              "    }\n",
              "</style>\n",
              "<table border=\"1\" class=\"dataframe\">\n",
              "  <thead>\n",
              "    <tr style=\"text-align: right;\">\n",
              "      <th></th>\n",
              "      <th>Salary</th>\n",
              "      <th>PTS</th>\n",
              "      <th>REB</th>\n",
              "      <th>AST</th>\n",
              "      <th>STL</th>\n",
              "      <th>BLK</th>\n",
              "    </tr>\n",
              "  </thead>\n",
              "  <tbody>\n",
              "    <tr>\n",
              "      <th>Salary</th>\n",
              "      <td>1.000000</td>\n",
              "      <td>0.732907</td>\n",
              "      <td>0.435228</td>\n",
              "      <td>0.560400</td>\n",
              "      <td>0.532968</td>\n",
              "      <td>0.241079</td>\n",
              "    </tr>\n",
              "    <tr>\n",
              "      <th>PTS</th>\n",
              "      <td>0.732907</td>\n",
              "      <td>1.000000</td>\n",
              "      <td>0.566228</td>\n",
              "      <td>0.675474</td>\n",
              "      <td>0.629975</td>\n",
              "      <td>0.273726</td>\n",
              "    </tr>\n",
              "    <tr>\n",
              "      <th>REB</th>\n",
              "      <td>0.435228</td>\n",
              "      <td>0.566228</td>\n",
              "      <td>1.000000</td>\n",
              "      <td>0.214233</td>\n",
              "      <td>0.356387</td>\n",
              "      <td>0.714334</td>\n",
              "    </tr>\n",
              "    <tr>\n",
              "      <th>AST</th>\n",
              "      <td>0.560400</td>\n",
              "      <td>0.675474</td>\n",
              "      <td>0.214233</td>\n",
              "      <td>1.000000</td>\n",
              "      <td>0.727288</td>\n",
              "      <td>-0.074422</td>\n",
              "    </tr>\n",
              "    <tr>\n",
              "      <th>STL</th>\n",
              "      <td>0.532968</td>\n",
              "      <td>0.629975</td>\n",
              "      <td>0.356387</td>\n",
              "      <td>0.727288</td>\n",
              "      <td>1.000000</td>\n",
              "      <td>0.141599</td>\n",
              "    </tr>\n",
              "    <tr>\n",
              "      <th>BLK</th>\n",
              "      <td>0.241079</td>\n",
              "      <td>0.273726</td>\n",
              "      <td>0.714334</td>\n",
              "      <td>-0.074422</td>\n",
              "      <td>0.141599</td>\n",
              "      <td>1.000000</td>\n",
              "    </tr>\n",
              "  </tbody>\n",
              "</table>\n",
              "</div>\n",
              "      <button class=\"colab-df-convert\" onclick=\"convertToInteractive('df-104bd138-c949-413e-b6fa-be3edf09761f')\"\n",
              "              title=\"Convert this dataframe to an interactive table.\"\n",
              "              style=\"display:none;\">\n",
              "        \n",
              "  <svg xmlns=\"http://www.w3.org/2000/svg\" height=\"24px\"viewBox=\"0 0 24 24\"\n",
              "       width=\"24px\">\n",
              "    <path d=\"M0 0h24v24H0V0z\" fill=\"none\"/>\n",
              "    <path d=\"M18.56 5.44l.94 2.06.94-2.06 2.06-.94-2.06-.94-.94-2.06-.94 2.06-2.06.94zm-11 1L8.5 8.5l.94-2.06 2.06-.94-2.06-.94L8.5 2.5l-.94 2.06-2.06.94zm10 10l.94 2.06.94-2.06 2.06-.94-2.06-.94-.94-2.06-.94 2.06-2.06.94z\"/><path d=\"M17.41 7.96l-1.37-1.37c-.4-.4-.92-.59-1.43-.59-.52 0-1.04.2-1.43.59L10.3 9.45l-7.72 7.72c-.78.78-.78 2.05 0 2.83L4 21.41c.39.39.9.59 1.41.59.51 0 1.02-.2 1.41-.59l7.78-7.78 2.81-2.81c.8-.78.8-2.07 0-2.86zM5.41 20L4 18.59l7.72-7.72 1.47 1.35L5.41 20z\"/>\n",
              "  </svg>\n",
              "      </button>\n",
              "      \n",
              "  <style>\n",
              "    .colab-df-container {\n",
              "      display:flex;\n",
              "      flex-wrap:wrap;\n",
              "      gap: 12px;\n",
              "    }\n",
              "\n",
              "    .colab-df-convert {\n",
              "      background-color: #E8F0FE;\n",
              "      border: none;\n",
              "      border-radius: 50%;\n",
              "      cursor: pointer;\n",
              "      display: none;\n",
              "      fill: #1967D2;\n",
              "      height: 32px;\n",
              "      padding: 0 0 0 0;\n",
              "      width: 32px;\n",
              "    }\n",
              "\n",
              "    .colab-df-convert:hover {\n",
              "      background-color: #E2EBFA;\n",
              "      box-shadow: 0px 1px 2px rgba(60, 64, 67, 0.3), 0px 1px 3px 1px rgba(60, 64, 67, 0.15);\n",
              "      fill: #174EA6;\n",
              "    }\n",
              "\n",
              "    [theme=dark] .colab-df-convert {\n",
              "      background-color: #3B4455;\n",
              "      fill: #D2E3FC;\n",
              "    }\n",
              "\n",
              "    [theme=dark] .colab-df-convert:hover {\n",
              "      background-color: #434B5C;\n",
              "      box-shadow: 0px 1px 3px 1px rgba(0, 0, 0, 0.15);\n",
              "      filter: drop-shadow(0px 1px 2px rgba(0, 0, 0, 0.3));\n",
              "      fill: #FFFFFF;\n",
              "    }\n",
              "  </style>\n",
              "\n",
              "      <script>\n",
              "        const buttonEl =\n",
              "          document.querySelector('#df-104bd138-c949-413e-b6fa-be3edf09761f button.colab-df-convert');\n",
              "        buttonEl.style.display =\n",
              "          google.colab.kernel.accessAllowed ? 'block' : 'none';\n",
              "\n",
              "        async function convertToInteractive(key) {\n",
              "          const element = document.querySelector('#df-104bd138-c949-413e-b6fa-be3edf09761f');\n",
              "          const dataTable =\n",
              "            await google.colab.kernel.invokeFunction('convertToInteractive',\n",
              "                                                     [key], {});\n",
              "          if (!dataTable) return;\n",
              "\n",
              "          const docLinkHtml = 'Like what you see? Visit the ' +\n",
              "            '<a target=\"_blank\" href=https://colab.research.google.com/notebooks/data_table.ipynb>data table notebook</a>'\n",
              "            + ' to learn more about interactive tables.';\n",
              "          element.innerHTML = '';\n",
              "          dataTable['output_type'] = 'display_data';\n",
              "          await google.colab.output.renderOutput(dataTable, element);\n",
              "          const docLink = document.createElement('div');\n",
              "          docLink.innerHTML = docLinkHtml;\n",
              "          element.appendChild(docLink);\n",
              "        }\n",
              "      </script>\n",
              "    </div>\n",
              "  </div>\n",
              "  "
            ]
          },
          "metadata": {},
          "execution_count": 5
        }
      ],
      "source": [
        "# As we can see with the .corr() function, the strongest relationships with salary are 1 PTS / 2 AST / 3 STL / 4 REB / 5 BLK\n",
        "\n",
        "df[[\"Salary\",\"PTS\",\"REB\",\"AST\",\"STL\",\"BLK\"]].corr()"
      ],
      "id": "12b0fd30-0860-4ac3-8d52-5b072f1fd822"
    },
    {
      "cell_type": "markdown",
      "metadata": {
        "id": "17735366-22bf-4cd8-a392-9dfb01652da0"
      },
      "source": [
        "### Splitting the Dataset"
      ],
      "id": "17735366-22bf-4cd8-a392-9dfb01652da0"
    },
    {
      "cell_type": "markdown",
      "metadata": {
        "id": "02450fb0-829c-420b-b65c-ea553a9a81a2"
      },
      "source": [
        "1.3. Split the dataset into train and testing sets. Use the Sklearn function for train/test splitting. Make sure to set the random state for reproducibility.\n",
        "\n",
        "**Note:** Before using scikit-learn `train_test_split()`, separate your dataframe into features and labels. Assign your features to `X` variable and labels to `y`."
      ],
      "id": "02450fb0-829c-420b-b65c-ea553a9a81a2"
    },
    {
      "cell_type": "code",
      "execution_count": null,
      "metadata": {
        "id": "d532e0fb-e478-48a0-971b-1ad1d428fe95"
      },
      "outputs": [],
      "source": [
        "# TODO: Put here your features\n",
        "X = df.iloc[:, df.columns != \"Salary\"]\n",
        "\n",
        "# TODO: Put here your labels\n",
        "y = df[\"Salary\"]\n",
        "\n",
        "# TODO: Now use train_test_split()\n",
        "Xtr , Xte, Ytr, Yte = train_test_split(X, y, test_size=0.8, random_state=42)"
      ],
      "id": "d532e0fb-e478-48a0-971b-1ad1d428fe95"
    },
    {
      "cell_type": "markdown",
      "metadata": {
        "id": "5TpInGhkR6fo"
      },
      "source": [
        "### *Don't change anything in this cell, just make it run correctly*"
      ],
      "id": "5TpInGhkR6fo"
    },
    {
      "cell_type": "code",
      "execution_count": null,
      "metadata": {
        "colab": {
          "base_uri": "https://localhost:8080/"
        },
        "id": "YDyKX-LUR7Xo",
        "outputId": "a1d83a49-f63a-4792-c0f9-95d215030bc9"
      },
      "outputs": [
        {
          "output_type": "stream",
          "name": "stdout",
          "text": [
            "Success!\n",
            "Success!\n"
          ]
        }
      ],
      "source": [
        "if X.SEASON_EXP[322] == 3 and y[255] == 5000000:\n",
        "  print('Success!')\n",
        "else:\n",
        "  raise ValueError('The draft categories are incorrect, please review your function')\n",
        "\n",
        "if X.shape == (459, 19) and y.shape == (459,):\n",
        "  print('Success!')\n",
        "else:\n",
        "  raise ValueError('Your features/labels shape is incorrect, please review your code')\n"
      ],
      "id": "YDyKX-LUR7Xo"
    },
    {
      "cell_type": "markdown",
      "metadata": {
        "id": "6aec0deb-7efe-438c-8a4a-39f940aeb474"
      },
      "source": [
        "### Baseline Model and Evaluation Metric"
      ],
      "id": "6aec0deb-7efe-438c-8a4a-39f940aeb474"
    },
    {
      "cell_type": "markdown",
      "metadata": {
        "id": "40ca78ad-8dc1-4b13-99bd-27dcd138a809"
      },
      "source": [
        "In every project, we need a baseline model that implements a very simple algorithm or heuristic so we can compare our results with it. \n",
        "In this case, we could create a function that always returns the average player salary, evaluate that, and then compare the result with our modeling to see if we are improving. "
      ],
      "id": "40ca78ad-8dc1-4b13-99bd-27dcd138a809"
    },
    {
      "cell_type": "markdown",
      "metadata": {
        "id": "71a7eb29-2bdf-4faf-93e9-3206dbc9cca2"
      },
      "source": [
        "We need an evaluation metric to see how well our models fit the data. For this project we will use [Mean Absolute Error](https://scikit-learn.org/stable/modules/generated/sklearn.metrics.mean_absolute_error.html#sklearn.metrics.mean_absolute_error) as our regression evaluation metric, because it is a really simple metric to interpret. A lower value means the model performs better. \n",
        "\n",
        "For this particular problem, we will always round the value, as we don't need decimals for this task."
      ],
      "id": "71a7eb29-2bdf-4faf-93e9-3206dbc9cca2"
    },
    {
      "cell_type": "markdown",
      "metadata": {
        "id": "cefd619d-e6b0-4e70-acf8-f0f4a90fe896"
      },
      "source": [
        "1.4. Create a Baseline model class that implements  fit() and predict() methods. As this model will not consider any other variable, the fit method should only receive a list of all players salaries. The predict method should receive and iterable and return a numpy array with the same length but every element should have the same value (the average salary)"
      ],
      "id": "cefd619d-e6b0-4e70-acf8-f0f4a90fe896"
    },
    {
      "cell_type": "code",
      "execution_count": null,
      "metadata": {
        "id": "8ee01164-1ef2-44dc-8baa-74b630444577"
      },
      "outputs": [],
      "source": [
        "\n",
        "class BaselineModel():\n",
        "  \"\"\"\n",
        "  A baseline model that always returns the same value, the mean of the \n",
        "  players salary in the train data\n",
        "  \"\"\"\n",
        "  \n",
        "  def fit(self, y_train):\n",
        "    \"\"\"\n",
        "    Fit the training data. \n",
        "    \n",
        "    Parameters\n",
        "    ----------\n",
        "    y_train: Union[pd.Series, np.ndarray]\n",
        "        a pandas series or numpy array containing salary information\n",
        "    \"\"\"\n",
        "    \n",
        "    self.avg = y_train.mean()\n",
        "  \n",
        "  def predict(self, X):\n",
        "    \"\"\"\n",
        "    Predict salaries \n",
        "    \n",
        "    Parameters\n",
        "    ----------\n",
        "    X: Union[pd.DataFrame, pd.Series, np.ndarray]\n",
        "        a pandas series, dataframe or numpy array with the \n",
        "        \n",
        "    Returns\n",
        "    -------\n",
        "    np.ndarray\n",
        "        a numpy array of the same length as X, with all elements equal to \n",
        "        the mean salary calculated in fit()\n",
        "    \"\"\"\n",
        "\n",
        "    shape = X.shape\n",
        "    \n",
        "    array = np.full(shape[0], self.avg)\n",
        "    \n",
        "    return array"
      ],
      "id": "8ee01164-1ef2-44dc-8baa-74b630444577"
    },
    {
      "cell_type": "markdown",
      "metadata": {
        "id": "6a1a8134-48a4-4c66-84d2-39030242ef5f"
      },
      "source": [
        "1.5. Evaluate the performance of our BaselineModel on the test set using mean_absolute_error from Sklearn (round the result)"
      ],
      "id": "6a1a8134-48a4-4c66-84d2-39030242ef5f"
    },
    {
      "cell_type": "code",
      "execution_count": null,
      "metadata": {
        "colab": {
          "base_uri": "https://localhost:8080/"
        },
        "id": "fb72f39b-e7fc-4cd8-bd23-ee4407a80eed",
        "outputId": "b7ee783c-422f-4b5d-8858-16ee6b88d46a"
      },
      "outputs": [
        {
          "output_type": "execute_result",
          "data": {
            "text/plain": [
              "7230289"
            ]
          },
          "metadata": {},
          "execution_count": 16
        }
      ],
      "source": [
        "# Check the error of our basic baseline\n",
        "\n",
        "bas_mod = BaselineModel()\n",
        "\n",
        "bas_mod.fit(Ytr)\n",
        "\n",
        "y_prediction = bas_mod.predict(X)\n",
        "\n",
        "error = mean_absolute_error(y , y_prediction)\n",
        "\n",
        "error = round(error)\n",
        "\n",
        "baseline_mae = error\n",
        "\n",
        "baseline_mae "
      ],
      "id": "fb72f39b-e7fc-4cd8-bd23-ee4407a80eed"
    },
    {
      "cell_type": "markdown",
      "metadata": {
        "id": "fc4dff42-e36c-478d-bfd3-7541f3f36f16"
      },
      "source": [
        "### Regression with a single variable"
      ],
      "id": "fc4dff42-e36c-478d-bfd3-7541f3f36f16"
    },
    {
      "cell_type": "markdown",
      "metadata": {
        "id": "c9597b03-31fd-4a9c-8dad-9479666355cd"
      },
      "source": [
        "You're now going to start modeling data. We will start with a really simple approach, selecting just one variable, and doing a regression to see if we improve upon our baseline.\n"
      ],
      "id": "c9597b03-31fd-4a9c-8dad-9479666355cd"
    },
    {
      "cell_type": "markdown",
      "metadata": {
        "id": "af92eeac-cbfb-45cb-8626-246332c69624"
      },
      "source": [
        "1.6. Select the variable you think would provide the best fit. Perform feature scaling on this variable using a Sklearn scaler."
      ],
      "id": "af92eeac-cbfb-45cb-8626-246332c69624"
    },
    {
      "cell_type": "code",
      "execution_count": null,
      "metadata": {
        "id": "173f1211-95e2-4bcb-ba7d-a40c516b4c24"
      },
      "outputs": [],
      "source": [
        "# Scale the values ​​of the PTS column\n",
        "\n",
        "df_reshape_pts = Xtr[\"PTS\"].values.reshape(-1, 1)\n",
        "\n",
        "scaler = StandardScaler()\n",
        "\n",
        "Xtr_1 = scaler.fit_transform(df_reshape_pts)\n",
        "\n",
        "Ytr_1  = Ytr.values.reshape(-1, 1)"
      ],
      "id": "173f1211-95e2-4bcb-ba7d-a40c516b4c24"
    },
    {
      "cell_type": "markdown",
      "metadata": {
        "id": "1c490e55-2bff-4a06-a01e-c6859d7edb52"
      },
      "source": [
        "1.7. Train a model with [SGDRegressor](https://scikit-learn.org/stable/modules/generated/sklearn.linear_model.SGDRegressor.html) from Sklearn using the default parameters. Evaluate the model's performance on the test set using the selected metric."
      ],
      "id": "1c490e55-2bff-4a06-a01e-c6859d7edb52"
    },
    {
      "cell_type": "code",
      "execution_count": null,
      "metadata": {
        "id": "15d198ad-a601-4722-937b-3be52090c8d1",
        "colab": {
          "base_uri": "https://localhost:8080/"
        },
        "outputId": "8038c48d-759b-4c89-f209-dd1da6e3a237"
      },
      "outputs": [
        {
          "output_type": "execute_result",
          "data": {
            "text/plain": [
              "4663742.589804683"
            ]
          },
          "metadata": {},
          "execution_count": 141
        }
      ],
      "source": [
        "# Train the SGDRegressor model with the scaled variables\n",
        "\n",
        "sgdr = SGDRegressor()\n",
        "\n",
        "sgdr.fit(Xtr_1, Ytr_1.ravel())\n",
        "\n",
        "y_prediction_1 = sgdr.predict(Xtr_1)\n",
        "\n",
        "error_1 = mean_absolute_error(Ytr_1 , y_prediction_1)\n",
        "\n",
        "error_1"
      ],
      "id": "15d198ad-a601-4722-937b-3be52090c8d1"
    },
    {
      "cell_type": "markdown",
      "metadata": {
        "id": "e87147d9-5b57-4984-9f0d-e595cd6d15d3"
      },
      "source": [
        "1.8. Read the Sklearn documentation, and write a function that tries different configurations for the hyperparameters for training: epochs, learning rate and alpha. For each combination of parameters, evaluate the trained algorithm on the test set, then save the results of each hyperparameter combination, finally select the one that has the best MAE (meaning the lowest number) and print the combination and the MAE."
      ],
      "id": "e87147d9-5b57-4984-9f0d-e595cd6d15d3"
    },
    {
      "cell_type": "code",
      "execution_count": null,
      "metadata": {
        "id": "9e1f26f4-1eb4-4ecc-bfc2-9d8583f00d0d"
      },
      "outputs": [],
      "source": [
        "def search_best_hyperparameters(max_iter, eta0, Xtr, Ytr):\n",
        "  \n",
        "  \n",
        "  # List where we gonna save all the combinations\n",
        "  \n",
        "  empty_list = []\n",
        "\n",
        "\n",
        "  # List where we gonna save the maes \n",
        "  \n",
        "  min_mae_list = []\n",
        "\n",
        "  \n",
        "  # Loop making all the combinations of hyperparameters in the SGDRegressor model\n",
        "\n",
        "  for val in max_iter:\n",
        "    \n",
        "    a = val\n",
        "    \n",
        "    for val in eta0:\n",
        "\n",
        "        b = val\n",
        "    \n",
        "        sgdr = SGDRegressor(max_iter = a , learning_rate = \"adaptive\", eta0 = b, random_state = 42) \n",
        "  \n",
        "        sgdr.fit(Xtr, Ytr.ravel())\n",
        "  \n",
        "        y_prediction = sgdr.predict(Xtr)\n",
        "  \n",
        "        error_1 = mean_absolute_error(Ytr , y_prediction)\n",
        "\n",
        "        listval = [a, b, error_1]\n",
        "\n",
        "        empty_list.append(listval)\n",
        "\n",
        "  \n",
        "  # Getting the best hyperparameters\n",
        "  for val in empty_list: \n",
        "\n",
        "    x = val[2]\n",
        "    \n",
        "    min_mae_list.append(x)\n",
        "\n",
        "  min_mae_real =  min_mae_list.index(min(min_mae_list))\n",
        "  \n",
        "  result_values  = empty_list[min_mae_real]\n",
        "  \n",
        "  result = {\n",
        "    \"hyperparameters\": {\"max_iter\": result_values[0], \"eta0\": result_values[1]}, \n",
        "    \"mae\": result_values[2] } \n",
        "    \n",
        "  return result"
      ],
      "id": "9e1f26f4-1eb4-4ecc-bfc2-9d8583f00d0d"
    },
    {
      "cell_type": "code",
      "execution_count": null,
      "metadata": {
        "id": "BbUxcRRdM29k",
        "colab": {
          "base_uri": "https://localhost:8080/"
        },
        "outputId": "76c0bc9e-87fe-4eaf-8056-d0d5856ffbe3"
      },
      "outputs": [
        {
          "output_type": "stream",
          "name": "stderr",
          "text": [
            "/usr/local/lib/python3.7/dist-packages/sklearn/linear_model/_stochastic_gradient.py:1507: ConvergenceWarning: Maximum number of iteration reached before convergence. Consider increasing max_iter to improve the fit.\n",
            "  ConvergenceWarning,\n",
            "/usr/local/lib/python3.7/dist-packages/sklearn/linear_model/_stochastic_gradient.py:1507: ConvergenceWarning: Maximum number of iteration reached before convergence. Consider increasing max_iter to improve the fit.\n",
            "  ConvergenceWarning,\n",
            "/usr/local/lib/python3.7/dist-packages/sklearn/linear_model/_stochastic_gradient.py:1507: ConvergenceWarning: Maximum number of iteration reached before convergence. Consider increasing max_iter to improve the fit.\n",
            "  ConvergenceWarning,\n",
            "/usr/local/lib/python3.7/dist-packages/sklearn/linear_model/_stochastic_gradient.py:1507: ConvergenceWarning: Maximum number of iteration reached before convergence. Consider increasing max_iter to improve the fit.\n",
            "  ConvergenceWarning,\n"
          ]
        }
      ],
      "source": [
        "best_mae = search_best_hyperparameters([1000,100000,1000000], [0.0001, 0.001, 0.01, 0.1, 1], Xtr_1, Ytr_1)"
      ],
      "id": "BbUxcRRdM29k"
    },
    {
      "cell_type": "code",
      "execution_count": null,
      "metadata": {
        "colab": {
          "base_uri": "https://localhost:8080/"
        },
        "id": "95ffbb3b-d161-4a29-9c48-eaff18b82412",
        "outputId": "00f4f28b-b7f4-45ea-92ba-af6ff5e24cbd"
      },
      "outputs": [
        {
          "output_type": "stream",
          "name": "stdout",
          "text": [
            "{'hyperparameters': {'max_iter': 1000, 'eta0': 0.0001}, 'mae': 4663056.73301243}\n"
          ]
        },
        {
          "output_type": "stream",
          "name": "stderr",
          "text": [
            "/usr/local/lib/python3.7/dist-packages/sklearn/linear_model/_stochastic_gradient.py:1507: ConvergenceWarning: Maximum number of iteration reached before convergence. Consider increasing max_iter to improve the fit.\n",
            "  ConvergenceWarning,\n",
            "/usr/local/lib/python3.7/dist-packages/sklearn/linear_model/_stochastic_gradient.py:1507: ConvergenceWarning: Maximum number of iteration reached before convergence. Consider increasing max_iter to improve the fit.\n",
            "  ConvergenceWarning,\n",
            "/usr/local/lib/python3.7/dist-packages/sklearn/linear_model/_stochastic_gradient.py:1507: ConvergenceWarning: Maximum number of iteration reached before convergence. Consider increasing max_iter to improve the fit.\n",
            "  ConvergenceWarning,\n",
            "/usr/local/lib/python3.7/dist-packages/sklearn/linear_model/_stochastic_gradient.py:1507: ConvergenceWarning: Maximum number of iteration reached before convergence. Consider increasing max_iter to improve the fit.\n",
            "  ConvergenceWarning,\n"
          ]
        }
      ],
      "source": [
        "# Example list of hyperparameters values\n",
        "max_iter = [1000, 1000000]\n",
        "eta0 = [0.0001, 0.001, 0.01, 0.1]\n",
        "\n",
        "result = search_best_hyperparameters(max_iter, eta0, Xtr_1, Ytr_1)\n",
        "print(result)"
      ],
      "id": "95ffbb3b-d161-4a29-9c48-eaff18b82412"
    },
    {
      "cell_type": "markdown",
      "metadata": {
        "id": "776e0c7a-d592-4479-aec6-870edff61def"
      },
      "source": [
        "1.9. Compare the results of the baseline, the SGDRegressor with default parameters and the one with the best combination of hyperparameters you could find. (replace variables with the ones you used)"
      ],
      "id": "776e0c7a-d592-4479-aec6-870edff61def"
    },
    {
      "cell_type": "code",
      "execution_count": null,
      "metadata": {
        "colab": {
          "base_uri": "https://localhost:8080/"
        },
        "id": "2e520ef6-52ed-48dc-8450-03031f3a03a6",
        "outputId": "9cd0413d-110b-4e3c-8a88-59f87b9fe5ca"
      },
      "outputs": [
        {
          "output_type": "stream",
          "name": "stdout",
          "text": [
            "Mean Absolute Error for each model:\n",
            "Baseline: 7340760\n",
            "Default SGDRegressor: 4663742.589804683\n",
            "Best SGDRegressor: {'hyperparameters': {'max_iter': 1000, 'eta0': 0.0001}, 'mae': 4663056.73301243}\n"
          ]
        }
      ],
      "source": [
        "print(\"Mean Absolute Error for each model:\")\n",
        "print(f\"Baseline: {baseline_mae}\")\n",
        "print(f\"Default SGDRegressor: {error_1}\")\n",
        "print(f\"Best SGDRegressor: {best_mae}\")"
      ],
      "id": "2e520ef6-52ed-48dc-8450-03031f3a03a6"
    },
    {
      "cell_type": "markdown",
      "metadata": {
        "id": "19e281ec-d578-496d-9f5d-897a2e1986a2"
      },
      "source": [
        "### Multivariate Linear Regression"
      ],
      "id": "19e281ec-d578-496d-9f5d-897a2e1986a2"
    },
    {
      "cell_type": "markdown",
      "metadata": {
        "id": "4ff24d36-439a-478f-b0de-0021223f6e99"
      },
      "source": [
        "To improve our model, we will add more features to it. We will have to do some processing to our dataset to be able to use the data.\n",
        "We'll start with the following variables:"
      ],
      "id": "4ff24d36-439a-478f-b0de-0021223f6e99"
    },
    {
      "cell_type": "markdown",
      "metadata": {
        "id": "247f4716-496a-4040-9519-77f7a6839691"
      },
      "source": [
        "- Points\n",
        "- Rebounds\n",
        "- Assists\n",
        "- Blocks\n",
        "- Experience\n",
        "- Position\n",
        "- Draft Number\n"
      ],
      "id": "247f4716-496a-4040-9519-77f7a6839691"
    },
    {
      "cell_type": "markdown",
      "metadata": {
        "id": "7958f7ec-45a0-4deb-bb79-3daa756dbcca"
      },
      "source": [
        "1.10. Create a copy of the dataset generated in the first project that only has the following columns (and player id as an index) and name it mv_regression_df:\n",
        "\n",
        "[\"PTS\", \"REB\", \"AST\", \"BLK\", \"SEASON_EXP\", \"POSITION\", \"DRAFT_NUMBER\", \"SALARY\"]"
      ],
      "id": "7958f7ec-45a0-4deb-bb79-3daa756dbcca"
    },
    {
      "cell_type": "code",
      "execution_count": null,
      "metadata": {
        "id": "64b265b4-d4e5-40a6-a9c3-cce920ecaa1b"
      },
      "outputs": [],
      "source": [
        "# TODO: Complete here\n",
        "mv_regression_df = df[[\"PTS\", \"REB\", \"AST\", \"BLK\", \"SEASON_EXP\", \"POSITION\", \"DRAFT_NUMBER\", \"Salary\", \"PERSON_ID\"]]\n",
        "mv_regression_df = mv_regression_df.set_index(\"PERSON_ID\")"
      ],
      "id": "64b265b4-d4e5-40a6-a9c3-cce920ecaa1b"
    },
    {
      "cell_type": "markdown",
      "metadata": {
        "id": "tMQzDak1Nk2i"
      },
      "source": [
        "### *Don't change anything in this cell, just make it run correctly*"
      ],
      "id": "tMQzDak1Nk2i"
    },
    {
      "cell_type": "code",
      "execution_count": null,
      "metadata": {
        "colab": {
          "base_uri": "https://localhost:8080/"
        },
        "id": "l_gK5RQvJC0V",
        "outputId": "37a2c06a-d7b0-4120-a9d0-e274a795d420"
      },
      "outputs": [
        {
          "output_type": "stream",
          "name": "stdout",
          "text": [
            "Success!\n"
          ]
        }
      ],
      "source": [
        "if mv_regression_df.shape == (459, 8):\n",
        "  print('Success!')\n",
        "else:\n",
        "  raise ValueError('The shape is incorrect, please review your function')"
      ],
      "id": "l_gK5RQvJC0V"
    },
    {
      "cell_type": "markdown",
      "metadata": {
        "id": "4865eb6e-d85d-4283-a67c-93df46a5b72e"
      },
      "source": [
        "#### Feature Engineering"
      ],
      "id": "4865eb6e-d85d-4283-a67c-93df46a5b72e"
    },
    {
      "cell_type": "markdown",
      "metadata": {
        "id": "ec9b71e8-57aa-405a-8b3b-b0585a45d64d"
      },
      "source": [
        "1.11. Binning the DRAFT_NUMBER feature. Draft position directly impacts salaries during the first few years, but second round players and undrafted players don't have guaranteed contracts. So we're gonna divide the bins like this: \n",
        "\n",
        "       - 1 to 15: firstround_lottery\n",
        "       - 15 to 30: firstround_non_lottery\n",
        "       - 30 to 60: second_round\n",
        "       - Undrafted: undrafted\n",
        "       \n",
        "Create a new column named DRAFT using these 4 categories. Drop the draft number column."
      ],
      "id": "ec9b71e8-57aa-405a-8b3b-b0585a45d64d"
    },
    {
      "cell_type": "code",
      "execution_count": null,
      "metadata": {
        "id": "ql6GHsQuBZK9"
      },
      "outputs": [],
      "source": [
        "# Take the necessary actions to be able to create the draft column\n",
        "mv_regression_df[\"DRAFT_NUMBER\"].fillna(\"Undrafted\", inplace =  True)\n",
        "mv_regression_df[\"DRAFT_NUMBER\"].replace(\"Undrafted\", 0, inplace =  True)\n",
        "mv_regression_df[\"DRAFT_NUMBER\"] = mv_regression_df[\"DRAFT_NUMBER\"].astype(\"int\")"
      ],
      "id": "ql6GHsQuBZK9"
    },
    {
      "cell_type": "code",
      "execution_count": null,
      "metadata": {
        "id": "3ea6afa9-7df8-446c-b134-c832f3ca27b7"
      },
      "outputs": [],
      "source": [
        "# We create the draft column with its respective intervals between pick numbers\n",
        "labels = ['undrafted', 'firstround_lottery', 'firstround_non_lottery', 'second_round']\n",
        "bins = [-1 , 1, 15, 30, 60]\n",
        "mv_regression_df[\"DRAFT\"] = pd.cut(mv_regression_df[\"DRAFT_NUMBER\"], bins = bins, labels=  labels)"
      ],
      "id": "3ea6afa9-7df8-446c-b134-c832f3ca27b7"
    },
    {
      "cell_type": "markdown",
      "metadata": {
        "id": "TcTtv0OoN9Ov"
      },
      "source": [
        "### *Don't change anything in this cell, just make it run correctly*"
      ],
      "id": "TcTtv0OoN9Ov"
    },
    {
      "cell_type": "code",
      "execution_count": null,
      "metadata": {
        "colab": {
          "base_uri": "https://localhost:8080/"
        },
        "id": "E0mxpgq9K_eJ",
        "outputId": "844af600-f619-4b50-95b7-9fd4e709f181"
      },
      "outputs": [
        {
          "output_type": "stream",
          "name": "stdout",
          "text": [
            "Success!\n"
          ]
        }
      ],
      "source": [
        "if mv_regression_df[\"DRAFT\"].iloc[34] == 'firstround_non_lottery' and mv_regression_df[\"DRAFT\"].iloc[105] == 'undrafted':\n",
        "  print('Success!')\n",
        "else:\n",
        "  raise ValueError('The draft categories are incorrect, please review your function')"
      ],
      "id": "E0mxpgq9K_eJ"
    },
    {
      "cell_type": "markdown",
      "metadata": {
        "id": "37a55237-cb04-4c38-bef3-8c363f9dbe5c"
      },
      "source": [
        "1.12. Encode the categorical features: DRAFT, POSITION"
      ],
      "id": "37a55237-cb04-4c38-bef3-8c363f9dbe5c"
    },
    {
      "cell_type": "code",
      "execution_count": null,
      "metadata": {
        "id": "PDEfcsmGN1pu"
      },
      "outputs": [],
      "source": [
        "# Encode the categorical features in Draft and Position\n",
        "mv_regression_df = pd.get_dummies(mv_regression_df, columns = [\"DRAFT\", \"POSITION\"] )"
      ],
      "id": "PDEfcsmGN1pu"
    },
    {
      "cell_type": "markdown",
      "metadata": {
        "id": "0kqplv_vO4H3"
      },
      "source": [
        "### *Don't change anything in this cell, just make it run correctly*"
      ],
      "id": "0kqplv_vO4H3"
    },
    {
      "cell_type": "code",
      "execution_count": null,
      "metadata": {
        "colab": {
          "base_uri": "https://localhost:8080/"
        },
        "id": "RvdSf5VcO5Y1",
        "outputId": "60b9cebd-1219-41a4-d2c9-9aab10c0b1a5"
      },
      "outputs": [
        {
          "output_type": "stream",
          "name": "stdout",
          "text": [
            "Success!\n"
          ]
        }
      ],
      "source": [
        "if mv_regression_df[\"DRAFT_firstround_non_lottery\"].iloc[134] == 0 and mv_regression_df[\"POSITION_Forward\"].iloc[205] == 1:\n",
        "  print('Success!')\n",
        "else:\n",
        "  raise ValueError('The draft categories are incorrect, please review your function')"
      ],
      "id": "RvdSf5VcO5Y1"
    },
    {
      "cell_type": "markdown",
      "metadata": {
        "id": "9816d9d4-b44d-4bb7-9cad-156daee9dc50"
      },
      "source": [
        "#### Modeling"
      ],
      "id": "9816d9d4-b44d-4bb7-9cad-156daee9dc50"
    },
    {
      "cell_type": "markdown",
      "metadata": {
        "id": "1eb528f1-852e-428e-b97c-40b412985f98"
      },
      "source": [
        "1.13. Split the dataset into train and test. \n",
        "\n",
        "\n",
        "**Note 1:** Before using scikit-learn `train_test_split()`, separate your dataframe into features and labels. Assign your features to `X` variable and labels to `y`.\n",
        "\n",
        "**Note 2:** Remember to drop `DRAFT_NUMBER` column."
      ],
      "id": "1eb528f1-852e-428e-b97c-40b412985f98"
    },
    {
      "cell_type": "code",
      "execution_count": null,
      "metadata": {
        "id": "jfkHY3b5yoz9"
      },
      "outputs": [],
      "source": [
        "# Eliminate the Draft_number column\n",
        "mv_regression_df = mv_regression_df.drop(columns= \"DRAFT_NUMBER\")"
      ],
      "id": "jfkHY3b5yoz9"
    },
    {
      "cell_type": "code",
      "execution_count": null,
      "metadata": {
        "id": "7696efd0-94f8-49ce-846f-4fd24a01b0fd"
      },
      "outputs": [],
      "source": [
        "# TODO: Put here your features\n",
        "X = mv_regression_df[[\"PTS\", \"REB\", \"AST\", \"BLK\",\t\"SEASON_EXP\",\t\"DRAFT_undrafted\", \"DRAFT_firstround_lottery\", \"DRAFT_firstround_non_lottery\", \"DRAFT_second_round\", \"POSITION_Center\",\t\"POSITION_Forward\",\t\"POSITION_Guard\"]]\n",
        "\n",
        "# TODO: Put here your labels\n",
        "y = mv_regression_df[\"Salary\"]\n",
        "\n",
        "# TODO: Now use train_test_split()\n",
        "Xtr_2, Xte_2, Ytr_2, Yte_2 = train_test_split(X, y, test_size=0.7, random_state=42)"
      ],
      "id": "7696efd0-94f8-49ce-846f-4fd24a01b0fd"
    },
    {
      "cell_type": "markdown",
      "metadata": {
        "id": "O_hN_VyuQhxt"
      },
      "source": [
        "### *Don't change anything in this cell, just make it run correctly*"
      ],
      "id": "O_hN_VyuQhxt"
    },
    {
      "cell_type": "code",
      "execution_count": null,
      "metadata": {
        "colab": {
          "base_uri": "https://localhost:8080/"
        },
        "id": "R9r19mhiQiJh",
        "outputId": "f281a28f-5907-40e5-eb0b-1c10226dc173"
      },
      "outputs": [
        {
          "output_type": "stream",
          "name": "stdout",
          "text": [
            "Success!\n"
          ]
        }
      ],
      "source": [
        "if X.BLK.iloc[353] == 0.1 and y.iloc[400] == 4910000:\n",
        "  print('Success!')\n",
        "else:\n",
        "  raise ValueError('The draft categories are incorrect, please review your function')"
      ],
      "id": "R9r19mhiQiJh"
    },
    {
      "cell_type": "markdown",
      "metadata": {
        "id": "b2540df8-ac16-4ad1-b8cf-028f566faa06"
      },
      "source": [
        "1.14. Perform feature scaling in all the numerical features (\"PTS\", \"REB\", \"AST\", \"BLK\", \"SEASON_EXP\") except for draft number (which we will tackle next)."
      ],
      "id": "b2540df8-ac16-4ad1-b8cf-028f566faa06"
    },
    {
      "cell_type": "code",
      "execution_count": null,
      "metadata": {
        "id": "94c1b356-8f74-4a20-8b9d-9dd61b6e3dec"
      },
      "outputs": [],
      "source": [
        "# Feature scaling in all the numerical features (\"PTS\", \"REB\", \"AST\", \"BLK\", \"SEASON_EXP\") except for draft number \n",
        "cols_names = [\"PTS\", \"REB\", \"AST\", \"BLK\", \"SEASON_EXP\"]\n",
        "\n",
        "for col in cols_names:\n",
        "    \n",
        "    reshape = Xtr_2[col].values.reshape(-1, 1)\n",
        "\n",
        "    scaler = StandardScaler()\n",
        "\n",
        "    scaler.fit(reshape)\n",
        "\n",
        "    reshape_column = scaler.transform(reshape)\n",
        "\n",
        "    Xtr_2[col] = reshape_column\n"
      ],
      "id": "94c1b356-8f74-4a20-8b9d-9dd61b6e3dec"
    },
    {
      "cell_type": "markdown",
      "metadata": {
        "id": "7790c25a-b516-4e3f-b311-6e5b026bfb80"
      },
      "source": [
        "1.15. Write a function to train a SGDRegressor model with the new dataset, trying different hyperparameters, and selecting the one that performs the best."
      ],
      "id": "7790c25a-b516-4e3f-b311-6e5b026bfb80"
    },
    {
      "cell_type": "code",
      "execution_count": null,
      "metadata": {
        "id": "7d8642f3-895c-4d8d-85b7-80a087a0adef"
      },
      "outputs": [],
      "source": [
        "def search_best_hyperparameters_2(max_iter, eta0_, Xtr, Ytr):\n",
        "  \n",
        "  empty_list = []\n",
        "\n",
        "  min_mae_list = []\n",
        "  \n",
        "  # Loop to get the best hyperparameters\n",
        "  for val in max_iter:\n",
        "    \n",
        "    a = val\n",
        "    \n",
        "    for val in eta0:\n",
        "\n",
        "        b = val\n",
        "    \n",
        "        sgdr = SGDRegressor(max_iter = a , learning_rate = \"adaptive\", eta0 = b, random_state = 42) \n",
        "  \n",
        "        sgdr.fit(Xtr, Ytr)\n",
        "  \n",
        "        y_prediction = sgdr.predict(Xtr)\n",
        "  \n",
        "        error_1 = mean_absolute_error(Ytr , y_prediction)\n",
        "\n",
        "        listval = [a, b, error_1]\n",
        "\n",
        "        empty_list.append(listval)\n",
        "\n",
        "\n",
        "  # Get the best hyperparameters\n",
        "  for val in empty_list: \n",
        "\n",
        "    x = val[2]\n",
        "    \n",
        "    min_mae_list.append(x)\n",
        "\n",
        "  min_mae_real =  min_mae_list.index(min(min_mae_list))\n",
        "  \n",
        "  result_values  = empty_list[min_mae_real]\n",
        "  \n",
        "  result = {\n",
        "    \n",
        "    \"hyperparameters\": {\"max_iter\": result_values[0], \"eta0\": result_values[1]}, \n",
        "    \"mae\": result_values[2] } \n",
        "    \n",
        "  return result"
      ],
      "id": "7d8642f3-895c-4d8d-85b7-80a087a0adef"
    },
    {
      "cell_type": "code",
      "execution_count": null,
      "metadata": {
        "id": "mRYQyJx94y3P"
      },
      "outputs": [],
      "source": [
        "best_mae_pluvariate = search_best_hyperparameters_2([100000, 1000000, 100000000], [0.0001, 0.001, 0.01, 0.1, 1], Xtr_2, Ytr_2)\n"
      ],
      "id": "mRYQyJx94y3P"
    },
    {
      "cell_type": "code",
      "execution_count": null,
      "metadata": {
        "colab": {
          "base_uri": "https://localhost:8080/"
        },
        "id": "hTzv2HRL5oXe",
        "outputId": "16e9ac95-51d5-497f-f188-f809e99a363d"
      },
      "outputs": [
        {
          "output_type": "execute_result",
          "data": {
            "text/plain": [
              "{'hyperparameters': {'max_iter': 100000, 'eta0': 0.1},\n",
              " 'mae': 4582517.6413266305}"
            ]
          },
          "metadata": {},
          "execution_count": 159
        }
      ],
      "source": [
        "best_mae_pluvariate"
      ],
      "id": "hTzv2HRL5oXe"
    },
    {
      "cell_type": "markdown",
      "metadata": {
        "id": "33d63bc7-448d-40a6-a314-6602c75e2284"
      },
      "source": [
        "1.16. How did the model performed compared to our univariate models? "
      ],
      "id": "33d63bc7-448d-40a6-a314-6602c75e2284"
    },
    {
      "cell_type": "markdown",
      "metadata": {
        "id": "bzY-0xvn9UpO"
      },
      "source": [
        "Worse we get a higher mae value"
      ],
      "id": "bzY-0xvn9UpO"
    },
    {
      "cell_type": "markdown",
      "metadata": {
        "id": "e9992197-563b-4a69-9cd7-97fcb9ee3677"
      },
      "source": [
        "### DecisionTreeRegressor\n",
        "\n",
        "It is possible that this problem might not be easily resolvable by a linear model, or that there could be better types of algorithms to tackle it. As an example, let's try with a very used algorithm, a Decision Tree.\n",
        "\n"
      ],
      "id": "e9992197-563b-4a69-9cd7-97fcb9ee3677"
    },
    {
      "cell_type": "markdown",
      "metadata": {
        "id": "61930247-d4b0-4bdf-ad98-a421457e2c4a"
      },
      "source": [
        "1.17. Create new model using [DecisionTreeRegressor](https://scikit-learn.org/stable/auto_examples/tree/plot_tree_regression.html) from scikit learn. We will use again all variables, and try different configuration for the following hyperparameters:\n",
        "\n",
        "- max_depth\n",
        "- min_samples_leaf\n",
        "- max_features\n",
        "\n",
        "These are all regularization hyperparameters for this algorithm. Read the documentation to get a better grasp of what each one does."
      ],
      "id": "61930247-d4b0-4bdf-ad98-a421457e2c4a"
    },
    {
      "cell_type": "code",
      "execution_count": null,
      "metadata": {
        "id": "d393cdae-c2d7-40a0-a518-19f007edb242"
      },
      "outputs": [],
      "source": [
        "# List of hyperparameter example values\n",
        "max_depth = [5, 10, 15, 20, 50]\n",
        "min_samples_leaf = [2, 10, 20, 50]\n",
        "max_features = [5, 10]"
      ],
      "id": "d393cdae-c2d7-40a0-a518-19f007edb242"
    },
    {
      "cell_type": "code",
      "execution_count": null,
      "metadata": {
        "id": "ot55CdHFfIs5"
      },
      "outputs": [],
      "source": [
        "def search_best_hyperparameters_tree(max_depth, min_samples_leaf, max_features, Xtr, Ytr):\n",
        "  \n",
        "  empty_list = []\n",
        "\n",
        "  min_mae_list = []\n",
        "  \n",
        "  # Loop to get the best hyperparameters values\n",
        "  for val in max_depth:\n",
        "    \n",
        "    a = val\n",
        "    \n",
        "    for val in min_samples_leaf:\n",
        "\n",
        "        b = val\n",
        "        \n",
        "        for val in max_features:\n",
        "\n",
        "          c = val\n",
        "          \n",
        "          regr = DecisionTreeRegressor(max_depth= a, min_samples_leaf = b ,max_features = c, random_state = 42)\n",
        "        \n",
        "          regr.fit(Xtr, Ytr)\n",
        "        \n",
        "          y_prediction = regr.predict(Xtr)\n",
        "        \n",
        "          error = mean_absolute_error(Ytr , y_prediction)\n",
        "\n",
        "          listval = [a, b, c, error]\n",
        "\n",
        "          empty_list.append(listval)\n",
        "\n",
        "  # Get the best hyperparameters\n",
        "  for val in empty_list: \n",
        "\n",
        "    x = val[3]\n",
        "    \n",
        "    min_mae_list.append(x)\n",
        "\n",
        "  min_mae_real =  min_mae_list.index(min(min_mae_list))\n",
        "  \n",
        "  result_values  = empty_list[min_mae_real]\n",
        "  \n",
        "  result = {\n",
        "    \n",
        "    \"hyperparameters\": {\"max_depth\": result_values[0], \"min_samples_leaf\": result_values[1], \n",
        "    \"max_features\" : result_values[2]}, \"mae\": result_values[3] } \n",
        "    \n",
        "  return result"
      ],
      "id": "ot55CdHFfIs5"
    },
    {
      "cell_type": "code",
      "execution_count": null,
      "metadata": {
        "id": "2UrN4WMmgUER"
      },
      "outputs": [],
      "source": [
        "# Fit regression model\n",
        "mae_tree = search_best_hyperparameters_tree(max_depth, min_samples_leaf, max_features, Xtr_2, Ytr_2)"
      ],
      "id": "2UrN4WMmgUER"
    },
    {
      "cell_type": "markdown",
      "metadata": {
        "id": "71ef72fc-7386-433c-9725-2055f4016ae9"
      },
      "source": [
        "1.18. Compare the results obtained with the best decision tree model against the baseline, default and the best params sgd regressors-"
      ],
      "id": "71ef72fc-7386-433c-9725-2055f4016ae9"
    },
    {
      "cell_type": "code",
      "execution_count": null,
      "metadata": {
        "colab": {
          "base_uri": "https://localhost:8080/"
        },
        "id": "af1084d8-97a4-4618-b4f4-0952e0b39f09",
        "outputId": "d7d5d2ce-87b8-4213-f3a7-c89c35d02f08"
      },
      "outputs": [
        {
          "output_type": "stream",
          "name": "stdout",
          "text": [
            "{'hyperparameters': {'max_iter': 100000, 'eta0': 0.1}, 'mae': 4582517.6413266305}\n",
            "{'hyperparameters': {'max_depth': 10, 'min_samples_leaf': 2, 'max_features': 10}, 'mae': 1194781.1678832117}\n"
          ]
        }
      ],
      "source": [
        "print(best_mae_pluvariate)\n",
        "print(mae_tree)"
      ],
      "id": "af1084d8-97a4-4618-b4f4-0952e0b39f09"
    },
    {
      "cell_type": "markdown",
      "metadata": {
        "id": "ce424a87-37af-470d-9a14-ec6ae2258eb1"
      },
      "source": [
        "### Analyzing our results"
      ],
      "id": "ce424a87-37af-470d-9a14-ec6ae2258eb1"
    },
    {
      "cell_type": "markdown",
      "metadata": {
        "id": "ed6c9746-ed98-4075-9a6a-adb24056d217"
      },
      "source": [
        "Based on what you found, and what you read about players salaries above, answer the following: "
      ],
      "id": "ed6c9746-ed98-4075-9a6a-adb24056d217"
    },
    {
      "cell_type": "markdown",
      "metadata": {
        "id": "e204456d-cb86-47a0-9c3c-6307d8a831fa"
      },
      "source": [
        "1.19. Which kind of model worked better in this dataset, linear or non linear models? Do you have any hypothesis about why? "
      ],
      "id": "e204456d-cb86-47a0-9c3c-6307d8a831fa"
    },
    {
      "cell_type": "markdown",
      "metadata": {
        "id": "0wfVp2bUTxru"
      },
      "source": [
        "No linear models because we have to many variables"
      ],
      "id": "0wfVp2bUTxru"
    },
    {
      "cell_type": "markdown",
      "metadata": {
        "id": "f09e5c20-3f7b-4938-a1b3-34ada990f181"
      },
      "source": [
        "1.20. Is there something else we could do to improve our results if wanted to make a more accurate model?"
      ],
      "id": "f09e5c20-3f7b-4938-a1b3-34ada990f181"
    },
    {
      "cell_type": "markdown",
      "metadata": {
        "id": "buNVB8hPTyYe"
      },
      "source": [
        "Maybe we can reduce the variables"
      ],
      "id": "buNVB8hPTyYe"
    },
    {
      "cell_type": "markdown",
      "metadata": {
        "id": "25e23c2a-a0bf-4d39-bc1b-9524107f3a02"
      },
      "source": [
        "##2. Star or no Star? Predicting players All-NBA selections"
      ],
      "id": "25e23c2a-a0bf-4d39-bc1b-9524107f3a02"
    },
    {
      "cell_type": "markdown",
      "metadata": {
        "id": "26cd4fec-1b8b-4bfc-8024-dcdd5b8b803a"
      },
      "source": [
        "In this section we're going to try to solve a different question:\n",
        "\n",
        "Can we train a model to predict which players are going to be selected to ALL-NBA teams at the end of the season? This is a [binary classification](https://en.wikipedia.org/wiki/Binary_classification) task, so we're training our first classifier model to solve this problem.\n",
        "\n",
        "Consider that:\n",
        "\n",
        "- Being selected as part of the [All-NBA teams](https://en.wikipedia.org/wiki/All-NBA_Team) is different than being selected for [All-Star Game](https://en.wikipedia.org/wiki/NBA_All-Star_Game). \n",
        "- You're trying to predict All-NBA selections, which takes place after the regular season but before playoffs start, so we're only going to use players and teams statistics about the regular season (you're not going to consider if the players got to the NBA finals for example). \n",
        "- All Star game takes place at the middle point of the regular season, players are selected based on partial season performance, and the general public has 50% of the votes, so it is also a more popularity-based award.\n",
        "- All-NBA teams are divided in first, second and third teams of 5 players each, divided by position: 2 front court players (guards), 2 backcourt players (forwards) and 1 center.\n",
        "- As only 15 players are selected to All-NBA teams each year (out of more than 400 qualifying players), our dataset is going to be imbalanced. You're going to have to find a good strategy to deal with this inbalance."
      ],
      "id": "26cd4fec-1b8b-4bfc-8024-dcdd5b8b803a"
    },
    {
      "cell_type": "markdown",
      "metadata": {
        "id": "ef2353fa-10d7-48d1-85d7-f8743ee86698"
      },
      "source": [
        "###Analyzing the data"
      ],
      "id": "ef2353fa-10d7-48d1-85d7-f8743ee86698"
    },
    {
      "cell_type": "markdown",
      "metadata": {
        "id": "d4159ce5-fec3-48bb-93c5-058f2cbb55c5"
      },
      "source": [
        "To do this task, you're going to need historical information about All-NBA selections. We'll use a dataset that contains information about players from season starting in 1990 and ending in the 2018-2019 season.\n",
        "The dataset contains statistics for all players, and a column named \"all-nba\" that is going to be our target variable, 1 means the player was selected to an All-NBA team that season.\n"
      ],
      "id": "d4159ce5-fec3-48bb-93c5-058f2cbb55c5"
    },
    {
      "cell_type": "markdown",
      "metadata": {
        "id": "e6d64103-d6b5-4544-8ca5-81f99c937d73"
      },
      "source": [
        "2.1. Load the dataset \"all_nba_1990_2017_dataset.csv\" from disk, look at the data inside it and print:\n",
        "- number of rows\n",
        "- number of seasons\n",
        "- number of unique players\n",
        "- number of all-nba selections vs non selected "
      ],
      "id": "e6d64103-d6b5-4544-8ca5-81f99c937d73"
    },
    {
      "cell_type": "code",
      "execution_count": null,
      "metadata": {
        "id": "bb6725f6-418d-4159-b046-3bf33a8ead0b"
      },
      "outputs": [],
      "source": [
        "import pandas as pd\n",
        "all_nba_df = pd.read_csv(\"https://raw.githubusercontent.com/anyoneai/notebooks/main/datasets/all_nba_1990_2017_dataset.csv\", index_col=0)"
      ],
      "id": "bb6725f6-418d-4159-b046-3bf33a8ead0b"
    },
    {
      "cell_type": "markdown",
      "metadata": {
        "id": "f268db59-8c9e-446b-be19-290e608169d2"
      },
      "source": [
        "### Splitting the dataset"
      ],
      "id": "f268db59-8c9e-446b-be19-290e608169d2"
    },
    {
      "cell_type": "markdown",
      "metadata": {
        "id": "6b4916b2-e8cf-4e30-a2ac-e1538c2f5cd5"
      },
      "source": [
        "2.2. Split the dataset in training and test sets. Make sure to keep the distribution of values in the target variable.\n",
        "\n",
        "Use columns: 'team', 'games', 'games_started', 'mp', 'fg_perc', '3p_perc',\n",
        "       '2p_perc', 'ft_perc', 'trb', 'ast', 'stl', 'blk', 'tov', 'pf', 'pts','all_nba'.\n",
        "\n",
        "**Note:** Assign your features to `X` variable and labels to `y`.\n",
        "\n"
      ],
      "id": "6b4916b2-e8cf-4e30-a2ac-e1538c2f5cd5"
    },
    {
      "cell_type": "code",
      "execution_count": null,
      "metadata": {
        "id": "jfoSq_2uyy8r"
      },
      "outputs": [],
      "source": [
        "df1 = pd.DataFrame(all_nba_df)"
      ],
      "id": "jfoSq_2uyy8r"
    },
    {
      "cell_type": "code",
      "execution_count": null,
      "metadata": {
        "id": "Q0XjllEny5zO"
      },
      "outputs": [],
      "source": [
        "# Get the columns that we need\n",
        "df1 = df1[['team', 'games', 'gamesstarted', 'mp', 'fg_perc', '3p_perc', '2p_perc', 'ft_perc', 'trb', 'ast', 'stl', 'blk', 'tov', 'pf', 'pts','all_nba']]"
      ],
      "id": "Q0XjllEny5zO"
    },
    {
      "cell_type": "code",
      "execution_count": null,
      "metadata": {
        "id": "25cfc4ee-98e7-4b84-98d3-80a91fb44912"
      },
      "outputs": [],
      "source": [
        "# TODO: Put here your features\n",
        "X = df1[['team', 'games', 'gamesstarted', 'mp', 'fg_perc', '3p_perc', '2p_perc', 'ft_perc', 'trb', 'ast', 'stl', 'blk', 'tov', 'pf', 'pts']]\n",
        "# TODO: Put here your labels\n",
        "y = df1['all_nba']\n",
        "\n",
        "# TODO: Now use train_test_split()\n",
        "Xtr_3, Xte_3, Ytr_3, Yte_3 = train_test_split(X, y, test_size=0.5, random_state=42)"
      ],
      "id": "25cfc4ee-98e7-4b84-98d3-80a91fb44912"
    },
    {
      "cell_type": "markdown",
      "metadata": {
        "id": "KpgcmrW6JX_d"
      },
      "source": [
        "### *Don't change anything in this cell, just make it run correctly*"
      ],
      "id": "KpgcmrW6JX_d"
    },
    {
      "cell_type": "code",
      "execution_count": null,
      "metadata": {
        "id": "N2S6tsHUJXdm",
        "colab": {
          "base_uri": "https://localhost:8080/"
        },
        "outputId": "e5f6ceef-3cd8-4e4d-d968-16d6dade7c8c"
      },
      "outputs": [
        {
          "output_type": "stream",
          "name": "stdout",
          "text": [
            "Success!\n"
          ]
        }
      ],
      "source": [
        "if X.shape == (14825, 15) and y.shape == (14825,):\n",
        "  print('Success!')\n",
        "else:\n",
        "  raise ValueError('Your features/labels shape is incorrect, please review your code')\n"
      ],
      "id": "N2S6tsHUJXdm"
    },
    {
      "cell_type": "markdown",
      "metadata": {
        "id": "7043db6e-da74-4a04-91d9-4dd0cd830f22"
      },
      "source": [
        "### Baseline model and Evaluation Metrics"
      ],
      "id": "7043db6e-da74-4a04-91d9-4dd0cd830f22"
    },
    {
      "cell_type": "markdown",
      "metadata": {
        "id": "cedaf085-2a23-41ab-a55f-474e2ae6bb9c"
      },
      "source": [
        "In this oportunity we'll define our baseline model as the model we can train with the minimun amount of work on the dataset. For this you're gonna train a [LogisticRegression](https://scikit-learn.org/stable/modules/generated/sklearn.linear_model.LogisticRegression.html) with default parameters, and without doing any preprocessing to our data."
      ],
      "id": "cedaf085-2a23-41ab-a55f-474e2ae6bb9c"
    },
    {
      "cell_type": "markdown",
      "metadata": {
        "id": "67a8999b-2dfe-466b-814c-94ecced9f8dc"
      },
      "source": [
        "2.3. Let's start with a simple test. What accuracy would we get if we had a baseline model that always predicted 0 (player not selected to all nba)?"
      ],
      "id": "67a8999b-2dfe-466b-814c-94ecced9f8dc"
    },
    {
      "cell_type": "code",
      "execution_count": null,
      "metadata": {
        "id": "CnzjfmdRhnOL"
      },
      "outputs": [],
      "source": [
        "# Baseline model that always predicted 0 \n",
        "shape = Xtr_3.shape\n",
        "    \n",
        "array2 = np.full(shape[0], 0)"
      ],
      "id": "CnzjfmdRhnOL"
    },
    {
      "cell_type": "code",
      "execution_count": null,
      "metadata": {
        "id": "4aa3bbfb-d2ce-43bc-aea4-f6f7aab0933c",
        "colab": {
          "base_uri": "https://localhost:8080/"
        },
        "outputId": "274f202c-31ec-4bc5-c696-9361afd49e35"
      },
      "outputs": [
        {
          "output_type": "execute_result",
          "data": {
            "text/plain": [
              "0.9637075013491635"
            ]
          },
          "metadata": {},
          "execution_count": 217
        }
      ],
      "source": [
        "# Mae\n",
        "error3 = accuracy_score(Ytr_3 , array2)\n",
        "error3"
      ],
      "id": "4aa3bbfb-d2ce-43bc-aea4-f6f7aab0933c"
    },
    {
      "cell_type": "markdown",
      "metadata": {
        "id": "a7f436a6-d3fe-4ead-8c09-b450d850b36f"
      },
      "source": [
        "2.4. What does this tells us about the data and the use of accuracy as an evaluation metric?"
      ],
      "id": "a7f436a6-d3fe-4ead-8c09-b450d850b36f"
    },
    {
      "cell_type": "markdown",
      "metadata": {
        "id": "jhdkWajHooFH"
      },
      "source": [
        "The data is unbalanced, so we get to many accuracy"
      ],
      "id": "jhdkWajHooFH"
    },
    {
      "cell_type": "markdown",
      "metadata": {
        "id": "df1a22d1-3fd1-4e6f-9139-52a3466fb1c4"
      },
      "source": [
        "2.5. Scale all numerical features in the dataset (we will keep this scaling for future modeling, so make sure to do it in place)"
      ],
      "id": "df1a22d1-3fd1-4e6f-9139-52a3466fb1c4"
    },
    {
      "cell_type": "code",
      "execution_count": null,
      "metadata": {
        "id": "e4d2a505-f193-4b94-89c3-56cba2c4db54"
      },
      "outputs": [],
      "source": [
        "# Scale all numerical features in the dataset \n",
        "cols_names2 = [\"games\", \"gamesstarted\", \"mp\", \"fg_perc\", \"3p_perc\", \"2p_perc\", \"ft_perc\", \"trb\", \"ast\", \"stl\", \"blk\", \"tov\", \"pf\", \"pts\"]\n",
        "\n",
        "for col in Xtr_3[cols_names2]:\n",
        "    \n",
        "    reshape = Xtr_3[col].values.reshape(-1, 1)\n",
        "\n",
        "    scaler = StandardScaler()\n",
        "\n",
        "    scaler.fit(reshape)\n",
        "\n",
        "    reshape_column = scaler.transform(reshape)\n",
        "\n",
        "    Xtr_3[col] = reshape_column"
      ],
      "id": "e4d2a505-f193-4b94-89c3-56cba2c4db54"
    },
    {
      "cell_type": "markdown",
      "metadata": {
        "id": "0ccfd642-fd2a-4ce6-af92-901156e2a009"
      },
      "source": [
        "2.6. Train a LogisticRegression with default parameters, use only the numerical features (omit the team information for now). This will be our baseline model. "
      ],
      "id": "0ccfd642-fd2a-4ce6-af92-901156e2a009"
    },
    {
      "cell_type": "code",
      "execution_count": null,
      "metadata": {
        "id": "6f9ffef5-6333-481e-816f-9125c95fe117",
        "colab": {
          "base_uri": "https://localhost:8080/"
        },
        "outputId": "04af1b78-9cd3-4e7b-83e0-f51daf145c55"
      },
      "outputs": [
        {
          "output_type": "execute_result",
          "data": {
            "text/plain": [
              "0.01834862385321101"
            ]
          },
          "metadata": {},
          "execution_count": 172
        }
      ],
      "source": [
        "# Train a LogisticRegression with default parameters\n",
        "Xtr_3_numerical = Xtr_3[[\"games\", \"gamesstarted\", \"mp\",\t\"fg_perc\",\t\"3p_perc\",\t\"2p_perc\",\t\"ft_perc\",\t\"trb\",\t\"ast\",\t\"stl\",\t\"blk\",\t\"tov\",\t\"pf\",\t\"pts\"]]\n",
        "\n",
        "lgr = LogisticRegression() \n",
        "\n",
        "lgr.fit(Xtr_3_numerical, Ytr_3)\n",
        "\n",
        "y_prediction_2 = lgr.predict(Xtr_3_numerical)\n",
        "\n",
        "error4 = mean_absolute_error(Ytr_3 , y_prediction_2)\n",
        "\n",
        "error4"
      ],
      "id": "6f9ffef5-6333-481e-816f-9125c95fe117"
    },
    {
      "cell_type": "markdown",
      "metadata": {
        "id": "0f06758a-f2dd-4339-b170-275b428fdb4e"
      },
      "source": [
        "2.7. Evaluate our baseline model using this metrics: \n",
        "\n",
        "    - accuracy\n",
        "    - precision\n",
        "    - recall\n",
        "    - f1"
      ],
      "id": "0f06758a-f2dd-4339-b170-275b428fdb4e"
    },
    {
      "cell_type": "code",
      "execution_count": null,
      "metadata": {
        "id": "b953324f-f7ae-4823-a801-f06d27d6eb43",
        "colab": {
          "base_uri": "https://localhost:8080/"
        },
        "outputId": "88c9503b-f76a-4d28-84c0-2a92e810b795"
      },
      "outputs": [
        {
          "output_type": "stream",
          "name": "stdout",
          "text": [
            "accuracy : 0.981651376146789\n",
            "precision : 0.8064516129032258\n",
            "recall : 0.6505576208178439\n",
            "f1 : 0.720164609053498\n"
          ]
        }
      ],
      "source": [
        "# Calculate the accuracy, precision, recall and f1\n",
        "accuracy = accuracy_score(Ytr_3, y_prediction_2)\n",
        "\n",
        "precision =  precision_score(Ytr_3, y_prediction_2)\n",
        "\n",
        "recall = recall_score(Ytr_3, y_prediction_2)\n",
        "\n",
        "f1 = f1_score(Ytr_3, y_prediction_2)\n",
        "print(\"accuracy :\", accuracy)\n",
        "print(\"precision :\", precision)\n",
        "print(\"recall :\", recall)\n",
        "print(\"f1 :\", f1)"
      ],
      "id": "b953324f-f7ae-4823-a801-f06d27d6eb43"
    },
    {
      "cell_type": "markdown",
      "metadata": {
        "id": "7a540e7b-387d-4e2b-a441-d0c5173bdbf7"
      },
      "source": [
        "From now on, you'll be evaluating you model primarily using the F1 Score metric, but we also want to avoid models that have very low recall. "
      ],
      "id": "7a540e7b-387d-4e2b-a441-d0c5173bdbf7"
    },
    {
      "cell_type": "markdown",
      "metadata": {
        "id": "2054a43f-55ec-45fc-9ead-a7699d8aa2b0"
      },
      "source": [
        "### Classification"
      ],
      "id": "2054a43f-55ec-45fc-9ead-a7699d8aa2b0"
    },
    {
      "cell_type": "markdown",
      "metadata": {
        "id": "1e2847f3-f02c-4308-8a0c-41ba79af0781"
      },
      "source": [
        "#### Feature engineering"
      ],
      "id": "1e2847f3-f02c-4308-8a0c-41ba79af0781"
    },
    {
      "cell_type": "markdown",
      "metadata": {
        "id": "27b6ddb3-576c-4238-9ec3-534aafee764b"
      },
      "source": [
        "2.8. One hot encode the Team feature. Make sure to drop the original column."
      ],
      "id": "27b6ddb3-576c-4238-9ec3-534aafee764b"
    },
    {
      "cell_type": "code",
      "execution_count": null,
      "metadata": {
        "id": "f4ca83ec-7aab-4cff-8ac7-1b224ff54dde"
      },
      "outputs": [],
      "source": [
        "# One hot encode the Team feature\n",
        "Xtr_3[\"team\"]= Xtr_3[\"team\"].astype(\"category\")\n",
        "Xtr_3 = pd.get_dummies(Xtr_3, columns = [\"team\"])"
      ],
      "id": "f4ca83ec-7aab-4cff-8ac7-1b224ff54dde"
    },
    {
      "cell_type": "markdown",
      "metadata": {
        "id": "6592c6c0-7ec8-49ac-936c-2d0fb84ccfef"
      },
      "source": [
        "#### Modeling"
      ],
      "id": "6592c6c0-7ec8-49ac-936c-2d0fb84ccfef"
    },
    {
      "cell_type": "markdown",
      "metadata": {
        "id": "06240cb2-de21-4d4e-ae0e-0f90c3c0453a"
      },
      "source": [
        "2.9. Train a logistic regresion model, find the best hyperparameters for: tols, C and max_iter. Try at least 4 values of each parameter. Remember to select based on f1 score, but report also precision and recall. Save the best performing model to use in the next steps."
      ],
      "id": "06240cb2-de21-4d4e-ae0e-0f90c3c0453a"
    },
    {
      "cell_type": "code",
      "execution_count": null,
      "metadata": {
        "id": "4bdc4abf-ded3-4d8b-9170-c1d5b4951ba7"
      },
      "outputs": [],
      "source": [
        "def log_regr_model(Xtr, Ytr, tols, C, max_iter):\n",
        "  \n",
        "  empty_list = []\n",
        "  \n",
        "  min_f1_list = []\n",
        "  \n",
        "  # Looping for the best hyperparameters\n",
        "  for val in tols:\n",
        "    \n",
        "    a = val\n",
        "\n",
        "    for vals in C:\n",
        "        \n",
        "      b = vals\n",
        "\n",
        "      for values in max_iter:\n",
        "        \n",
        "        d = values\n",
        "\n",
        "        lgr = LogisticRegression(tol = a, C = b, max_iter = d, random_state = 42) \n",
        "        \n",
        "        lgr.fit(Xtr , Ytr)\n",
        "        \n",
        "        y_prediction = lgr.predict(Xtr)\n",
        "        \n",
        "        precision =  precision_score(Ytr, y_prediction)\n",
        "        \n",
        "        recall = recall_score(Ytr, y_prediction)\n",
        "        \n",
        "        f1 = f1_score(Ytr, y_prediction)\n",
        "        \n",
        "        listval = [a, b, d, precision, recall, f1]\n",
        "\n",
        "        empty_list.append(listval)\n",
        "\n",
        "  \n",
        "  # Getting the best hyperparameters to f1\n",
        "  for i in empty_list: \n",
        "\n",
        "    x = i[5]\n",
        "    \n",
        "    min_f1_list.append(x)\n",
        "\n",
        "  min_f1_real =  min_f1_list.index(min(min_f1_list))\n",
        "  \n",
        "  result  = empty_list[min_f1_real]\n",
        "\n",
        "  return  result"
      ],
      "id": "4bdc4abf-ded3-4d8b-9170-c1d5b4951ba7"
    },
    {
      "cell_type": "code",
      "execution_count": null,
      "metadata": {
        "id": "6N9VHsK8EQSJ"
      },
      "outputs": [],
      "source": [
        "tols_values = [0.000001, 0.0000001, 0.000000001, 0.0000000001]\n",
        "C_values = [1, 2, 3, 4]\n",
        "max_iter_values = [1000, 10000, 100000, 1000000]\n",
        "f1_best_value = log_regr_model(Xtr_3, Ytr_3, tols_values, C_values, max_iter_values)"
      ],
      "id": "6N9VHsK8EQSJ"
    },
    {
      "cell_type": "code",
      "execution_count": null,
      "metadata": {
        "id": "lP_J8pQFWVNI",
        "colab": {
          "base_uri": "https://localhost:8080/"
        },
        "outputId": "37b28bab-8265-4710-d7b8-b2fd3af14be7"
      },
      "outputs": [
        {
          "output_type": "execute_result",
          "data": {
            "text/plain": [
              "[1e-06, 1, 1000, 0.8434782608695652, 0.7211895910780669, 0.7775551102204409]"
            ]
          },
          "metadata": {},
          "execution_count": 177
        }
      ],
      "source": [
        "f1_best_value "
      ],
      "id": "lP_J8pQFWVNI"
    },
    {
      "cell_type": "markdown",
      "metadata": {
        "id": "45c0c3bd-b431-40f1-abbb-4e90b7479411"
      },
      "source": [
        "#### Evaluating on New Data"
      ],
      "id": "45c0c3bd-b431-40f1-abbb-4e90b7479411"
    },
    {
      "cell_type": "markdown",
      "metadata": {
        "id": "3a5352ce-df8a-4c9d-b583-65255774f9d9"
      },
      "source": [
        "You're now going to evaluate the results on a test dataset that has not being used to train or do hyperparameter tuning, this is sometimes known as a Test set (in this cases the test set used for training is known as validation set, yeah, it's confusing, but you can read about it [here](https://machinelearningmastery.com/difference-test-validation-datasets/))"
      ],
      "id": "3a5352ce-df8a-4c9d-b583-65255774f9d9"
    },
    {
      "cell_type": "markdown",
      "metadata": {
        "id": "9da9e93b-6265-44e4-89be-75e7178800e2"
      },
      "source": [
        "2.10. Load the dataset [all_nba_2018_dataset.csv](https://raw.githubusercontent.com/anyoneai/notebooks/main/datasets/all_nba_2018_dataset.csv) in one dataframe and [all_nba_2018_selections.csv](https://raw.githubusercontent.com/anyoneai/notebooks/main/datasets/all_nba_2018_selections.csv)) in another, then:\n",
        "\n",
        "    - Scale the numerical features. Columns season_id, player_id, player_season, player, season and season_start will not be used for prediction, you can keep them but remember not to pass them to the classifier.\n",
        "    \n",
        "    - Create the one hot encoded features for team. This step will be complex, as you will have to consider that in the 2018 season there are 30 teams, but the previous dataset contains 40 teams, that is because a lot of teams changed names or cities over the years. You need to add those 10 different team names in this dataset (with all values in 0) to make the classifier work."
      ],
      "id": "9da9e93b-6265-44e4-89be-75e7178800e2"
    },
    {
      "cell_type": "code",
      "execution_count": null,
      "metadata": {
        "id": "79ea153a-b061-4df9-9c3d-1aaa0526c700"
      },
      "outputs": [],
      "source": [
        "all_nba_2018_df = pd.read_csv(\"https://raw.githubusercontent.com/anyoneai/notebooks/main/datasets/all_nba_2018_dataset.csv\", index_col=0)\n",
        "all_nba_2018_selections = pd.read_csv(\"https://raw.githubusercontent.com/anyoneai/notebooks/main/datasets/all_nba_2018_selections.csv\", index_col=0)"
      ],
      "id": "79ea153a-b061-4df9-9c3d-1aaa0526c700"
    },
    {
      "cell_type": "code",
      "execution_count": null,
      "metadata": {
        "id": "-1VYrr5IV8TH"
      },
      "outputs": [],
      "source": [
        "all_nba_2018_df1 = all_nba_2018_df[['team', 'games', 'gamesstarted', 'mp', 'fg_perc','3p_perc', '2p_perc', 'ft_perc', 'trb', 'ast', 'stl', 'blk', 'tov','pf', 'pts']]"
      ],
      "id": "-1VYrr5IV8TH"
    },
    {
      "cell_type": "code",
      "execution_count": null,
      "metadata": {
        "id": "RjgIz8z7Pj4_"
      },
      "outputs": [],
      "source": [
        "# Scale the numerical features\n",
        "cols_names3 = [ 'games', 'gamesstarted', 'mp', 'fg_perc','3p_perc', '2p_perc', 'ft_perc', 'trb', 'ast', 'stl', 'blk', 'tov','pf', 'pts']\n",
        "\n",
        "for col in all_nba_2018_df1[cols_names3]:\n",
        "    \n",
        "    reshape = all_nba_2018_df1[col].values.reshape(-1, 1)\n",
        "\n",
        "    scaler = StandardScaler()\n",
        "\n",
        "    scaler.fit(reshape)\n",
        "\n",
        "    reshape_column = scaler.transform(reshape)\n",
        "\n",
        "    all_nba_2018_df1[col] = reshape_column\n"
      ],
      "id": "RjgIz8z7Pj4_"
    },
    {
      "cell_type": "code",
      "execution_count": null,
      "metadata": {
        "id": "YnMrjL6fD6Wx"
      },
      "outputs": [],
      "source": [
        "all_nba_2018_df_copy = all_nba_2018_df1.copy()\n"
      ],
      "id": "YnMrjL6fD6Wx"
    },
    {
      "cell_type": "code",
      "execution_count": null,
      "metadata": {
        "id": "35d-8rVrblmm"
      },
      "outputs": [],
      "source": [
        "# Encode the teams columns\n",
        "all_nba_2018_df1 = pd.get_dummies(all_nba_2018_df1, columns = [\"team\"])"
      ],
      "id": "35d-8rVrblmm"
    },
    {
      "cell_type": "code",
      "execution_count": null,
      "metadata": {
        "id": "6evwRZ2eORN3"
      },
      "outputs": [],
      "source": [
        "# Making the columns of the dfs equals\n",
        "old_teams = df1[\"team\"].unique()  \n",
        "new_teams = all_nba_2018_df[\"team\"].unique()\n",
        "difference = set(old_teams) - set(new_teams)\n",
        "\n",
        "list(difference) \n",
        "\n",
        "for cols in difference:\n",
        "    all_nba_2018_df1[cols] = 0\n",
        "\n",
        "diccionario_columns = {'WSB' : \"team_WSB\", 'NOH' : \"team_NOH\", 'VAN' : \"team_VAN\", 'SEA' : \"team_SEA\", 'SDC' : \"team_SDC\", 'CHH' : \"team_CHH\", 'NOK' : \"team_NOK\", 'CHA' : \"team_CHA\", 'KCK' : \"team_KCK\", 'NJN': \"team_NJN\"}\n",
        "\n",
        "all_nba_2018_df1.rename(columns = diccionario_columns, inplace = True)\n",
        "all_nba_2018_df1.drop(columns = [\"team_TOT\"], inplace =  True)\n"
      ],
      "id": "6evwRZ2eORN3"
    },
    {
      "cell_type": "markdown",
      "metadata": {
        "id": "aeBb8Zha2FAQ"
      },
      "source": [
        "### *Don't change anything in this cell, just make it run correctly*"
      ],
      "id": "aeBb8Zha2FAQ"
    },
    {
      "cell_type": "code",
      "execution_count": null,
      "metadata": {
        "id": "Y7fgqGQL2F5R",
        "colab": {
          "base_uri": "https://localhost:8080/"
        },
        "outputId": "33def29b-55c3-4050-980b-50bd0cd96ec1"
      },
      "outputs": [
        {
          "output_type": "stream",
          "name": "stdout",
          "text": [
            "Success!\n"
          ]
        }
      ],
      "source": [
        "if all_nba_2018_df1.shape == (530, 54):\n",
        "  print('Success!')\n",
        "else:\n",
        "  raise ValueError('The shape is incorrect, please review your function')"
      ],
      "id": "Y7fgqGQL2F5R"
    },
    {
      "cell_type": "code",
      "execution_count": null,
      "metadata": {
        "id": "j8qxXDvaMdZQ"
      },
      "outputs": [],
      "source": [
        "#  Making the columns of the dfs equals order\n",
        "all_nba_2018_df1 = all_nba_2018_df1[['games', 'gamesstarted', 'mp', 'fg_perc', '3p_perc', '2p_perc',\n",
        "       'ft_perc', 'trb', 'ast', 'stl', 'blk', 'tov', 'pf', 'pts', 'team_ATL',\n",
        "       'team_BOS', 'team_BRK', 'team_CHA', 'team_CHH', 'team_CHI', 'team_CHO',\n",
        "       'team_CLE', 'team_DAL', 'team_DEN', 'team_DET', 'team_GSW', 'team_HOU',\n",
        "       'team_IND', 'team_KCK', 'team_LAC', 'team_LAL', 'team_MEM', 'team_MIA',\n",
        "       'team_MIL', 'team_MIN', 'team_NJN', 'team_NOH', 'team_NOK', 'team_NOP',\n",
        "       'team_NYK', 'team_OKC', 'team_ORL', 'team_PHI', 'team_PHO', 'team_POR',\n",
        "       'team_SAC', 'team_SAS', 'team_SDC', 'team_SEA', 'team_TOR', 'team_UTA',\n",
        "       'team_VAN', 'team_WAS', 'team_WSB']]"
      ],
      "id": "j8qxXDvaMdZQ"
    },
    {
      "cell_type": "markdown",
      "metadata": {
        "id": "8b0bb296-b1b3-4ae4-b199-b11224c78a82"
      },
      "source": [
        "2.11. Predict and evaluate the model using precision, recall and f1 score. "
      ],
      "id": "8b0bb296-b1b3-4ae4-b199-b11224c78a82"
    },
    {
      "cell_type": "code",
      "execution_count": null,
      "metadata": {
        "id": "i6Neb3vlBdmL"
      },
      "outputs": [],
      "source": [
        "# Droping no team values\n",
        "Xtr_3.drop(columns = [\"team_TOT\"], inplace =  True)"
      ],
      "id": "i6Neb3vlBdmL"
    },
    {
      "cell_type": "code",
      "execution_count": null,
      "metadata": {
        "id": "b00ddffa-3f09-4294-beb5-098c2d698af0",
        "colab": {
          "base_uri": "https://localhost:8080/"
        },
        "outputId": "22be1cba-3d5f-4ce8-e675-25e20ac5d183"
      },
      "outputs": [
        {
          "output_type": "stream",
          "name": "stdout",
          "text": [
            "precision 1 =  0.8064516129032258  precision 2 =  0.6521739130434783\n",
            "recall 1 =  0.6505576208178439  recall 2 =  1.0\n",
            "f1 1 =  0.720164609053498  f1 2 =  0.7894736842105263\n"
          ]
        }
      ],
      "source": [
        "# Training the model and compare to the another \n",
        "lgrs =  LogisticRegression(tol = 1e-06 , C = 1, max_iter = 1000, random_state = 42) \n",
        "\n",
        "lgrs.fit(Xtr_3 , Ytr_3)\n",
        "\n",
        "y_prediction_4 = lgrs.predict(all_nba_2018_df1)\n",
        "\n",
        "all_nba_2018_selections_prob_list = lgrs.predict_proba(all_nba_2018_df1)\n",
        "\n",
        "precision_2 =  precision_score(all_nba_2018_selections['all_nba'], y_prediction_4)\n",
        "\n",
        "recall_2 = recall_score(all_nba_2018_selections['all_nba'], y_prediction_4)\n",
        "\n",
        "f1_2 = f1_score(all_nba_2018_selections['all_nba'], y_prediction_4)\n",
        "\n",
        "print(\"precision 1 = \", precision, \" precision 2 = \", precision_2)\n",
        "print(\"recall 1 = \", recall, \" recall 2 = \", recall_2)\n",
        "print(\"f1 1 = \", f1, \" f1 2 = \", f1_2)"
      ],
      "id": "b00ddffa-3f09-4294-beb5-098c2d698af0"
    },
    {
      "cell_type": "markdown",
      "metadata": {
        "id": "be98174e-4d1b-407d-8ecc-dd568f6e5368"
      },
      "source": [
        "2.12. Analyze the results, what do you think it is happening?"
      ],
      "id": "be98174e-4d1b-407d-8ecc-dd568f6e5368"
    },
    {
      "cell_type": "code",
      "execution_count": null,
      "metadata": {
        "id": "3diID0rJQYxB"
      },
      "outputs": [],
      "source": [
        " # Aumenta mucho el recall, baja la precision en menor medida haciendo que nuestro f1 aumente ligeramente"
      ],
      "id": "3diID0rJQYxB"
    },
    {
      "cell_type": "code",
      "execution_count": null,
      "metadata": {
        "id": "SKSsONvzEriR"
      },
      "outputs": [],
      "source": [
        "# For a later use in 2.17\n",
        "all_nba_2018_df_copy = all_nba_2018_df_copy.drop(columns= \"team\")"
      ],
      "id": "SKSsONvzEriR"
    },
    {
      "cell_type": "markdown",
      "metadata": {
        "id": "77a8c607-5df7-43d2-8365-cbbb6f2b93e1"
      },
      "source": [
        "#### Creating our custom Classifier"
      ],
      "id": "77a8c607-5df7-43d2-8365-cbbb6f2b93e1"
    },
    {
      "cell_type": "markdown",
      "metadata": {
        "id": "21dc0d0a-1d15-4f9e-b3ed-f83df1f51ce0"
      },
      "source": [
        "One thing to consider in this problem, is that the number of ALl NBA selections is fixed each year, a total of 15 players are always selected. But our current model does not limit the number of positive classified players. So, we will have to wrap our model in a custom classifier that only returns as positive the 15 players with the higher probabilities. \n",
        "Fortunately, our chosen model provides access to the underlying probabilities."
      ],
      "id": "21dc0d0a-1d15-4f9e-b3ed-f83df1f51ce0"
    },
    {
      "cell_type": "markdown",
      "metadata": {
        "id": "e22326d3-c1ae-475b-9b31-7b02876f8bbc"
      },
      "source": [
        "2.13. Using the trained model, predict probabilities for all rows in the dataset, and create a new column that has the probability that the player was selected as all nba. Round the probability to 3 decimals."
      ],
      "id": "e22326d3-c1ae-475b-9b31-7b02876f8bbc"
    },
    {
      "cell_type": "code",
      "execution_count": null,
      "metadata": {
        "id": "fddf0631-d676-485d-9748-a688e854c9f2"
      },
      "outputs": [],
      "source": [
        "# Creating the probabilities column\n",
        "prob_col = []\n",
        "\n",
        "for val in all_nba_2018_selections_prob_list:\n",
        " prob_col.append(round(val[1], 3))\n",
        "\n",
        "all_nba_2018_selections[\"prob\"] = prob_col"
      ],
      "id": "fddf0631-d676-485d-9748-a688e854c9f2"
    },
    {
      "cell_type": "markdown",
      "metadata": {
        "id": "c1e5edbf-faee-4773-a114-eed5eab89242"
      },
      "source": [
        "2.14. Sort the dataset by probabilities and show the 15 players with higher probability to have been selected"
      ],
      "id": "c1e5edbf-faee-4773-a114-eed5eab89242"
    },
    {
      "cell_type": "code",
      "execution_count": null,
      "metadata": {
        "id": "42562785-2d0d-4e11-a31f-3eca3f78c818",
        "colab": {
          "base_uri": "https://localhost:8080/",
          "height": 520
        },
        "outputId": "99db65ae-3af0-4657-fd8e-857693c733a2"
      },
      "outputs": [
        {
          "output_type": "execute_result",
          "data": {
            "text/plain": [
              "       player_id                 player  all_nba   prob\n",
              "5604        1024           James Harden        1  0.999\n",
              "453           83  Giannis Antetokounmpo        1  0.998\n",
              "6857        1240           LeBron James        1  0.995\n",
              "14479       2648      Russell Westbrook        1  0.988\n",
              "3401         587          Anthony Davis        0  0.984\n",
              "4145         740            Joel Embiid        1  0.971\n",
              "14027       2572         Nikola Vucevic        0  0.947\n",
              "3908         695           Kevin Durant        1  0.937\n",
              "4895         884            Paul George        1  0.933\n",
              "168           30      LaMarcus Aldridge        0  0.881\n",
              "3794         682         Andre Drummond        0  0.822\n",
              "3538         633          DeMar DeRozan        0  0.805\n",
              "8206        1511         Damian Lillard        1  0.803\n",
              "5016         909            Rudy Gobert        1  0.796\n",
              "8103        1492          Kawhi Leonard        1  0.738"
            ],
            "text/html": [
              "\n",
              "  <div id=\"df-e1eba47b-07bb-4355-b51b-e5a5b29eaa54\">\n",
              "    <div class=\"colab-df-container\">\n",
              "      <div>\n",
              "<style scoped>\n",
              "    .dataframe tbody tr th:only-of-type {\n",
              "        vertical-align: middle;\n",
              "    }\n",
              "\n",
              "    .dataframe tbody tr th {\n",
              "        vertical-align: top;\n",
              "    }\n",
              "\n",
              "    .dataframe thead th {\n",
              "        text-align: right;\n",
              "    }\n",
              "</style>\n",
              "<table border=\"1\" class=\"dataframe\">\n",
              "  <thead>\n",
              "    <tr style=\"text-align: right;\">\n",
              "      <th></th>\n",
              "      <th>player_id</th>\n",
              "      <th>player</th>\n",
              "      <th>all_nba</th>\n",
              "      <th>prob</th>\n",
              "    </tr>\n",
              "  </thead>\n",
              "  <tbody>\n",
              "    <tr>\n",
              "      <th>5604</th>\n",
              "      <td>1024</td>\n",
              "      <td>James Harden</td>\n",
              "      <td>1</td>\n",
              "      <td>0.999</td>\n",
              "    </tr>\n",
              "    <tr>\n",
              "      <th>453</th>\n",
              "      <td>83</td>\n",
              "      <td>Giannis Antetokounmpo</td>\n",
              "      <td>1</td>\n",
              "      <td>0.998</td>\n",
              "    </tr>\n",
              "    <tr>\n",
              "      <th>6857</th>\n",
              "      <td>1240</td>\n",
              "      <td>LeBron James</td>\n",
              "      <td>1</td>\n",
              "      <td>0.995</td>\n",
              "    </tr>\n",
              "    <tr>\n",
              "      <th>14479</th>\n",
              "      <td>2648</td>\n",
              "      <td>Russell Westbrook</td>\n",
              "      <td>1</td>\n",
              "      <td>0.988</td>\n",
              "    </tr>\n",
              "    <tr>\n",
              "      <th>3401</th>\n",
              "      <td>587</td>\n",
              "      <td>Anthony Davis</td>\n",
              "      <td>0</td>\n",
              "      <td>0.984</td>\n",
              "    </tr>\n",
              "    <tr>\n",
              "      <th>4145</th>\n",
              "      <td>740</td>\n",
              "      <td>Joel Embiid</td>\n",
              "      <td>1</td>\n",
              "      <td>0.971</td>\n",
              "    </tr>\n",
              "    <tr>\n",
              "      <th>14027</th>\n",
              "      <td>2572</td>\n",
              "      <td>Nikola Vucevic</td>\n",
              "      <td>0</td>\n",
              "      <td>0.947</td>\n",
              "    </tr>\n",
              "    <tr>\n",
              "      <th>3908</th>\n",
              "      <td>695</td>\n",
              "      <td>Kevin Durant</td>\n",
              "      <td>1</td>\n",
              "      <td>0.937</td>\n",
              "    </tr>\n",
              "    <tr>\n",
              "      <th>4895</th>\n",
              "      <td>884</td>\n",
              "      <td>Paul George</td>\n",
              "      <td>1</td>\n",
              "      <td>0.933</td>\n",
              "    </tr>\n",
              "    <tr>\n",
              "      <th>168</th>\n",
              "      <td>30</td>\n",
              "      <td>LaMarcus Aldridge</td>\n",
              "      <td>0</td>\n",
              "      <td>0.881</td>\n",
              "    </tr>\n",
              "    <tr>\n",
              "      <th>3794</th>\n",
              "      <td>682</td>\n",
              "      <td>Andre Drummond</td>\n",
              "      <td>0</td>\n",
              "      <td>0.822</td>\n",
              "    </tr>\n",
              "    <tr>\n",
              "      <th>3538</th>\n",
              "      <td>633</td>\n",
              "      <td>DeMar DeRozan</td>\n",
              "      <td>0</td>\n",
              "      <td>0.805</td>\n",
              "    </tr>\n",
              "    <tr>\n",
              "      <th>8206</th>\n",
              "      <td>1511</td>\n",
              "      <td>Damian Lillard</td>\n",
              "      <td>1</td>\n",
              "      <td>0.803</td>\n",
              "    </tr>\n",
              "    <tr>\n",
              "      <th>5016</th>\n",
              "      <td>909</td>\n",
              "      <td>Rudy Gobert</td>\n",
              "      <td>1</td>\n",
              "      <td>0.796</td>\n",
              "    </tr>\n",
              "    <tr>\n",
              "      <th>8103</th>\n",
              "      <td>1492</td>\n",
              "      <td>Kawhi Leonard</td>\n",
              "      <td>1</td>\n",
              "      <td>0.738</td>\n",
              "    </tr>\n",
              "  </tbody>\n",
              "</table>\n",
              "</div>\n",
              "      <button class=\"colab-df-convert\" onclick=\"convertToInteractive('df-e1eba47b-07bb-4355-b51b-e5a5b29eaa54')\"\n",
              "              title=\"Convert this dataframe to an interactive table.\"\n",
              "              style=\"display:none;\">\n",
              "        \n",
              "  <svg xmlns=\"http://www.w3.org/2000/svg\" height=\"24px\"viewBox=\"0 0 24 24\"\n",
              "       width=\"24px\">\n",
              "    <path d=\"M0 0h24v24H0V0z\" fill=\"none\"/>\n",
              "    <path d=\"M18.56 5.44l.94 2.06.94-2.06 2.06-.94-2.06-.94-.94-2.06-.94 2.06-2.06.94zm-11 1L8.5 8.5l.94-2.06 2.06-.94-2.06-.94L8.5 2.5l-.94 2.06-2.06.94zm10 10l.94 2.06.94-2.06 2.06-.94-2.06-.94-.94-2.06-.94 2.06-2.06.94z\"/><path d=\"M17.41 7.96l-1.37-1.37c-.4-.4-.92-.59-1.43-.59-.52 0-1.04.2-1.43.59L10.3 9.45l-7.72 7.72c-.78.78-.78 2.05 0 2.83L4 21.41c.39.39.9.59 1.41.59.51 0 1.02-.2 1.41-.59l7.78-7.78 2.81-2.81c.8-.78.8-2.07 0-2.86zM5.41 20L4 18.59l7.72-7.72 1.47 1.35L5.41 20z\"/>\n",
              "  </svg>\n",
              "      </button>\n",
              "      \n",
              "  <style>\n",
              "    .colab-df-container {\n",
              "      display:flex;\n",
              "      flex-wrap:wrap;\n",
              "      gap: 12px;\n",
              "    }\n",
              "\n",
              "    .colab-df-convert {\n",
              "      background-color: #E8F0FE;\n",
              "      border: none;\n",
              "      border-radius: 50%;\n",
              "      cursor: pointer;\n",
              "      display: none;\n",
              "      fill: #1967D2;\n",
              "      height: 32px;\n",
              "      padding: 0 0 0 0;\n",
              "      width: 32px;\n",
              "    }\n",
              "\n",
              "    .colab-df-convert:hover {\n",
              "      background-color: #E2EBFA;\n",
              "      box-shadow: 0px 1px 2px rgba(60, 64, 67, 0.3), 0px 1px 3px 1px rgba(60, 64, 67, 0.15);\n",
              "      fill: #174EA6;\n",
              "    }\n",
              "\n",
              "    [theme=dark] .colab-df-convert {\n",
              "      background-color: #3B4455;\n",
              "      fill: #D2E3FC;\n",
              "    }\n",
              "\n",
              "    [theme=dark] .colab-df-convert:hover {\n",
              "      background-color: #434B5C;\n",
              "      box-shadow: 0px 1px 3px 1px rgba(0, 0, 0, 0.15);\n",
              "      filter: drop-shadow(0px 1px 2px rgba(0, 0, 0, 0.3));\n",
              "      fill: #FFFFFF;\n",
              "    }\n",
              "  </style>\n",
              "\n",
              "      <script>\n",
              "        const buttonEl =\n",
              "          document.querySelector('#df-e1eba47b-07bb-4355-b51b-e5a5b29eaa54 button.colab-df-convert');\n",
              "        buttonEl.style.display =\n",
              "          google.colab.kernel.accessAllowed ? 'block' : 'none';\n",
              "\n",
              "        async function convertToInteractive(key) {\n",
              "          const element = document.querySelector('#df-e1eba47b-07bb-4355-b51b-e5a5b29eaa54');\n",
              "          const dataTable =\n",
              "            await google.colab.kernel.invokeFunction('convertToInteractive',\n",
              "                                                     [key], {});\n",
              "          if (!dataTable) return;\n",
              "\n",
              "          const docLinkHtml = 'Like what you see? Visit the ' +\n",
              "            '<a target=\"_blank\" href=https://colab.research.google.com/notebooks/data_table.ipynb>data table notebook</a>'\n",
              "            + ' to learn more about interactive tables.';\n",
              "          element.innerHTML = '';\n",
              "          dataTable['output_type'] = 'display_data';\n",
              "          await google.colab.output.renderOutput(dataTable, element);\n",
              "          const docLink = document.createElement('div');\n",
              "          docLink.innerHTML = docLinkHtml;\n",
              "          element.appendChild(docLink);\n",
              "        }\n",
              "      </script>\n",
              "    </div>\n",
              "  </div>\n",
              "  "
            ]
          },
          "metadata": {},
          "execution_count": 191
        }
      ],
      "source": [
        "# Top 15 players with most probabilities\n",
        "df_top_15 = all_nba_2018_selections.sort_values([\"prob\"], ascending = False ).head(15)\n",
        "df_top_15"
      ],
      "id": "42562785-2d0d-4e11-a31f-3eca3f78c818"
    },
    {
      "cell_type": "markdown",
      "metadata": {
        "id": "1c27683b-0256-40c5-929c-d5ed6cdf6d1f"
      },
      "source": [
        "2.15. Print:\n",
        "\n",
        "    - Players actually selected from the all_nba_2018_selections dataset,\n",
        "    - Players actually selected missing from OUR predictions\n",
        "    - Players in our predictions not selected "
      ],
      "id": "1c27683b-0256-40c5-929c-d5ed6cdf6d1f"
    },
    {
      "cell_type": "code",
      "execution_count": null,
      "metadata": {
        "id": "fdbcdcac-43bd-4936-8312-456b3b0bd842",
        "colab": {
          "base_uri": "https://localhost:8080/"
        },
        "outputId": "bec55f96-f5c3-4dcc-d749-c018ab10c166"
      },
      "outputs": [
        {
          "output_type": "stream",
          "name": "stdout",
          "text": [
            "Players actually selected from the all_nba_2018_selections dataset :  453      Giannis Antetokounmpo\n",
            "3168             Stephen Curry\n",
            "3908              Kevin Durant\n",
            "4145               Joel Embiid\n",
            "4895               Paul George\n",
            "5016               Rudy Gobert\n",
            "5399             Blake Griffin\n",
            "5604              James Harden\n",
            "6634              Kyrie Irving\n",
            "6857              LeBron James\n",
            "7225              Nikola Jokic\n",
            "8103             Kawhi Leonard\n",
            "8206            Damian Lillard\n",
            "14132             Kemba Walker\n",
            "14479        Russell Westbrook\n",
            "Name: player, dtype: object\n",
            "Players actually selected missing from OUR prediction :  3168     Stephen Curry\n",
            "5399     Blake Griffin\n",
            "6634      Kyrie Irving\n",
            "7225      Nikola Jokic\n",
            "14132     Kemba Walker\n",
            "Name: player, dtype: object\n",
            "Players in our predictions not selected  :  3401         Anthony Davis\n",
            "14027       Nikola Vucevic\n",
            "168      LaMarcus Aldridge\n",
            "3794        Andre Drummond\n",
            "3538         DeMar DeRozan\n",
            "Name: player, dtype: object\n"
          ]
        }
      ],
      "source": [
        "print(\"Players actually selected from the all_nba_2018_selections dataset : \" ,all_nba_2018_selections[\"player\"].loc[all_nba_2018_selections[\"all_nba\"] == 1])\n",
        "print(\"Players actually selected missing from OUR prediction : \", all_nba_2018_selections[\"player\"].loc[(all_nba_2018_selections[\"all_nba\"] == 1) & (all_nba_2018_selections['prob'] < 0.738)])\n",
        "print(\"Players in our predictions not selected  : \",df_top_15[\"player\"].loc[df_top_15[\"all_nba\"] == 0])"
      ],
      "id": "fdbcdcac-43bd-4936-8312-456b3b0bd842"
    },
    {
      "cell_type": "markdown",
      "metadata": {
        "id": "66b994d0-d37a-43c2-a38f-ea5e86afa512"
      },
      "source": [
        "2.16. Create a class named AllNbaSingleSeasonClassifier that takes a scikit learn model in the constructor, then implements a predict method that returns predictions with only the 15 most probable selections."
      ],
      "id": "66b994d0-d37a-43c2-a38f-ea5e86afa512"
    },
    {
      "cell_type": "code",
      "execution_count": null,
      "metadata": {
        "id": "5fc85317-ffc5-45e9-8740-3703b5d1aa86"
      },
      "outputs": [],
      "source": [
        "class AllNbaSingleSeasonClassifier():\n",
        "    \n",
        "    def __init__(self, model):\n",
        "        \"\"\"\n",
        "        Class constructor\n",
        "        Parameters\n",
        "        ----------\n",
        "        model: BaseEstimator\n",
        "            a Scikit learn estimator\n",
        "        \"\"\"\n",
        "        self._model = model\n",
        "\n",
        "    def predict(self, X):\n",
        "        \"\"\"\n",
        "        Predicts all nba selections. This classifier will limit the number\n",
        "        of positive instances to 15\n",
        "        Parameters\n",
        "        ----------\n",
        "        X: pd.DataFrame\n",
        "            a dataframe with the players data\n",
        "        Returns\n",
        "        -------\n",
        "        np.ndarray\n",
        "            An array of the same length as y, with 15 true results based on the players with most probabilities of\n",
        "            beign selected\n",
        "        \"\"\"\n",
        "        X['all_nba'] = self._model.predict_proba(X)[:, 1]\n",
        "        X['all_nba'] = X['all_nba'].round(3)\n",
        "\n",
        "        X_2 = X.copy()\n",
        "        X_2.sort_values('all_nba', inplace=True, ascending=False)\n",
        "        X_2= X_2.head(15)\n",
        "        X_2_idx = list(X_2.index.values)\n",
        "        X.loc[X_2_idx, 'all_nba'] = 1\n",
        "        X.loc[~X.index.isin(X_2_idx),'all_nba'] = 0\n",
        "        X['all_nba'] = X['all_nba'].astype('int')\n",
        "        result = X['all_nba'].to_numpy()\n",
        "        X.drop('all_nba', axis=1, inplace=True)\n",
        "\n",
        "\n",
        "        return result\n"
      ],
      "id": "5fc85317-ffc5-45e9-8740-3703b5d1aa86"
    },
    {
      "cell_type": "markdown",
      "metadata": {
        "id": "0d83848f-8132-4205-bc18-88b8a5f07555"
      },
      "source": [
        "2.17. Use the new classifier to make predictions and evaluate the result with precision, recall and f1"
      ],
      "id": "0d83848f-8132-4205-bc18-88b8a5f07555"
    },
    {
      "cell_type": "code",
      "execution_count": null,
      "metadata": {
        "id": "GHAmVn5zKCbl",
        "colab": {
          "base_uri": "https://localhost:8080/"
        },
        "outputId": "73d9f440-00c5-4ca4-f172-be63910be930"
      },
      "outputs": [
        {
          "output_type": "stream",
          "name": "stdout",
          "text": [
            "Model Precision : 0.6666666666666666\n",
            "Model Recall Score : 0.6666666666666666\n",
            "Model F1 Score : 0.6666666666666666\n"
          ]
        }
      ],
      "source": [
        "single_classifier = AllNbaSingleSeasonClassifier(lgrs)\n",
        "top15_prediction = single_classifier.predict(all_nba_2018_df1)\n",
        "\n",
        "print(\"Model Precision :\", precision_score(all_nba_2018_selections['all_nba'],top15_prediction))\n",
        "print(\"Model Recall Score :\", recall_score(all_nba_2018_selections['all_nba'], top15_prediction))\n",
        "print(\"Model F1 Score :\", f1_score(all_nba_2018_selections['all_nba'], top15_prediction))"
      ],
      "id": "GHAmVn5zKCbl"
    },
    {
      "cell_type": "markdown",
      "metadata": {
        "id": "1dd382f9-9640-47ce-a077-41c8baeb2d9f"
      },
      "source": [
        "#### Analyzing our results"
      ],
      "id": "1dd382f9-9640-47ce-a077-41c8baeb2d9f"
    },
    {
      "cell_type": "markdown",
      "metadata": {
        "id": "f4eb9454-b0d5-40f0-8cb3-0af1ce8ade34"
      },
      "source": [
        "2.18. What do you think it is the main problem with this dataset and the way we trained our model?"
      ],
      "id": "f4eb9454-b0d5-40f0-8cb3-0af1ce8ade34"
    },
    {
      "cell_type": "code",
      "execution_count": null,
      "metadata": {
        "id": "j4jTTlI_PWcK"
      },
      "outputs": [],
      "source": [
        "# We have a very unbalanced dataset, with more than 500 players of which only 15 can be selected"
      ],
      "id": "j4jTTlI_PWcK"
    },
    {
      "cell_type": "markdown",
      "metadata": {
        "id": "e81ac1ea-75ab-4fee-8148-20a4ea663791"
      },
      "source": [
        "2.19. What do you think we could do to improve our model?"
      ],
      "id": "e81ac1ea-75ab-4fee-8148-20a4ea663791"
    },
    {
      "cell_type": "code",
      "execution_count": null,
      "metadata": {
        "id": "SCU7UAH9R5Pi"
      },
      "outputs": [],
      "source": [
        "# Consider the position because only 3 are selected per position then we can get more success in the model"
      ],
      "id": "SCU7UAH9R5Pi"
    },
    {
      "cell_type": "markdown",
      "metadata": {
        "id": "0557c3f5-0e87-4a33-a1dc-fc20dd7d8fd7"
      },
      "source": [
        "### Optional: Oversampling"
      ],
      "id": "0557c3f5-0e87-4a33-a1dc-fc20dd7d8fd7"
    },
    {
      "cell_type": "markdown",
      "metadata": {
        "id": "0089fbf9-0625-4446-bf45-d00da9063b14"
      },
      "source": [
        "2.19. Read about oversampling techniques, for example [SMOTE](https://imbalanced-learn.org/stable/references/generated/imblearn.over_sampling.SMOTE.html). Use this strategy to create synthetic data and retrain our model. Compare the results. "
      ],
      "id": "0089fbf9-0625-4446-bf45-d00da9063b14"
    },
    {
      "cell_type": "code",
      "execution_count": null,
      "metadata": {
        "id": "51a4b48d-cf26-4f14-a478-3b0afa8501dc"
      },
      "outputs": [],
      "source": [],
      "id": "51a4b48d-cf26-4f14-a478-3b0afa8501dc"
    },
    {
      "cell_type": "markdown",
      "metadata": {
        "id": "8b1ee0ca-0d33-490c-9725-638fbd001f02"
      },
      "source": [
        "##3. Optional: Developing a Linear Regressor class from scratch"
      ],
      "id": "8b1ee0ca-0d33-490c-9725-638fbd001f02"
    },
    {
      "cell_type": "markdown",
      "metadata": {
        "id": "aa6d261c-5372-447d-afdf-820aaf3fef26"
      },
      "source": [
        "Our last task will be to code a Linear Regression algorithm using Gradient Descent as its optimization algorithm in Python. The structure of the class is presented below, you should use numpy for numerical computation."
      ],
      "id": "aa6d261c-5372-447d-afdf-820aaf3fef26"
    },
    {
      "cell_type": "markdown",
      "metadata": {
        "id": "8aebe22f-3a17-4404-a12f-918da6a26237"
      },
      "source": [
        "3.1. Write a LinearRegression class that implements fit and predict methods, and uses gradient descent as optimization algorithm"
      ],
      "id": "8aebe22f-3a17-4404-a12f-918da6a26237"
    },
    {
      "cell_type": "code",
      "execution_count": null,
      "metadata": {
        "id": "b4326a55-6896-466d-9d60-3b2667e20de6"
      },
      "outputs": [],
      "source": [
        "    \n",
        "class LinearRegressor:\n",
        "  \"\"\"Linear regression algorithm class. Implements gradient descent as optimization algorithm\"\"\"\n",
        "  \n",
        "  def __init__(self, epochs: int, learning_rate: float):\n",
        "    \"\"\"\n",
        "    Class constructor\n",
        "    \n",
        "    Parameters\n",
        "    ----------\n",
        "    epochs: int\n",
        "      number of epochs to run gradient descent\n",
        "    learning_rate: float\n",
        "      rate of update of the gradients\n",
        "    \"\"\"\n",
        "\n",
        "\n",
        "  def _gradient_descent():\n",
        "    \"\"\"\n",
        "    Gradient descent algorithm\n",
        "    \"\"\"\n",
        "\n",
        "\n",
        "  def fit(self, X, y):\n",
        "    \"\"\"\n",
        "    Fit the model according to the given training data.\n",
        "    \n",
        "    Parameters\n",
        "    ----------\n",
        "    X: np.ndarray\n",
        "    y: np.ndarray\n",
        "    \"\"\"\n",
        "            \n",
        "  def predict(self, X):\n",
        "    \"\"\"\n",
        "    Predict\n",
        "    \n",
        "    Parameters\n",
        "    ----------\n",
        "    X: np.ndarray\n",
        "    \n",
        "    Returns\n",
        "    -------\n",
        "    np.ndarray\n",
        "      array with predictions\n",
        "    \"\"\"\n"
      ],
      "id": "b4326a55-6896-466d-9d60-3b2667e20de6"
    },
    {
      "cell_type": "code",
      "execution_count": null,
      "metadata": {
        "id": "8f7ce501-ef88-4345-8b27-e04914658bf4"
      },
      "outputs": [],
      "source": [],
      "id": "8f7ce501-ef88-4345-8b27-e04914658bf4"
    },
    {
      "cell_type": "markdown",
      "metadata": {
        "id": "ac25e809-7bdf-4dfa-896a-bc4cb8964f94"
      },
      "source": [
        "3.2. Train a regression model with the data from the first section to calculate players salaries using points per game. Try with a few different values (3 or 4 for each should suffice) for epochs and learning rate parameters, calculate MAE for all results and save the best result along with the parameters values used."
      ],
      "id": "ac25e809-7bdf-4dfa-896a-bc4cb8964f94"
    },
    {
      "cell_type": "code",
      "execution_count": null,
      "metadata": {
        "id": "de1c2fe9-e67a-4399-95a1-81cbed3ada45"
      },
      "outputs": [],
      "source": [],
      "id": "de1c2fe9-e67a-4399-95a1-81cbed3ada45"
    },
    {
      "cell_type": "markdown",
      "metadata": {
        "id": "ea78cfff-1216-486f-bd1e-7e42127c029d"
      },
      "source": [
        "3.3. Evaluate the model performance on the test set, and compare with the result you obtained using SGDRegressor from scikit-learn."
      ],
      "id": "ea78cfff-1216-486f-bd1e-7e42127c029d"
    }
  ],
  "metadata": {
    "colab": {
      "provenance": [],
      "include_colab_link": true
    },
    "kernelspec": {
      "display_name": "Python 3 (ipykernel)",
      "language": "python",
      "name": "python3"
    },
    "language_info": {
      "codemirror_mode": {
        "name": "ipython",
        "version": 3
      },
      "file_extension": ".py",
      "mimetype": "text/x-python",
      "name": "python",
      "nbconvert_exporter": "python",
      "pygments_lexer": "ipython3",
      "version": "3.8.9"
    }
  },
  "nbformat": 4,
  "nbformat_minor": 5
}