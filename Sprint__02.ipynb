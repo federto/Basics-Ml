{
  "cells": [
    {
      "cell_type": "markdown",
      "metadata": {
        "id": "view-in-github",
        "colab_type": "text"
      },
      "source": [
        "<a href=\"https://colab.research.google.com/github/federto/Sprint-01---02-/blob/main/Sprint__02.ipynb\" target=\"_parent\"><img src=\"https://colab.research.google.com/assets/colab-badge.svg\" alt=\"Open In Colab\"/></a>"
      ]
    },
    {
      "cell_type": "markdown",
      "metadata": {
        "id": "9d3c07ee-c3bf-4530-812a-36405502b38d"
      },
      "source": [
        "# Anyone AI - Project III\n",
        "\n",
        "# Home Credit Default Risk\n"
      ],
      "id": "9d3c07ee-c3bf-4530-812a-36405502b38d"
    },
    {
      "cell_type": "markdown",
      "metadata": {
        "id": "b5a8ce13-f23a-41bf-a8c7-d432ebcbe0c1"
      },
      "source": [
        "You've been learning a lot about Machine Learning Algorithms, now we you're gonna be asked to put it all togheter. "
      ],
      "id": "b5a8ce13-f23a-41bf-a8c7-d432ebcbe0c1"
    },
    {
      "cell_type": "markdown",
      "metadata": {
        "id": "58ca3658-e8a1-41ba-a823-1a88ca9ef34b"
      },
      "source": [
        "You will create a complete pipeline to preprocess the data, train your model and then predict values for the [Home Credit Default Risk](https://www.kaggle.com/competitions/home-credit-default-risk/) Kaggle competition."
      ],
      "id": "58ca3658-e8a1-41ba-a823-1a88ca9ef34b"
    },
    {
      "cell_type": "markdown",
      "metadata": {
        "id": "e396c950-04b0-453e-b930-a22a96cee2d1"
      },
      "source": [
        "## 1. Introduction"
      ],
      "id": "e396c950-04b0-453e-b930-a22a96cee2d1"
    },
    {
      "cell_type": "markdown",
      "metadata": {
        "id": "6a305c07-e042-4c59-8aea-03475afc09dd"
      },
      "source": [
        "This is a binary Classification task: we want to predict whether the person applying for a home credit will be able to repay its debt or not.\n",
        "\n",
        "The dataset is composed of multiple files with different information about loands taken. In this project we're going to exclusively work with the main files: application_train.csv and application_test.csv.\n",
        "\n",
        "We will use [Area Under the ROC Curve](https://developers.google.com/machine-learning/crash-course/classification/roc-and-auc?hl=es_419) as the evaluation metric, so our models will have to return the probabilities that a loan is not paid for each row."
      ],
      "id": "6a305c07-e042-4c59-8aea-03475afc09dd"
    },
    {
      "cell_type": "markdown",
      "metadata": {
        "id": "3ab085b5-379c-4e02-9f96-08edf5dbf887"
      },
      "source": [
        "### Getting the data\n",
        "\n",
        "To access the data for this project, you only need to execute the code below. This will download three files:\n",
        "\n",
        "- `application_train.csv`: Training dataset you must use to train and find the best hyperparameters on your model.\n",
        "- `application_test.csv`: Test dataset, use it only when you are done choosing the model and the parameters.\n",
        "- `HomeCredit_columns_description.csv`: This file contains descriptions for the columns in train and test datasets.\n"
      ],
      "id": "3ab085b5-379c-4e02-9f96-08edf5dbf887"
    },
    {
      "cell_type": "markdown",
      "metadata": {
        "id": "hLbJP4buUstA"
      },
      "source": [
        "**Don't change anything in this cell, just make it run correctly**"
      ],
      "id": "hLbJP4buUstA"
    },
    {
      "cell_type": "code",
      "execution_count": null,
      "metadata": {
        "id": "5mJptffWhjTJ"
      },
      "outputs": [],
      "source": [
        "# import packages\n",
        "import pandas as pd\n",
        "import seaborn as sns\n",
        "import matplotlib as plt\n",
        "import numpy as np\n",
        "import warnings\n",
        "warnings.filterwarnings('ignore')\n",
        "from sklearn import preprocessing\n",
        "from sklearn.preprocessing import StandardScaler\n",
        "from sklearn.metrics import roc_auc_score\n",
        "from sklearn.ensemble import RandomForestClassifier\n",
        "from sklearn.model_selection import RandomizedSearchCV\n",
        "from sklearn.linear_model import LogisticRegression"
      ],
      "id": "5mJptffWhjTJ"
    },
    {
      "cell_type": "code",
      "execution_count": null,
      "metadata": {
        "colab": {
          "base_uri": "https://localhost:8080/"
        },
        "id": "D5cV-ffCwaWP",
        "outputId": "8288aa16-2983-45e5-9532-3f8ba141cb37"
      },
      "outputs": [
        {
          "output_type": "stream",
          "name": "stdout",
          "text": [
            "Downloading...\n",
            "From: https://drive.google.com/uc?id=1NXzAquurYrTSxMv6sEsWyDdty5teVg0r\n",
            "To: /content/application_test.csv\n",
            "100% 50.2M/50.2M [00:00<00:00, 78.8MB/s]\n",
            "Downloading...\n",
            "From: https://drive.google.com/uc?id=1k0rH0x2rAhHki9urSjVNS8xLwt3P-KPp\n",
            "To: /content/application_train.csv\n",
            "100% 117M/117M [00:02<00:00, 57.3MB/s]\n",
            "Downloading...\n",
            "From: https://drive.google.com/uc?id=136vZHxiyLKsyLl2iAJoSNZQQW9mZ__1J\n",
            "To: /content/HomeCredit_columns_description.csv\n",
            "100% 24.6k/24.6k [00:00<00:00, 48.3MB/s]\n"
          ]
        }
      ],
      "source": [
        "!gdown 1NXzAquurYrTSxMv6sEsWyDdty5teVg0r\n",
        "!gdown 1k0rH0x2rAhHki9urSjVNS8xLwt3P-KPp\n",
        "!gdown 136vZHxiyLKsyLl2iAJoSNZQQW9mZ__1J"
      ],
      "id": "D5cV-ffCwaWP"
    },
    {
      "cell_type": "markdown",
      "metadata": {
        "id": "25a0a724-ceb1-40cb-b123-b8c907a9c06f"
      },
      "source": [
        "1.1. Load the training and test datasets using pandas `read_csv()` function. Assign them to `app_train` and `app_test` variables respectively."
      ],
      "id": "25a0a724-ceb1-40cb-b123-b8c907a9c06f"
    },
    {
      "cell_type": "code",
      "execution_count": null,
      "metadata": {
        "id": "1d62ba4d-a3f6-443b-8c3e-65582a85d8a6"
      },
      "outputs": [],
      "source": [
        "### Complete in this cell: Loading the dataset\n",
        "app_train = pd.read_csv(\"application_train.csv\", index_col=False)\n",
        "app_test = pd.read_csv(\"application_test.csv\", index_col=False)"
      ],
      "id": "1d62ba4d-a3f6-443b-8c3e-65582a85d8a6"
    },
    {
      "cell_type": "markdown",
      "metadata": {
        "id": "MnA4l8-rWraC"
      },
      "source": [
        "**Don't change anything in this cell, just make it run correctly**"
      ],
      "id": "MnA4l8-rWraC"
    },
    {
      "cell_type": "code",
      "execution_count": null,
      "metadata": {
        "colab": {
          "base_uri": "https://localhost:8080/"
        },
        "id": "jrkLdOJnWoSS",
        "outputId": "ddbc3efc-a47e-4c99-d6c5-1981e4377bd6"
      },
      "outputs": [
        {
          "output_type": "stream",
          "name": "stdout",
          "text": [
            "Success: app_train shape is correct!\n",
            "Success: app_train type is correct!\n",
            "Success: app_test shape is correct!\n",
            "Success: app_test type is correct!\n"
          ]
        }
      ],
      "source": [
        "if app_train.shape == (215257, 123):\n",
        "  print('Success: app_train shape is correct!')\n",
        "else:\n",
        "  raise ValueError('Train dataset shape is incorrect, please review your code')\n",
        "\n",
        "if isinstance(app_train, pd.DataFrame):\n",
        "  print('Success: app_train type is correct!')\n",
        "else:\n",
        "  raise ValueError('Train dataset type is incorrect, please review your code')\n",
        "\n",
        "if app_test.shape == (92254, 123):\n",
        "  print('Success: app_test shape is correct!')\n",
        "else:\n",
        "  raise ValueError('Test dataset shape is incorrect, please review your code')\n",
        "\n",
        "if isinstance(app_test, pd.DataFrame):\n",
        "  print('Success: app_test type is correct!')\n",
        "else:\n",
        "  raise ValueError('Test dataset type is incorrect, please review your code')"
      ],
      "id": "jrkLdOJnWoSS"
    },
    {
      "cell_type": "markdown",
      "metadata": {
        "id": "7c10a608-5c38-44f4-8158-18225619e7ae"
      },
      "source": [
        "### Exploratory Data Analysis"
      ],
      "id": "7c10a608-5c38-44f4-8158-18225619e7ae"
    },
    {
      "cell_type": "markdown",
      "metadata": {
        "id": "6bc490ab-a7b3-4590-a93c-70df44787682"
      },
      "source": [
        "A lot of the analysis of the data can be found on public available Kaggle kernels or blog posts, but you need to make sure you understand the datasets properties before starting working on it, so we'll do exploratory data analysis for the main files"
      ],
      "id": "6bc490ab-a7b3-4590-a93c-70df44787682"
    },
    {
      "cell_type": "markdown",
      "metadata": {
        "id": "2ea774d3-e12c-4c2b-846d-8c5c03e70928"
      },
      "source": [
        "**Dataset Basics**"
      ],
      "id": "2ea774d3-e12c-4c2b-846d-8c5c03e70928"
    },
    {
      "cell_type": "markdown",
      "metadata": {
        "id": "9f0b4817-5768-49d2-b5f2-907827541f16"
      },
      "source": [
        "1.2. Print how many samples do we have in our train and test datasets."
      ],
      "id": "9f0b4817-5768-49d2-b5f2-907827541f16"
    },
    {
      "cell_type": "code",
      "execution_count": null,
      "metadata": {
        "colab": {
          "base_uri": "https://localhost:8080/"
        },
        "id": "6a98fdd5-cbf2-4d20-9559-89c7cf5943cd",
        "outputId": "71361c21-e40f-4098-af06-d07916e367aa"
      },
      "outputs": [
        {
          "output_type": "stream",
          "name": "stdout",
          "text": [
            "app_test shape :  (92254, 123)\n",
            "app_train shape :  (215257, 123)\n"
          ]
        }
      ],
      "source": [
        "### Complete in this cell: shape of the dataset\n",
        "print(\"app_test shape : \", app_test.shape)\n",
        "print(\"app_train shape : \", app_train.shape)"
      ],
      "id": "6a98fdd5-cbf2-4d20-9559-89c7cf5943cd"
    },
    {
      "cell_type": "markdown",
      "metadata": {
        "id": "74e7a95b-8288-4ead-8c1e-f2cf68167d8e"
      },
      "source": [
        "1.3. List all columns in the train dataset."
      ],
      "id": "74e7a95b-8288-4ead-8c1e-f2cf68167d8e"
    },
    {
      "cell_type": "code",
      "execution_count": null,
      "metadata": {
        "colab": {
          "base_uri": "https://localhost:8080/"
        },
        "id": "d7af2f2e-93db-41e6-bb26-df1ad0be7786",
        "outputId": "2eca0a23-9c76-41ed-edff-4411365da941"
      },
      "outputs": [
        {
          "output_type": "stream",
          "name": "stdout",
          "text": [
            "Unnamed: 0\n",
            "SK_ID_CURR\n",
            "TARGET\n",
            "NAME_CONTRACT_TYPE\n",
            "CODE_GENDER\n",
            "FLAG_OWN_CAR\n",
            "FLAG_OWN_REALTY\n",
            "CNT_CHILDREN\n",
            "AMT_INCOME_TOTAL\n",
            "AMT_CREDIT\n",
            "AMT_ANNUITY\n",
            "AMT_GOODS_PRICE\n",
            "NAME_TYPE_SUITE\n",
            "NAME_INCOME_TYPE\n",
            "NAME_EDUCATION_TYPE\n",
            "NAME_FAMILY_STATUS\n",
            "NAME_HOUSING_TYPE\n",
            "REGION_POPULATION_RELATIVE\n",
            "DAYS_BIRTH\n",
            "DAYS_EMPLOYED\n",
            "DAYS_REGISTRATION\n",
            "DAYS_ID_PUBLISH\n",
            "OWN_CAR_AGE\n",
            "FLAG_MOBIL\n",
            "FLAG_EMP_PHONE\n",
            "FLAG_WORK_PHONE\n",
            "FLAG_CONT_MOBILE\n",
            "FLAG_PHONE\n",
            "FLAG_EMAIL\n",
            "OCCUPATION_TYPE\n",
            "CNT_FAM_MEMBERS\n",
            "REGION_RATING_CLIENT\n",
            "REGION_RATING_CLIENT_W_CITY\n",
            "WEEKDAY_APPR_PROCESS_START\n",
            "HOUR_APPR_PROCESS_START\n",
            "REG_REGION_NOT_LIVE_REGION\n",
            "REG_REGION_NOT_WORK_REGION\n",
            "LIVE_REGION_NOT_WORK_REGION\n",
            "REG_CITY_NOT_LIVE_CITY\n",
            "REG_CITY_NOT_WORK_CITY\n",
            "LIVE_CITY_NOT_WORK_CITY\n",
            "ORGANIZATION_TYPE\n",
            "EXT_SOURCE_1\n",
            "EXT_SOURCE_2\n",
            "EXT_SOURCE_3\n",
            "APARTMENTS_AVG\n",
            "BASEMENTAREA_AVG\n",
            "YEARS_BEGINEXPLUATATION_AVG\n",
            "YEARS_BUILD_AVG\n",
            "COMMONAREA_AVG\n",
            "ELEVATORS_AVG\n",
            "ENTRANCES_AVG\n",
            "FLOORSMAX_AVG\n",
            "FLOORSMIN_AVG\n",
            "LANDAREA_AVG\n",
            "LIVINGAPARTMENTS_AVG\n",
            "LIVINGAREA_AVG\n",
            "NONLIVINGAPARTMENTS_AVG\n",
            "NONLIVINGAREA_AVG\n",
            "APARTMENTS_MODE\n",
            "BASEMENTAREA_MODE\n",
            "YEARS_BEGINEXPLUATATION_MODE\n",
            "YEARS_BUILD_MODE\n",
            "COMMONAREA_MODE\n",
            "ELEVATORS_MODE\n",
            "ENTRANCES_MODE\n",
            "FLOORSMAX_MODE\n",
            "FLOORSMIN_MODE\n",
            "LANDAREA_MODE\n",
            "LIVINGAPARTMENTS_MODE\n",
            "LIVINGAREA_MODE\n",
            "NONLIVINGAPARTMENTS_MODE\n",
            "NONLIVINGAREA_MODE\n",
            "APARTMENTS_MEDI\n",
            "BASEMENTAREA_MEDI\n",
            "YEARS_BEGINEXPLUATATION_MEDI\n",
            "YEARS_BUILD_MEDI\n",
            "COMMONAREA_MEDI\n",
            "ELEVATORS_MEDI\n",
            "ENTRANCES_MEDI\n",
            "FLOORSMAX_MEDI\n",
            "FLOORSMIN_MEDI\n",
            "LANDAREA_MEDI\n",
            "LIVINGAPARTMENTS_MEDI\n",
            "LIVINGAREA_MEDI\n",
            "NONLIVINGAPARTMENTS_MEDI\n",
            "NONLIVINGAREA_MEDI\n",
            "FONDKAPREMONT_MODE\n",
            "HOUSETYPE_MODE\n",
            "TOTALAREA_MODE\n",
            "WALLSMATERIAL_MODE\n",
            "EMERGENCYSTATE_MODE\n",
            "OBS_30_CNT_SOCIAL_CIRCLE\n",
            "DEF_30_CNT_SOCIAL_CIRCLE\n",
            "OBS_60_CNT_SOCIAL_CIRCLE\n",
            "DEF_60_CNT_SOCIAL_CIRCLE\n",
            "DAYS_LAST_PHONE_CHANGE\n",
            "FLAG_DOCUMENT_2\n",
            "FLAG_DOCUMENT_3\n",
            "FLAG_DOCUMENT_4\n",
            "FLAG_DOCUMENT_5\n",
            "FLAG_DOCUMENT_6\n",
            "FLAG_DOCUMENT_7\n",
            "FLAG_DOCUMENT_8\n",
            "FLAG_DOCUMENT_9\n",
            "FLAG_DOCUMENT_10\n",
            "FLAG_DOCUMENT_11\n",
            "FLAG_DOCUMENT_12\n",
            "FLAG_DOCUMENT_13\n",
            "FLAG_DOCUMENT_14\n",
            "FLAG_DOCUMENT_15\n",
            "FLAG_DOCUMENT_16\n",
            "FLAG_DOCUMENT_17\n",
            "FLAG_DOCUMENT_18\n",
            "FLAG_DOCUMENT_19\n",
            "FLAG_DOCUMENT_20\n",
            "FLAG_DOCUMENT_21\n",
            "AMT_REQ_CREDIT_BUREAU_HOUR\n",
            "AMT_REQ_CREDIT_BUREAU_DAY\n",
            "AMT_REQ_CREDIT_BUREAU_WEEK\n",
            "AMT_REQ_CREDIT_BUREAU_MON\n",
            "AMT_REQ_CREDIT_BUREAU_QRT\n",
            "AMT_REQ_CREDIT_BUREAU_YEAR\n"
          ]
        }
      ],
      "source": [
        "### Complete in this cell: Show all columns in the training dataset \n",
        "for col in app_train.columns:\n",
        "  print(col)"
      ],
      "id": "d7af2f2e-93db-41e6-bb26-df1ad0be7786"
    },
    {
      "cell_type": "markdown",
      "metadata": {
        "id": "2dc4835f-90c3-4049-9ec2-44d102201104"
      },
      "source": [
        "1.4. Show the first 5 records of the training dataset, transpose the dataframe to see each record as a column and features as rows, make sure all features are visualized. Take your time to review what kind of information you can gather from this data."
      ],
      "id": "2dc4835f-90c3-4049-9ec2-44d102201104"
    },
    {
      "cell_type": "code",
      "execution_count": null,
      "metadata": {
        "id": "ac9c85b3-52e0-4b80-9753-afb81f92bd0d"
      },
      "outputs": [],
      "source": [
        "### Complete in this cell: show first 5 records in a transposed table\n",
        "app_train.head(5)\n",
        "app_train_tranpose = app_train.T"
      ],
      "id": "ac9c85b3-52e0-4b80-9753-afb81f92bd0d"
    },
    {
      "cell_type": "code",
      "execution_count": null,
      "metadata": {
        "colab": {
          "base_uri": "https://localhost:8080/",
          "height": 485
        },
        "id": "M8GuTfWR9L-8",
        "outputId": "8ac3e635-052b-4333-b5be-7c5710e04370"
      },
      "outputs": [
        {
          "output_type": "execute_result",
          "data": {
            "text/plain": [
              "                                0           1           2           3       \\\n",
              "Unnamed: 0                      187399       84777      268140      270686   \n",
              "SK_ID_CURR                      317244      198357      410700      413785   \n",
              "TARGET                               0           0           0           0   \n",
              "NAME_CONTRACT_TYPE          Cash loans  Cash loans  Cash loans  Cash loans   \n",
              "CODE_GENDER                          F           M           F           F   \n",
              "...                                ...         ...         ...         ...   \n",
              "AMT_REQ_CREDIT_BUREAU_DAY          0.0         0.0         0.0         0.0   \n",
              "AMT_REQ_CREDIT_BUREAU_WEEK         0.0         0.0         0.0         0.0   \n",
              "AMT_REQ_CREDIT_BUREAU_MON          0.0         0.0         0.0         0.0   \n",
              "AMT_REQ_CREDIT_BUREAU_QRT          0.0         1.0         0.0         1.0   \n",
              "AMT_REQ_CREDIT_BUREAU_YEAR         0.0         5.0         1.0         1.0   \n",
              "\n",
              "                                4           5           6           7       \\\n",
              "Unnamed: 0                       33785      220690       39819      305532   \n",
              "SK_ID_CURR                      139141      355660      146117      453987   \n",
              "TARGET                               0           0           0           0   \n",
              "NAME_CONTRACT_TYPE          Cash loans  Cash loans  Cash loans  Cash loans   \n",
              "CODE_GENDER                          F           M           F           F   \n",
              "...                                ...         ...         ...         ...   \n",
              "AMT_REQ_CREDIT_BUREAU_DAY          0.0         0.0         0.0         0.0   \n",
              "AMT_REQ_CREDIT_BUREAU_WEEK         0.0         0.0         0.0         0.0   \n",
              "AMT_REQ_CREDIT_BUREAU_MON          0.0         0.0         0.0         0.0   \n",
              "AMT_REQ_CREDIT_BUREAU_QRT          0.0         0.0         1.0         0.0   \n",
              "AMT_REQ_CREDIT_BUREAU_YEAR         7.0         2.0         2.0         0.0   \n",
              "\n",
              "                                8           9       ...      215247  \\\n",
              "Unnamed: 0                       61889      124932  ...      281726   \n",
              "SK_ID_CURR                      171783      244882  ...      426351   \n",
              "TARGET                               0           0  ...           1   \n",
              "NAME_CONTRACT_TYPE          Cash loans  Cash loans  ...  Cash loans   \n",
              "CODE_GENDER                          M           M  ...           M   \n",
              "...                                ...         ...  ...         ...   \n",
              "AMT_REQ_CREDIT_BUREAU_DAY          0.0         0.0  ...         NaN   \n",
              "AMT_REQ_CREDIT_BUREAU_WEEK         0.0         0.0  ...         NaN   \n",
              "AMT_REQ_CREDIT_BUREAU_MON          0.0         1.0  ...         NaN   \n",
              "AMT_REQ_CREDIT_BUREAU_QRT          2.0         0.0  ...         NaN   \n",
              "AMT_REQ_CREDIT_BUREAU_YEAR         4.0         1.0  ...         NaN   \n",
              "\n",
              "                                215248      215249      215250      215251  \\\n",
              "Unnamed: 0                      277289      192656      213016      133138   \n",
              "SK_ID_CURR                      421313      323416      346846      254416   \n",
              "TARGET                               0           0           0           0   \n",
              "NAME_CONTRACT_TYPE          Cash loans  Cash loans  Cash loans  Cash loans   \n",
              "CODE_GENDER                          F           F           F           F   \n",
              "...                                ...         ...         ...         ...   \n",
              "AMT_REQ_CREDIT_BUREAU_DAY          0.0         0.0         NaN         0.0   \n",
              "AMT_REQ_CREDIT_BUREAU_WEEK         0.0         0.0         NaN         0.0   \n",
              "AMT_REQ_CREDIT_BUREAU_MON          0.0         0.0         NaN         0.0   \n",
              "AMT_REQ_CREDIT_BUREAU_QRT          0.0         1.0         NaN         0.0   \n",
              "AMT_REQ_CREDIT_BUREAU_YEAR         1.0         4.0         NaN         0.0   \n",
              "\n",
              "                                215252      215253      215254      215255  \\\n",
              "Unnamed: 0                      202992      262129      103024      147629   \n",
              "SK_ID_CURR                      335324      403429      219587      271174   \n",
              "TARGET                               0           0           0           0   \n",
              "NAME_CONTRACT_TYPE          Cash loans  Cash loans  Cash loans  Cash loans   \n",
              "CODE_GENDER                          F           F           M           F   \n",
              "...                                ...         ...         ...         ...   \n",
              "AMT_REQ_CREDIT_BUREAU_DAY          0.0         0.0         0.0         0.0   \n",
              "AMT_REQ_CREDIT_BUREAU_WEEK         0.0         0.0         0.0         1.0   \n",
              "AMT_REQ_CREDIT_BUREAU_MON          0.0         0.0         0.0         0.0   \n",
              "AMT_REQ_CREDIT_BUREAU_QRT          0.0         0.0         0.0         0.0   \n",
              "AMT_REQ_CREDIT_BUREAU_YEAR         3.0         3.0         2.0         1.0   \n",
              "\n",
              "                                215256  \n",
              "Unnamed: 0                      263388  \n",
              "SK_ID_CURR                      404958  \n",
              "TARGET                               0  \n",
              "NAME_CONTRACT_TYPE          Cash loans  \n",
              "CODE_GENDER                          M  \n",
              "...                                ...  \n",
              "AMT_REQ_CREDIT_BUREAU_DAY          0.0  \n",
              "AMT_REQ_CREDIT_BUREAU_WEEK         0.0  \n",
              "AMT_REQ_CREDIT_BUREAU_MON          0.0  \n",
              "AMT_REQ_CREDIT_BUREAU_QRT          0.0  \n",
              "AMT_REQ_CREDIT_BUREAU_YEAR         2.0  \n",
              "\n",
              "[123 rows x 215257 columns]"
            ],
            "text/html": [
              "\n",
              "  <div id=\"df-d5f2eb51-2f1b-42e5-8b9c-e6a14b1a4c91\">\n",
              "    <div class=\"colab-df-container\">\n",
              "      <div>\n",
              "<style scoped>\n",
              "    .dataframe tbody tr th:only-of-type {\n",
              "        vertical-align: middle;\n",
              "    }\n",
              "\n",
              "    .dataframe tbody tr th {\n",
              "        vertical-align: top;\n",
              "    }\n",
              "\n",
              "    .dataframe thead th {\n",
              "        text-align: right;\n",
              "    }\n",
              "</style>\n",
              "<table border=\"1\" class=\"dataframe\">\n",
              "  <thead>\n",
              "    <tr style=\"text-align: right;\">\n",
              "      <th></th>\n",
              "      <th>0</th>\n",
              "      <th>1</th>\n",
              "      <th>2</th>\n",
              "      <th>3</th>\n",
              "      <th>4</th>\n",
              "      <th>5</th>\n",
              "      <th>6</th>\n",
              "      <th>7</th>\n",
              "      <th>8</th>\n",
              "      <th>9</th>\n",
              "      <th>...</th>\n",
              "      <th>215247</th>\n",
              "      <th>215248</th>\n",
              "      <th>215249</th>\n",
              "      <th>215250</th>\n",
              "      <th>215251</th>\n",
              "      <th>215252</th>\n",
              "      <th>215253</th>\n",
              "      <th>215254</th>\n",
              "      <th>215255</th>\n",
              "      <th>215256</th>\n",
              "    </tr>\n",
              "  </thead>\n",
              "  <tbody>\n",
              "    <tr>\n",
              "      <th>Unnamed: 0</th>\n",
              "      <td>187399</td>\n",
              "      <td>84777</td>\n",
              "      <td>268140</td>\n",
              "      <td>270686</td>\n",
              "      <td>33785</td>\n",
              "      <td>220690</td>\n",
              "      <td>39819</td>\n",
              "      <td>305532</td>\n",
              "      <td>61889</td>\n",
              "      <td>124932</td>\n",
              "      <td>...</td>\n",
              "      <td>281726</td>\n",
              "      <td>277289</td>\n",
              "      <td>192656</td>\n",
              "      <td>213016</td>\n",
              "      <td>133138</td>\n",
              "      <td>202992</td>\n",
              "      <td>262129</td>\n",
              "      <td>103024</td>\n",
              "      <td>147629</td>\n",
              "      <td>263388</td>\n",
              "    </tr>\n",
              "    <tr>\n",
              "      <th>SK_ID_CURR</th>\n",
              "      <td>317244</td>\n",
              "      <td>198357</td>\n",
              "      <td>410700</td>\n",
              "      <td>413785</td>\n",
              "      <td>139141</td>\n",
              "      <td>355660</td>\n",
              "      <td>146117</td>\n",
              "      <td>453987</td>\n",
              "      <td>171783</td>\n",
              "      <td>244882</td>\n",
              "      <td>...</td>\n",
              "      <td>426351</td>\n",
              "      <td>421313</td>\n",
              "      <td>323416</td>\n",
              "      <td>346846</td>\n",
              "      <td>254416</td>\n",
              "      <td>335324</td>\n",
              "      <td>403429</td>\n",
              "      <td>219587</td>\n",
              "      <td>271174</td>\n",
              "      <td>404958</td>\n",
              "    </tr>\n",
              "    <tr>\n",
              "      <th>TARGET</th>\n",
              "      <td>0</td>\n",
              "      <td>0</td>\n",
              "      <td>0</td>\n",
              "      <td>0</td>\n",
              "      <td>0</td>\n",
              "      <td>0</td>\n",
              "      <td>0</td>\n",
              "      <td>0</td>\n",
              "      <td>0</td>\n",
              "      <td>0</td>\n",
              "      <td>...</td>\n",
              "      <td>1</td>\n",
              "      <td>0</td>\n",
              "      <td>0</td>\n",
              "      <td>0</td>\n",
              "      <td>0</td>\n",
              "      <td>0</td>\n",
              "      <td>0</td>\n",
              "      <td>0</td>\n",
              "      <td>0</td>\n",
              "      <td>0</td>\n",
              "    </tr>\n",
              "    <tr>\n",
              "      <th>NAME_CONTRACT_TYPE</th>\n",
              "      <td>Cash loans</td>\n",
              "      <td>Cash loans</td>\n",
              "      <td>Cash loans</td>\n",
              "      <td>Cash loans</td>\n",
              "      <td>Cash loans</td>\n",
              "      <td>Cash loans</td>\n",
              "      <td>Cash loans</td>\n",
              "      <td>Cash loans</td>\n",
              "      <td>Cash loans</td>\n",
              "      <td>Cash loans</td>\n",
              "      <td>...</td>\n",
              "      <td>Cash loans</td>\n",
              "      <td>Cash loans</td>\n",
              "      <td>Cash loans</td>\n",
              "      <td>Cash loans</td>\n",
              "      <td>Cash loans</td>\n",
              "      <td>Cash loans</td>\n",
              "      <td>Cash loans</td>\n",
              "      <td>Cash loans</td>\n",
              "      <td>Cash loans</td>\n",
              "      <td>Cash loans</td>\n",
              "    </tr>\n",
              "    <tr>\n",
              "      <th>CODE_GENDER</th>\n",
              "      <td>F</td>\n",
              "      <td>M</td>\n",
              "      <td>F</td>\n",
              "      <td>F</td>\n",
              "      <td>F</td>\n",
              "      <td>M</td>\n",
              "      <td>F</td>\n",
              "      <td>F</td>\n",
              "      <td>M</td>\n",
              "      <td>M</td>\n",
              "      <td>...</td>\n",
              "      <td>M</td>\n",
              "      <td>F</td>\n",
              "      <td>F</td>\n",
              "      <td>F</td>\n",
              "      <td>F</td>\n",
              "      <td>F</td>\n",
              "      <td>F</td>\n",
              "      <td>M</td>\n",
              "      <td>F</td>\n",
              "      <td>M</td>\n",
              "    </tr>\n",
              "    <tr>\n",
              "      <th>...</th>\n",
              "      <td>...</td>\n",
              "      <td>...</td>\n",
              "      <td>...</td>\n",
              "      <td>...</td>\n",
              "      <td>...</td>\n",
              "      <td>...</td>\n",
              "      <td>...</td>\n",
              "      <td>...</td>\n",
              "      <td>...</td>\n",
              "      <td>...</td>\n",
              "      <td>...</td>\n",
              "      <td>...</td>\n",
              "      <td>...</td>\n",
              "      <td>...</td>\n",
              "      <td>...</td>\n",
              "      <td>...</td>\n",
              "      <td>...</td>\n",
              "      <td>...</td>\n",
              "      <td>...</td>\n",
              "      <td>...</td>\n",
              "      <td>...</td>\n",
              "    </tr>\n",
              "    <tr>\n",
              "      <th>AMT_REQ_CREDIT_BUREAU_DAY</th>\n",
              "      <td>0.0</td>\n",
              "      <td>0.0</td>\n",
              "      <td>0.0</td>\n",
              "      <td>0.0</td>\n",
              "      <td>0.0</td>\n",
              "      <td>0.0</td>\n",
              "      <td>0.0</td>\n",
              "      <td>0.0</td>\n",
              "      <td>0.0</td>\n",
              "      <td>0.0</td>\n",
              "      <td>...</td>\n",
              "      <td>NaN</td>\n",
              "      <td>0.0</td>\n",
              "      <td>0.0</td>\n",
              "      <td>NaN</td>\n",
              "      <td>0.0</td>\n",
              "      <td>0.0</td>\n",
              "      <td>0.0</td>\n",
              "      <td>0.0</td>\n",
              "      <td>0.0</td>\n",
              "      <td>0.0</td>\n",
              "    </tr>\n",
              "    <tr>\n",
              "      <th>AMT_REQ_CREDIT_BUREAU_WEEK</th>\n",
              "      <td>0.0</td>\n",
              "      <td>0.0</td>\n",
              "      <td>0.0</td>\n",
              "      <td>0.0</td>\n",
              "      <td>0.0</td>\n",
              "      <td>0.0</td>\n",
              "      <td>0.0</td>\n",
              "      <td>0.0</td>\n",
              "      <td>0.0</td>\n",
              "      <td>0.0</td>\n",
              "      <td>...</td>\n",
              "      <td>NaN</td>\n",
              "      <td>0.0</td>\n",
              "      <td>0.0</td>\n",
              "      <td>NaN</td>\n",
              "      <td>0.0</td>\n",
              "      <td>0.0</td>\n",
              "      <td>0.0</td>\n",
              "      <td>0.0</td>\n",
              "      <td>1.0</td>\n",
              "      <td>0.0</td>\n",
              "    </tr>\n",
              "    <tr>\n",
              "      <th>AMT_REQ_CREDIT_BUREAU_MON</th>\n",
              "      <td>0.0</td>\n",
              "      <td>0.0</td>\n",
              "      <td>0.0</td>\n",
              "      <td>0.0</td>\n",
              "      <td>0.0</td>\n",
              "      <td>0.0</td>\n",
              "      <td>0.0</td>\n",
              "      <td>0.0</td>\n",
              "      <td>0.0</td>\n",
              "      <td>1.0</td>\n",
              "      <td>...</td>\n",
              "      <td>NaN</td>\n",
              "      <td>0.0</td>\n",
              "      <td>0.0</td>\n",
              "      <td>NaN</td>\n",
              "      <td>0.0</td>\n",
              "      <td>0.0</td>\n",
              "      <td>0.0</td>\n",
              "      <td>0.0</td>\n",
              "      <td>0.0</td>\n",
              "      <td>0.0</td>\n",
              "    </tr>\n",
              "    <tr>\n",
              "      <th>AMT_REQ_CREDIT_BUREAU_QRT</th>\n",
              "      <td>0.0</td>\n",
              "      <td>1.0</td>\n",
              "      <td>0.0</td>\n",
              "      <td>1.0</td>\n",
              "      <td>0.0</td>\n",
              "      <td>0.0</td>\n",
              "      <td>1.0</td>\n",
              "      <td>0.0</td>\n",
              "      <td>2.0</td>\n",
              "      <td>0.0</td>\n",
              "      <td>...</td>\n",
              "      <td>NaN</td>\n",
              "      <td>0.0</td>\n",
              "      <td>1.0</td>\n",
              "      <td>NaN</td>\n",
              "      <td>0.0</td>\n",
              "      <td>0.0</td>\n",
              "      <td>0.0</td>\n",
              "      <td>0.0</td>\n",
              "      <td>0.0</td>\n",
              "      <td>0.0</td>\n",
              "    </tr>\n",
              "    <tr>\n",
              "      <th>AMT_REQ_CREDIT_BUREAU_YEAR</th>\n",
              "      <td>0.0</td>\n",
              "      <td>5.0</td>\n",
              "      <td>1.0</td>\n",
              "      <td>1.0</td>\n",
              "      <td>7.0</td>\n",
              "      <td>2.0</td>\n",
              "      <td>2.0</td>\n",
              "      <td>0.0</td>\n",
              "      <td>4.0</td>\n",
              "      <td>1.0</td>\n",
              "      <td>...</td>\n",
              "      <td>NaN</td>\n",
              "      <td>1.0</td>\n",
              "      <td>4.0</td>\n",
              "      <td>NaN</td>\n",
              "      <td>0.0</td>\n",
              "      <td>3.0</td>\n",
              "      <td>3.0</td>\n",
              "      <td>2.0</td>\n",
              "      <td>1.0</td>\n",
              "      <td>2.0</td>\n",
              "    </tr>\n",
              "  </tbody>\n",
              "</table>\n",
              "<p>123 rows × 215257 columns</p>\n",
              "</div>\n",
              "      <button class=\"colab-df-convert\" onclick=\"convertToInteractive('df-d5f2eb51-2f1b-42e5-8b9c-e6a14b1a4c91')\"\n",
              "              title=\"Convert this dataframe to an interactive table.\"\n",
              "              style=\"display:none;\">\n",
              "        \n",
              "  <svg xmlns=\"http://www.w3.org/2000/svg\" height=\"24px\"viewBox=\"0 0 24 24\"\n",
              "       width=\"24px\">\n",
              "    <path d=\"M0 0h24v24H0V0z\" fill=\"none\"/>\n",
              "    <path d=\"M18.56 5.44l.94 2.06.94-2.06 2.06-.94-2.06-.94-.94-2.06-.94 2.06-2.06.94zm-11 1L8.5 8.5l.94-2.06 2.06-.94-2.06-.94L8.5 2.5l-.94 2.06-2.06.94zm10 10l.94 2.06.94-2.06 2.06-.94-2.06-.94-.94-2.06-.94 2.06-2.06.94z\"/><path d=\"M17.41 7.96l-1.37-1.37c-.4-.4-.92-.59-1.43-.59-.52 0-1.04.2-1.43.59L10.3 9.45l-7.72 7.72c-.78.78-.78 2.05 0 2.83L4 21.41c.39.39.9.59 1.41.59.51 0 1.02-.2 1.41-.59l7.78-7.78 2.81-2.81c.8-.78.8-2.07 0-2.86zM5.41 20L4 18.59l7.72-7.72 1.47 1.35L5.41 20z\"/>\n",
              "  </svg>\n",
              "      </button>\n",
              "      \n",
              "  <style>\n",
              "    .colab-df-container {\n",
              "      display:flex;\n",
              "      flex-wrap:wrap;\n",
              "      gap: 12px;\n",
              "    }\n",
              "\n",
              "    .colab-df-convert {\n",
              "      background-color: #E8F0FE;\n",
              "      border: none;\n",
              "      border-radius: 50%;\n",
              "      cursor: pointer;\n",
              "      display: none;\n",
              "      fill: #1967D2;\n",
              "      height: 32px;\n",
              "      padding: 0 0 0 0;\n",
              "      width: 32px;\n",
              "    }\n",
              "\n",
              "    .colab-df-convert:hover {\n",
              "      background-color: #E2EBFA;\n",
              "      box-shadow: 0px 1px 2px rgba(60, 64, 67, 0.3), 0px 1px 3px 1px rgba(60, 64, 67, 0.15);\n",
              "      fill: #174EA6;\n",
              "    }\n",
              "\n",
              "    [theme=dark] .colab-df-convert {\n",
              "      background-color: #3B4455;\n",
              "      fill: #D2E3FC;\n",
              "    }\n",
              "\n",
              "    [theme=dark] .colab-df-convert:hover {\n",
              "      background-color: #434B5C;\n",
              "      box-shadow: 0px 1px 3px 1px rgba(0, 0, 0, 0.15);\n",
              "      filter: drop-shadow(0px 1px 2px rgba(0, 0, 0, 0.3));\n",
              "      fill: #FFFFFF;\n",
              "    }\n",
              "  </style>\n",
              "\n",
              "      <script>\n",
              "        const buttonEl =\n",
              "          document.querySelector('#df-d5f2eb51-2f1b-42e5-8b9c-e6a14b1a4c91 button.colab-df-convert');\n",
              "        buttonEl.style.display =\n",
              "          google.colab.kernel.accessAllowed ? 'block' : 'none';\n",
              "\n",
              "        async function convertToInteractive(key) {\n",
              "          const element = document.querySelector('#df-d5f2eb51-2f1b-42e5-8b9c-e6a14b1a4c91');\n",
              "          const dataTable =\n",
              "            await google.colab.kernel.invokeFunction('convertToInteractive',\n",
              "                                                     [key], {});\n",
              "          if (!dataTable) return;\n",
              "\n",
              "          const docLinkHtml = 'Like what you see? Visit the ' +\n",
              "            '<a target=\"_blank\" href=https://colab.research.google.com/notebooks/data_table.ipynb>data table notebook</a>'\n",
              "            + ' to learn more about interactive tables.';\n",
              "          element.innerHTML = '';\n",
              "          dataTable['output_type'] = 'display_data';\n",
              "          await google.colab.output.renderOutput(dataTable, element);\n",
              "          const docLink = document.createElement('div');\n",
              "          docLink.innerHTML = docLinkHtml;\n",
              "          element.appendChild(docLink);\n",
              "        }\n",
              "      </script>\n",
              "    </div>\n",
              "  </div>\n",
              "  "
            ]
          },
          "metadata": {},
          "execution_count": 8
        }
      ],
      "source": [
        "app_train_tranpose "
      ],
      "id": "M8GuTfWR9L-8"
    },
    {
      "cell_type": "markdown",
      "metadata": {
        "id": "59da8f46-e503-4b67-8e73-ac61c394824c"
      },
      "source": [
        "1.5. Show the distribution of the target variable values: print the total value count and the percentage of each value, plot this relationship."
      ],
      "id": "59da8f46-e503-4b67-8e73-ac61c394824c"
    },
    {
      "cell_type": "code",
      "execution_count": null,
      "metadata": {
        "colab": {
          "base_uri": "https://localhost:8080/",
          "height": 296
        },
        "id": "8855d370-c825-415b-9dd0-9dbdd576fada",
        "outputId": "0190bc59-0f49-438c-faba-bb12c050c8f1"
      },
      "outputs": [
        {
          "output_type": "execute_result",
          "data": {
            "text/plain": [
              "<matplotlib.axes._subplots.AxesSubplot at 0x7fc9320c0810>"
            ]
          },
          "metadata": {},
          "execution_count": 9
        },
        {
          "output_type": "display_data",
          "data": {
            "text/plain": [
              "<Figure size 432x288 with 1 Axes>"
            ],
            "image/png": "[encoded data removed]"
          },
          "metadata": {
            "needs_background": "light"
          }
        }
      ],
      "source": [
        "### Complete in this cell: show distribution of target variable\n",
        "sns.countplot(data = app_train, y = \"TARGET\")"
      ],
      "id": "8855d370-c825-415b-9dd0-9dbdd576fada"
    },
    {
      "cell_type": "code",
      "execution_count": null,
      "metadata": {
        "colab": {
          "base_uri": "https://localhost:8080/",
          "height": 112
        },
        "id": "0GxlQnDyh3rM",
        "outputId": "eaa4b346-ceae-46fb-da2d-cb786eb5483c"
      },
      "outputs": [
        {
          "output_type": "execute_result",
          "data": {
            "text/plain": [
              "   Total Count   Total %\n",
              "0       197882  0.919283\n",
              "1        17375  0.080717"
            ],
            "text/html": [
              "\n",
              "  <div id=\"df-9bcbfaa4-b2da-428a-b365-1ccfca2fcf1c\">\n",
              "    <div class=\"colab-df-container\">\n",
              "      <div>\n",
              "<style scoped>\n",
              "    .dataframe tbody tr th:only-of-type {\n",
              "        vertical-align: middle;\n",
              "    }\n",
              "\n",
              "    .dataframe tbody tr th {\n",
              "        vertical-align: top;\n",
              "    }\n",
              "\n",
              "    .dataframe thead th {\n",
              "        text-align: right;\n",
              "    }\n",
              "</style>\n",
              "<table border=\"1\" class=\"dataframe\">\n",
              "  <thead>\n",
              "    <tr style=\"text-align: right;\">\n",
              "      <th></th>\n",
              "      <th>Total Count</th>\n",
              "      <th>Total %</th>\n",
              "    </tr>\n",
              "  </thead>\n",
              "  <tbody>\n",
              "    <tr>\n",
              "      <th>0</th>\n",
              "      <td>197882</td>\n",
              "      <td>0.919283</td>\n",
              "    </tr>\n",
              "    <tr>\n",
              "      <th>1</th>\n",
              "      <td>17375</td>\n",
              "      <td>0.080717</td>\n",
              "    </tr>\n",
              "  </tbody>\n",
              "</table>\n",
              "</div>\n",
              "      <button class=\"colab-df-convert\" onclick=\"convertToInteractive('df-9bcbfaa4-b2da-428a-b365-1ccfca2fcf1c')\"\n",
              "              title=\"Convert this dataframe to an interactive table.\"\n",
              "              style=\"display:none;\">\n",
              "        \n",
              "  <svg xmlns=\"http://www.w3.org/2000/svg\" height=\"24px\"viewBox=\"0 0 24 24\"\n",
              "       width=\"24px\">\n",
              "    <path d=\"M0 0h24v24H0V0z\" fill=\"none\"/>\n",
              "    <path d=\"M18.56 5.44l.94 2.06.94-2.06 2.06-.94-2.06-.94-.94-2.06-.94 2.06-2.06.94zm-11 1L8.5 8.5l.94-2.06 2.06-.94-2.06-.94L8.5 2.5l-.94 2.06-2.06.94zm10 10l.94 2.06.94-2.06 2.06-.94-2.06-.94-.94-2.06-.94 2.06-2.06.94z\"/><path d=\"M17.41 7.96l-1.37-1.37c-.4-.4-.92-.59-1.43-.59-.52 0-1.04.2-1.43.59L10.3 9.45l-7.72 7.72c-.78.78-.78 2.05 0 2.83L4 21.41c.39.39.9.59 1.41.59.51 0 1.02-.2 1.41-.59l7.78-7.78 2.81-2.81c.8-.78.8-2.07 0-2.86zM5.41 20L4 18.59l7.72-7.72 1.47 1.35L5.41 20z\"/>\n",
              "  </svg>\n",
              "      </button>\n",
              "      \n",
              "  <style>\n",
              "    .colab-df-container {\n",
              "      display:flex;\n",
              "      flex-wrap:wrap;\n",
              "      gap: 12px;\n",
              "    }\n",
              "\n",
              "    .colab-df-convert {\n",
              "      background-color: #E8F0FE;\n",
              "      border: none;\n",
              "      border-radius: 50%;\n",
              "      cursor: pointer;\n",
              "      display: none;\n",
              "      fill: #1967D2;\n",
              "      height: 32px;\n",
              "      padding: 0 0 0 0;\n",
              "      width: 32px;\n",
              "    }\n",
              "\n",
              "    .colab-df-convert:hover {\n",
              "      background-color: #E2EBFA;\n",
              "      box-shadow: 0px 1px 2px rgba(60, 64, 67, 0.3), 0px 1px 3px 1px rgba(60, 64, 67, 0.15);\n",
              "      fill: #174EA6;\n",
              "    }\n",
              "\n",
              "    [theme=dark] .colab-df-convert {\n",
              "      background-color: #3B4455;\n",
              "      fill: #D2E3FC;\n",
              "    }\n",
              "\n",
              "    [theme=dark] .colab-df-convert:hover {\n",
              "      background-color: #434B5C;\n",
              "      box-shadow: 0px 1px 3px 1px rgba(0, 0, 0, 0.15);\n",
              "      filter: drop-shadow(0px 1px 2px rgba(0, 0, 0, 0.3));\n",
              "      fill: #FFFFFF;\n",
              "    }\n",
              "  </style>\n",
              "\n",
              "      <script>\n",
              "        const buttonEl =\n",
              "          document.querySelector('#df-9bcbfaa4-b2da-428a-b365-1ccfca2fcf1c button.colab-df-convert');\n",
              "        buttonEl.style.display =\n",
              "          google.colab.kernel.accessAllowed ? 'block' : 'none';\n",
              "\n",
              "        async function convertToInteractive(key) {\n",
              "          const element = document.querySelector('#df-9bcbfaa4-b2da-428a-b365-1ccfca2fcf1c');\n",
              "          const dataTable =\n",
              "            await google.colab.kernel.invokeFunction('convertToInteractive',\n",
              "                                                     [key], {});\n",
              "          if (!dataTable) return;\n",
              "\n",
              "          const docLinkHtml = 'Like what you see? Visit the ' +\n",
              "            '<a target=\"_blank\" href=https://colab.research.google.com/notebooks/data_table.ipynb>data table notebook</a>'\n",
              "            + ' to learn more about interactive tables.';\n",
              "          element.innerHTML = '';\n",
              "          dataTable['output_type'] = 'display_data';\n",
              "          await google.colab.output.renderOutput(dataTable, element);\n",
              "          const docLink = document.createElement('div');\n",
              "          docLink.innerHTML = docLinkHtml;\n",
              "          element.appendChild(docLink);\n",
              "        }\n",
              "      </script>\n",
              "    </div>\n",
              "  </div>\n",
              "  "
            ]
          },
          "metadata": {},
          "execution_count": 93
        }
      ],
      "source": [
        "# \n",
        "val_target_perc = app_train[\"TARGET\"].value_counts(normalize = True)\n",
        "val_target_count = app_train[\"TARGET\"].value_counts()\n",
        "val_target_table = pd.concat([val_target_count, val_target_perc], axis=1)\n",
        "val_target_table.columns = [\"Total Count\", \"Total %\"]\n",
        "val_target_table"
      ],
      "id": "0GxlQnDyh3rM"
    },
    {
      "cell_type": "markdown",
      "metadata": {
        "id": "cc7b5a63-da31-4a61-9e91-9708dc7633a7"
      },
      "source": [
        "1.6. Show the number of columns of each data type.\n",
        "\n",
        "Just for giving you an idea, the output should look like this (not exactly the same numbers):\n",
        "\n",
        "```python\n",
        "float64    45\n",
        "int64      32\n",
        "object     10\n",
        "```"
      ],
      "id": "cc7b5a63-da31-4a61-9e91-9708dc7633a7"
    },
    {
      "cell_type": "code",
      "execution_count": null,
      "metadata": {
        "colab": {
          "base_uri": "https://localhost:8080/"
        },
        "id": "b74878dd-cc48-4e69-bc35-e90457d54b3a",
        "outputId": "81241e3f-144e-4031-d263-7d1e4859fa5a"
      },
      "outputs": [
        {
          "output_type": "execute_result",
          "data": {
            "text/plain": [
              "float64    65\n",
              "int64      42\n",
              "object     16\n",
              "dtype: int64"
            ]
          },
          "metadata": {},
          "execution_count": 94
        }
      ],
      "source": [
        "### Complete in this cell: show number of columns per data type\n",
        "app_train.dtypes.value_counts()"
      ],
      "id": "b74878dd-cc48-4e69-bc35-e90457d54b3a"
    },
    {
      "cell_type": "markdown",
      "metadata": {
        "id": "c0a8799e-d32a-4239-a85d-6ff29ab4682f"
      },
      "source": [
        "1.7. For categorical variables, show the number of distinct values in each column (number of labels).\n",
        "\n",
        "Just for giving you an idea, the output should look like this (not exactly the same numbers):\n",
        "\n",
        "```python\n",
        "NAME_CONTRACT_TYPE             5\n",
        "CODE_GENDER                    2\n",
        "FLAG_OWN_CAR                   1\n",
        "FLAG_OWN_REALTY                1\n",
        "...\n",
        "```"
      ],
      "id": "c0a8799e-d32a-4239-a85d-6ff29ab4682f"
    },
    {
      "cell_type": "code",
      "execution_count": null,
      "metadata": {
        "colab": {
          "base_uri": "https://localhost:8080/"
        },
        "id": "8b294976-dc0d-44bd-9bf6-29ba1f6a2e2b",
        "outputId": "f9be3890-6260-4c67-a208-b86dadd43326"
      },
      "outputs": [
        {
          "output_type": "execute_result",
          "data": {
            "text/plain": [
              "NAME_CONTRACT_TYPE             2\n",
              "CODE_GENDER                    3\n",
              "FLAG_OWN_CAR                   2\n",
              "FLAG_OWN_REALTY                2\n",
              "NAME_TYPE_SUITE                7\n",
              "NAME_INCOME_TYPE               8\n",
              "NAME_EDUCATION_TYPE            5\n",
              "NAME_FAMILY_STATUS             6\n",
              "NAME_HOUSING_TYPE              6\n",
              "OCCUPATION_TYPE               18\n",
              "WEEKDAY_APPR_PROCESS_START     7\n",
              "ORGANIZATION_TYPE             58\n",
              "FONDKAPREMONT_MODE             4\n",
              "HOUSETYPE_MODE                 3\n",
              "WALLSMATERIAL_MODE             7\n",
              "EMERGENCYSTATE_MODE            2\n",
              "dtype: int64"
            ]
          },
          "metadata": {},
          "execution_count": 95
        }
      ],
      "source": [
        "### Complete in this cell: show number of unique values per categorical column\n",
        "app_train.select_dtypes('object').apply(pd.Series.nunique)"
      ],
      "id": "8b294976-dc0d-44bd-9bf6-29ba1f6a2e2b"
    },
    {
      "cell_type": "markdown",
      "metadata": {
        "id": "967d1938-e27d-4fbd-9bdc-f26364f5fdfd"
      },
      "source": [
        "1.8. Analyzing missing data: show the percentage of missing data for each column ordered by percentage descending (show only the 20 columns with higher missing pct)\n",
        "\n",
        "Just for giving you an idea, the output should look like this (not exactly the same numbers and columns names):\n",
        "\n",
        "```python\n",
        "                   Total   Percent\n",
        "COMMONAREA_AVG    121000      85.2\n",
        "COMMONAREA_MODE   121000      76.6\n",
        "COMMONAREA_MEDI   121000      62.9\n",
        "...\n",
        "```"
      ],
      "id": "967d1938-e27d-4fbd-9bdc-f26364f5fdfd"
    },
    {
      "cell_type": "code",
      "execution_count": null,
      "metadata": {
        "id": "0b65aa7e-d8a2-44b0-9803-ca5277471470"
      },
      "outputs": [],
      "source": [
        "### Complete in this cell: checking missing data\n",
        "\n",
        "# Function to calculate missing values by column# Funct \n",
        "def missing_values_table(df):\n",
        "       \n",
        "        # Total missing values\n",
        "        mis_val = df.isnull().sum()\n",
        "        \n",
        "        # Percentage of missing values\n",
        "        mis_val_percent = 100 * df.isnull().sum() / len(df)\n",
        "        \n",
        "        # Make a table with the results\n",
        "        mis_val_table = pd.concat([mis_val, mis_val_percent], axis=1)\n",
        "        \n",
        "        # Rename the columns\n",
        "        mis_val_table_ren_columns = mis_val_table.rename(\n",
        "        columns = {0 : 'Missing Values', 1 : '% of Total Values'})\n",
        "        \n",
        "        # Sort the table by percentage of missing descending\n",
        "        mis_val_table_ren_columns = mis_val_table_ren_columns[\n",
        "            mis_val_table_ren_columns.iloc[:,1] != 0].sort_values(\n",
        "        '% of Total Values', ascending=False).round(1)\n",
        "        \n",
        "        # Print some summary information\n",
        "        print (\"Your selected dataframe has \" + str(df.shape[1]) + \" columns.\\n\"      \n",
        "            \"There are \" + str(mis_val_table_ren_columns.shape[0]) +\n",
        "              \" columns that have missing values.\")\n",
        "        \n",
        "        # Return the dataframe with missing information\n",
        "        return mis_val_table_ren_columns"
      ],
      "id": "0b65aa7e-d8a2-44b0-9803-ca5277471470"
    },
    {
      "cell_type": "code",
      "execution_count": null,
      "metadata": {
        "colab": {
          "base_uri": "https://localhost:8080/",
          "height": 711
        },
        "id": "8zmNtDqtvAxn",
        "outputId": "4a3cf4fb-6314-4690-9ec7-a0cfcb65b58b"
      },
      "outputs": [
        {
          "output_type": "stream",
          "name": "stdout",
          "text": [
            "Your selected dataframe has 123 columns.\n",
            "There are 66 columns that have missing values.\n"
          ]
        },
        {
          "output_type": "execute_result",
          "data": {
            "text/plain": [
              "                          Missing Values  % of Total Values\n",
              "COMMONAREA_MEDI                   150393               69.9\n",
              "COMMONAREA_AVG                    150393               69.9\n",
              "COMMONAREA_MODE                   150393               69.9\n",
              "NONLIVINGAPARTMENTS_MEDI          149483               69.4\n",
              "NONLIVINGAPARTMENTS_MODE          149483               69.4\n",
              "NONLIVINGAPARTMENTS_AVG           149483               69.4\n",
              "FONDKAPREMONT_MODE                147217               68.4\n",
              "LIVINGAPARTMENTS_MODE             147144               68.4\n",
              "LIVINGAPARTMENTS_MEDI             147144               68.4\n",
              "LIVINGAPARTMENTS_AVG              147144               68.4\n",
              "FLOORSMIN_MODE                    146070               67.9\n",
              "FLOORSMIN_MEDI                    146070               67.9\n",
              "FLOORSMIN_AVG                     146070               67.9\n",
              "YEARS_BUILD_MODE                  143149               66.5\n",
              "YEARS_BUILD_MEDI                  143149               66.5\n",
              "YEARS_BUILD_AVG                   143149               66.5\n",
              "OWN_CAR_AGE                       142017               66.0\n",
              "LANDAREA_AVG                      127983               59.5\n",
              "LANDAREA_MEDI                     127983               59.5\n",
              "LANDAREA_MODE                     127983               59.5"
            ],
            "text/html": [
              "\n",
              "  <div id=\"df-85ddbac6-a25d-4a94-8abd-b7c8463bcab5\">\n",
              "    <div class=\"colab-df-container\">\n",
              "      <div>\n",
              "<style scoped>\n",
              "    .dataframe tbody tr th:only-of-type {\n",
              "        vertical-align: middle;\n",
              "    }\n",
              "\n",
              "    .dataframe tbody tr th {\n",
              "        vertical-align: top;\n",
              "    }\n",
              "\n",
              "    .dataframe thead th {\n",
              "        text-align: right;\n",
              "    }\n",
              "</style>\n",
              "<table border=\"1\" class=\"dataframe\">\n",
              "  <thead>\n",
              "    <tr style=\"text-align: right;\">\n",
              "      <th></th>\n",
              "      <th>Missing Values</th>\n",
              "      <th>% of Total Values</th>\n",
              "    </tr>\n",
              "  </thead>\n",
              "  <tbody>\n",
              "    <tr>\n",
              "      <th>COMMONAREA_MEDI</th>\n",
              "      <td>150393</td>\n",
              "      <td>69.9</td>\n",
              "    </tr>\n",
              "    <tr>\n",
              "      <th>COMMONAREA_AVG</th>\n",
              "      <td>150393</td>\n",
              "      <td>69.9</td>\n",
              "    </tr>\n",
              "    <tr>\n",
              "      <th>COMMONAREA_MODE</th>\n",
              "      <td>150393</td>\n",
              "      <td>69.9</td>\n",
              "    </tr>\n",
              "    <tr>\n",
              "      <th>NONLIVINGAPARTMENTS_MEDI</th>\n",
              "      <td>149483</td>\n",
              "      <td>69.4</td>\n",
              "    </tr>\n",
              "    <tr>\n",
              "      <th>NONLIVINGAPARTMENTS_MODE</th>\n",
              "      <td>149483</td>\n",
              "      <td>69.4</td>\n",
              "    </tr>\n",
              "    <tr>\n",
              "      <th>NONLIVINGAPARTMENTS_AVG</th>\n",
              "      <td>149483</td>\n",
              "      <td>69.4</td>\n",
              "    </tr>\n",
              "    <tr>\n",
              "      <th>FONDKAPREMONT_MODE</th>\n",
              "      <td>147217</td>\n",
              "      <td>68.4</td>\n",
              "    </tr>\n",
              "    <tr>\n",
              "      <th>LIVINGAPARTMENTS_MODE</th>\n",
              "      <td>147144</td>\n",
              "      <td>68.4</td>\n",
              "    </tr>\n",
              "    <tr>\n",
              "      <th>LIVINGAPARTMENTS_MEDI</th>\n",
              "      <td>147144</td>\n",
              "      <td>68.4</td>\n",
              "    </tr>\n",
              "    <tr>\n",
              "      <th>LIVINGAPARTMENTS_AVG</th>\n",
              "      <td>147144</td>\n",
              "      <td>68.4</td>\n",
              "    </tr>\n",
              "    <tr>\n",
              "      <th>FLOORSMIN_MODE</th>\n",
              "      <td>146070</td>\n",
              "      <td>67.9</td>\n",
              "    </tr>\n",
              "    <tr>\n",
              "      <th>FLOORSMIN_MEDI</th>\n",
              "      <td>146070</td>\n",
              "      <td>67.9</td>\n",
              "    </tr>\n",
              "    <tr>\n",
              "      <th>FLOORSMIN_AVG</th>\n",
              "      <td>146070</td>\n",
              "      <td>67.9</td>\n",
              "    </tr>\n",
              "    <tr>\n",
              "      <th>YEARS_BUILD_MODE</th>\n",
              "      <td>143149</td>\n",
              "      <td>66.5</td>\n",
              "    </tr>\n",
              "    <tr>\n",
              "      <th>YEARS_BUILD_MEDI</th>\n",
              "      <td>143149</td>\n",
              "      <td>66.5</td>\n",
              "    </tr>\n",
              "    <tr>\n",
              "      <th>YEARS_BUILD_AVG</th>\n",
              "      <td>143149</td>\n",
              "      <td>66.5</td>\n",
              "    </tr>\n",
              "    <tr>\n",
              "      <th>OWN_CAR_AGE</th>\n",
              "      <td>142017</td>\n",
              "      <td>66.0</td>\n",
              "    </tr>\n",
              "    <tr>\n",
              "      <th>LANDAREA_AVG</th>\n",
              "      <td>127983</td>\n",
              "      <td>59.5</td>\n",
              "    </tr>\n",
              "    <tr>\n",
              "      <th>LANDAREA_MEDI</th>\n",
              "      <td>127983</td>\n",
              "      <td>59.5</td>\n",
              "    </tr>\n",
              "    <tr>\n",
              "      <th>LANDAREA_MODE</th>\n",
              "      <td>127983</td>\n",
              "      <td>59.5</td>\n",
              "    </tr>\n",
              "  </tbody>\n",
              "</table>\n",
              "</div>\n",
              "      <button class=\"colab-df-convert\" onclick=\"convertToInteractive('df-85ddbac6-a25d-4a94-8abd-b7c8463bcab5')\"\n",
              "              title=\"Convert this dataframe to an interactive table.\"\n",
              "              style=\"display:none;\">\n",
              "        \n",
              "  <svg xmlns=\"http://www.w3.org/2000/svg\" height=\"24px\"viewBox=\"0 0 24 24\"\n",
              "       width=\"24px\">\n",
              "    <path d=\"M0 0h24v24H0V0z\" fill=\"none\"/>\n",
              "    <path d=\"M18.56 5.44l.94 2.06.94-2.06 2.06-.94-2.06-.94-.94-2.06-.94 2.06-2.06.94zm-11 1L8.5 8.5l.94-2.06 2.06-.94-2.06-.94L8.5 2.5l-.94 2.06-2.06.94zm10 10l.94 2.06.94-2.06 2.06-.94-2.06-.94-.94-2.06-.94 2.06-2.06.94z\"/><path d=\"M17.41 7.96l-1.37-1.37c-.4-.4-.92-.59-1.43-.59-.52 0-1.04.2-1.43.59L10.3 9.45l-7.72 7.72c-.78.78-.78 2.05 0 2.83L4 21.41c.39.39.9.59 1.41.59.51 0 1.02-.2 1.41-.59l7.78-7.78 2.81-2.81c.8-.78.8-2.07 0-2.86zM5.41 20L4 18.59l7.72-7.72 1.47 1.35L5.41 20z\"/>\n",
              "  </svg>\n",
              "      </button>\n",
              "      \n",
              "  <style>\n",
              "    .colab-df-container {\n",
              "      display:flex;\n",
              "      flex-wrap:wrap;\n",
              "      gap: 12px;\n",
              "    }\n",
              "\n",
              "    .colab-df-convert {\n",
              "      background-color: #E8F0FE;\n",
              "      border: none;\n",
              "      border-radius: 50%;\n",
              "      cursor: pointer;\n",
              "      display: none;\n",
              "      fill: #1967D2;\n",
              "      height: 32px;\n",
              "      padding: 0 0 0 0;\n",
              "      width: 32px;\n",
              "    }\n",
              "\n",
              "    .colab-df-convert:hover {\n",
              "      background-color: #E2EBFA;\n",
              "      box-shadow: 0px 1px 2px rgba(60, 64, 67, 0.3), 0px 1px 3px 1px rgba(60, 64, 67, 0.15);\n",
              "      fill: #174EA6;\n",
              "    }\n",
              "\n",
              "    [theme=dark] .colab-df-convert {\n",
              "      background-color: #3B4455;\n",
              "      fill: #D2E3FC;\n",
              "    }\n",
              "\n",
              "    [theme=dark] .colab-df-convert:hover {\n",
              "      background-color: #434B5C;\n",
              "      box-shadow: 0px 1px 3px 1px rgba(0, 0, 0, 0.15);\n",
              "      filter: drop-shadow(0px 1px 2px rgba(0, 0, 0, 0.3));\n",
              "      fill: #FFFFFF;\n",
              "    }\n",
              "  </style>\n",
              "\n",
              "      <script>\n",
              "        const buttonEl =\n",
              "          document.querySelector('#df-85ddbac6-a25d-4a94-8abd-b7c8463bcab5 button.colab-df-convert');\n",
              "        buttonEl.style.display =\n",
              "          google.colab.kernel.accessAllowed ? 'block' : 'none';\n",
              "\n",
              "        async function convertToInteractive(key) {\n",
              "          const element = document.querySelector('#df-85ddbac6-a25d-4a94-8abd-b7c8463bcab5');\n",
              "          const dataTable =\n",
              "            await google.colab.kernel.invokeFunction('convertToInteractive',\n",
              "                                                     [key], {});\n",
              "          if (!dataTable) return;\n",
              "\n",
              "          const docLinkHtml = 'Like what you see? Visit the ' +\n",
              "            '<a target=\"_blank\" href=https://colab.research.google.com/notebooks/data_table.ipynb>data table notebook</a>'\n",
              "            + ' to learn more about interactive tables.';\n",
              "          element.innerHTML = '';\n",
              "          dataTable['output_type'] = 'display_data';\n",
              "          await google.colab.output.renderOutput(dataTable, element);\n",
              "          const docLink = document.createElement('div');\n",
              "          docLink.innerHTML = docLinkHtml;\n",
              "          element.appendChild(docLink);\n",
              "        }\n",
              "      </script>\n",
              "    </div>\n",
              "  </div>\n",
              "  "
            ]
          },
          "metadata": {},
          "execution_count": 97
        }
      ],
      "source": [
        "missing_values = missing_values_table(app_train)\n",
        "missing_values.head(20)"
      ],
      "id": "8zmNtDqtvAxn"
    },
    {
      "cell_type": "markdown",
      "metadata": {
        "id": "783c5bb6-6b6d-4e34-bbe2-3a5dc319a4f0"
      },
      "source": [
        "**Analyzing distribution of variables**"
      ],
      "id": "783c5bb6-6b6d-4e34-bbe2-3a5dc319a4f0"
    },
    {
      "cell_type": "markdown",
      "metadata": {
        "id": "9c79d319-bde8-47a4-890d-6694edf221e2"
      },
      "source": [
        "1.9. Show the distribution of credit amounts."
      ],
      "id": "9c79d319-bde8-47a4-890d-6694edf221e2"
    },
    {
      "cell_type": "code",
      "execution_count": null,
      "metadata": {
        "colab": {
          "base_uri": "https://localhost:8080/",
          "height": 386
        },
        "id": "bc953042-9744-498e-a435-fa660e76c70d",
        "outputId": "4867f678-57a2-48c4-d9e1-e0cfb00b149a"
      },
      "outputs": [
        {
          "output_type": "execute_result",
          "data": {
            "text/plain": [
              "<seaborn.axisgrid.FacetGrid at 0x7f9d90eddd50>"
            ]
          },
          "metadata": {},
          "execution_count": 98
        },
        {
          "output_type": "display_data",
          "data": {
            "text/plain": [
              "<Figure size 360x360 with 1 Axes>"
            ],
            "image/png": "[encoded data removed]"
          },
          "metadata": {
            "needs_background": "light"
          }
        }
      ],
      "source": [
        "### Complete in this cell: distribution of credit amounts\n",
        "sns.displot(app_train[\"AMT_CREDIT\"])"
      ],
      "id": "bc953042-9744-498e-a435-fa660e76c70d"
    },
    {
      "cell_type": "markdown",
      "metadata": {
        "id": "f4e7bf4a-25c7-47c0-aea8-ed916d8827f6"
      },
      "source": [
        "1.10. Plot the education level of the credit applicants, show the percentages of each category. Also print the total counts for each category."
      ],
      "id": "f4e7bf4a-25c7-47c0-aea8-ed916d8827f6"
    },
    {
      "cell_type": "code",
      "execution_count": null,
      "metadata": {
        "colab": {
          "base_uri": "https://localhost:8080/",
          "height": 296
        },
        "id": "406d7d06-b21a-4938-8e3d-11798def489b",
        "outputId": "56b85927-f341-44f8-c182-1d816ac122b3"
      },
      "outputs": [
        {
          "output_type": "execute_result",
          "data": {
            "text/plain": [
              "<matplotlib.axes._subplots.AxesSubplot at 0x7f9d7b3c4710>"
            ]
          },
          "metadata": {},
          "execution_count": 99
        },
        {
          "output_type": "display_data",
          "data": {
            "text/plain": [
              "<Figure size 432x288 with 1 Axes>"
            ],
            "image/png": "[encoded data removed]"
          },
          "metadata": {
            "needs_background": "light"
          }
        }
      ],
      "source": [
        "### Complete in this cell: level of education plot\n",
        "sns.countplot(y =\"NAME_EDUCATION_TYPE\", data = app_train)"
      ],
      "id": "406d7d06-b21a-4938-8e3d-11798def489b"
    },
    {
      "cell_type": "code",
      "execution_count": null,
      "metadata": {
        "colab": {
          "base_uri": "https://localhost:8080/",
          "height": 206
        },
        "id": "Fbj4_rh_ogQf",
        "outputId": "50c31701-314a-4253-ced3-4242e2bd5f85"
      },
      "outputs": [
        {
          "output_type": "execute_result",
          "data": {
            "text/plain": [
              "                               Total Count   Total %\n",
              "Secondary / secondary special       153062  0.711066\n",
              "Higher education                     52283  0.242886\n",
              "Incomplete higher                     7166  0.033290\n",
              "Lower secondary                       2634  0.012237\n",
              "Academic degree                        112  0.000520"
            ],
            "text/html": [
              "\n",
              "  <div id=\"df-76bb58be-aed2-4e37-8193-04756934d567\">\n",
              "    <div class=\"colab-df-container\">\n",
              "      <div>\n",
              "<style scoped>\n",
              "    .dataframe tbody tr th:only-of-type {\n",
              "        vertical-align: middle;\n",
              "    }\n",
              "\n",
              "    .dataframe tbody tr th {\n",
              "        vertical-align: top;\n",
              "    }\n",
              "\n",
              "    .dataframe thead th {\n",
              "        text-align: right;\n",
              "    }\n",
              "</style>\n",
              "<table border=\"1\" class=\"dataframe\">\n",
              "  <thead>\n",
              "    <tr style=\"text-align: right;\">\n",
              "      <th></th>\n",
              "      <th>Total Count</th>\n",
              "      <th>Total %</th>\n",
              "    </tr>\n",
              "  </thead>\n",
              "  <tbody>\n",
              "    <tr>\n",
              "      <th>Secondary / secondary special</th>\n",
              "      <td>153062</td>\n",
              "      <td>0.711066</td>\n",
              "    </tr>\n",
              "    <tr>\n",
              "      <th>Higher education</th>\n",
              "      <td>52283</td>\n",
              "      <td>0.242886</td>\n",
              "    </tr>\n",
              "    <tr>\n",
              "      <th>Incomplete higher</th>\n",
              "      <td>7166</td>\n",
              "      <td>0.033290</td>\n",
              "    </tr>\n",
              "    <tr>\n",
              "      <th>Lower secondary</th>\n",
              "      <td>2634</td>\n",
              "      <td>0.012237</td>\n",
              "    </tr>\n",
              "    <tr>\n",
              "      <th>Academic degree</th>\n",
              "      <td>112</td>\n",
              "      <td>0.000520</td>\n",
              "    </tr>\n",
              "  </tbody>\n",
              "</table>\n",
              "</div>\n",
              "      <button class=\"colab-df-convert\" onclick=\"convertToInteractive('df-76bb58be-aed2-4e37-8193-04756934d567')\"\n",
              "              title=\"Convert this dataframe to an interactive table.\"\n",
              "              style=\"display:none;\">\n",
              "        \n",
              "  <svg xmlns=\"http://www.w3.org/2000/svg\" height=\"24px\"viewBox=\"0 0 24 24\"\n",
              "       width=\"24px\">\n",
              "    <path d=\"M0 0h24v24H0V0z\" fill=\"none\"/>\n",
              "    <path d=\"M18.56 5.44l.94 2.06.94-2.06 2.06-.94-2.06-.94-.94-2.06-.94 2.06-2.06.94zm-11 1L8.5 8.5l.94-2.06 2.06-.94-2.06-.94L8.5 2.5l-.94 2.06-2.06.94zm10 10l.94 2.06.94-2.06 2.06-.94-2.06-.94-.94-2.06-.94 2.06-2.06.94z\"/><path d=\"M17.41 7.96l-1.37-1.37c-.4-.4-.92-.59-1.43-.59-.52 0-1.04.2-1.43.59L10.3 9.45l-7.72 7.72c-.78.78-.78 2.05 0 2.83L4 21.41c.39.39.9.59 1.41.59.51 0 1.02-.2 1.41-.59l7.78-7.78 2.81-2.81c.8-.78.8-2.07 0-2.86zM5.41 20L4 18.59l7.72-7.72 1.47 1.35L5.41 20z\"/>\n",
              "  </svg>\n",
              "      </button>\n",
              "      \n",
              "  <style>\n",
              "    .colab-df-container {\n",
              "      display:flex;\n",
              "      flex-wrap:wrap;\n",
              "      gap: 12px;\n",
              "    }\n",
              "\n",
              "    .colab-df-convert {\n",
              "      background-color: #E8F0FE;\n",
              "      border: none;\n",
              "      border-radius: 50%;\n",
              "      cursor: pointer;\n",
              "      display: none;\n",
              "      fill: #1967D2;\n",
              "      height: 32px;\n",
              "      padding: 0 0 0 0;\n",
              "      width: 32px;\n",
              "    }\n",
              "\n",
              "    .colab-df-convert:hover {\n",
              "      background-color: #E2EBFA;\n",
              "      box-shadow: 0px 1px 2px rgba(60, 64, 67, 0.3), 0px 1px 3px 1px rgba(60, 64, 67, 0.15);\n",
              "      fill: #174EA6;\n",
              "    }\n",
              "\n",
              "    [theme=dark] .colab-df-convert {\n",
              "      background-color: #3B4455;\n",
              "      fill: #D2E3FC;\n",
              "    }\n",
              "\n",
              "    [theme=dark] .colab-df-convert:hover {\n",
              "      background-color: #434B5C;\n",
              "      box-shadow: 0px 1px 3px 1px rgba(0, 0, 0, 0.15);\n",
              "      filter: drop-shadow(0px 1px 2px rgba(0, 0, 0, 0.3));\n",
              "      fill: #FFFFFF;\n",
              "    }\n",
              "  </style>\n",
              "\n",
              "      <script>\n",
              "        const buttonEl =\n",
              "          document.querySelector('#df-76bb58be-aed2-4e37-8193-04756934d567 button.colab-df-convert');\n",
              "        buttonEl.style.display =\n",
              "          google.colab.kernel.accessAllowed ? 'block' : 'none';\n",
              "\n",
              "        async function convertToInteractive(key) {\n",
              "          const element = document.querySelector('#df-76bb58be-aed2-4e37-8193-04756934d567');\n",
              "          const dataTable =\n",
              "            await google.colab.kernel.invokeFunction('convertToInteractive',\n",
              "                                                     [key], {});\n",
              "          if (!dataTable) return;\n",
              "\n",
              "          const docLinkHtml = 'Like what you see? Visit the ' +\n",
              "            '<a target=\"_blank\" href=https://colab.research.google.com/notebooks/data_table.ipynb>data table notebook</a>'\n",
              "            + ' to learn more about interactive tables.';\n",
              "          element.innerHTML = '';\n",
              "          dataTable['output_type'] = 'display_data';\n",
              "          await google.colab.output.renderOutput(dataTable, element);\n",
              "          const docLink = document.createElement('div');\n",
              "          docLink.innerHTML = docLinkHtml;\n",
              "          element.appendChild(docLink);\n",
              "        }\n",
              "      </script>\n",
              "    </div>\n",
              "  </div>\n",
              "  "
            ]
          },
          "metadata": {},
          "execution_count": 100
        }
      ],
      "source": [
        "val_education_perc = app_train[\"NAME_EDUCATION_TYPE\"].value_counts(normalize = True)\n",
        "val_education_count = app_train[\"NAME_EDUCATION_TYPE\"].value_counts()\n",
        "val_education_table = pd.concat([val_education_count, val_education_perc], axis=1)\n",
        "val_education_table.columns = [\"Total Count\", \"Total %\"]\n",
        "val_education_table"
      ],
      "id": "Fbj4_rh_ogQf"
    },
    {
      "cell_type": "markdown",
      "metadata": {
        "id": "78e17d30-acce-4b7f-bacc-af488cda3e7d"
      },
      "source": [
        "1.11. Plot the distribution of ocupation of the loan applicants"
      ],
      "id": "78e17d30-acce-4b7f-bacc-af488cda3e7d"
    },
    {
      "cell_type": "code",
      "execution_count": null,
      "metadata": {
        "colab": {
          "base_uri": "https://localhost:8080/",
          "height": 296
        },
        "id": "ec101d97-c77b-4e5d-b69f-7c2f8f652d8f",
        "outputId": "0abc6b56-42ab-46f1-a10f-5eaee01bb130"
      },
      "outputs": [
        {
          "output_type": "execute_result",
          "data": {
            "text/plain": [
              "<matplotlib.axes._subplots.AxesSubplot at 0x7f9d7e5d8410>"
            ]
          },
          "metadata": {},
          "execution_count": 101
        },
        {
          "output_type": "display_data",
          "data": {
            "text/plain": [
              "<Figure size 432x288 with 1 Axes>"
            ],
            "image/png": "[encoded data removed]"
          },
          "metadata": {
            "needs_background": "light"
          }
        }
      ],
      "source": [
        "### Complete in this cell: ocupation of applicants\n",
        "sns.countplot(data = app_train, y = \"OCCUPATION_TYPE\")"
      ],
      "id": "ec101d97-c77b-4e5d-b69f-7c2f8f652d8f"
    },
    {
      "cell_type": "markdown",
      "metadata": {
        "id": "824b1bc0-4dad-4ce8-b574-cbae5984a589"
      },
      "source": [
        "1.12. Plot the family status of the applicants"
      ],
      "id": "824b1bc0-4dad-4ce8-b574-cbae5984a589"
    },
    {
      "cell_type": "code",
      "execution_count": null,
      "metadata": {
        "colab": {
          "base_uri": "https://localhost:8080/",
          "height": 296
        },
        "id": "95463328-4392-435e-a203-95e28998930b",
        "outputId": "1729be80-d890-473f-e6e2-24d828fa428e"
      },
      "outputs": [
        {
          "output_type": "execute_result",
          "data": {
            "text/plain": [
              "<matplotlib.axes._subplots.AxesSubplot at 0x7f9d72f589d0>"
            ]
          },
          "metadata": {},
          "execution_count": 102
        },
        {
          "output_type": "display_data",
          "data": {
            "text/plain": [
              "<Figure size 432x288 with 1 Axes>"
            ],
            "image/png": "[encoded data removed]"
          },
          "metadata": {
            "needs_background": "light"
          }
        }
      ],
      "source": [
        "### Complete in this cell: family status\n",
        "sns.countplot(data = app_train, y = \"NAME_FAMILY_STATUS\") "
      ],
      "id": "95463328-4392-435e-a203-95e28998930b"
    },
    {
      "cell_type": "markdown",
      "metadata": {
        "id": "efa77db6-a50a-454e-b1b2-83abe3c8baae"
      },
      "source": [
        "1.13. Plot the income type of applicants grouped by the target variable"
      ],
      "id": "efa77db6-a50a-454e-b1b2-83abe3c8baae"
    },
    {
      "cell_type": "code",
      "execution_count": null,
      "metadata": {
        "colab": {
          "base_uri": "https://localhost:8080/",
          "height": 296
        },
        "id": "HfDK7ypKAHCG",
        "outputId": "e7e8c5b9-52a7-4f99-94a6-c5d32168e3ba"
      },
      "outputs": [
        {
          "output_type": "execute_result",
          "data": {
            "text/plain": [
              "<matplotlib.axes._subplots.AxesSubplot at 0x7f9d7308f350>"
            ]
          },
          "metadata": {},
          "execution_count": 103
        },
        {
          "output_type": "display_data",
          "data": {
            "text/plain": [
              "<Figure size 432x288 with 1 Axes>"
            ],
            "image/png": "[encoded data removed]"
          },
          "metadata": {
            "needs_background": "light"
          }
        }
      ],
      "source": [
        "### Complete in this cell: income type of applicants\n",
        "sns.countplot(data = app_train, y = \"NAME_INCOME_TYPE\")"
      ],
      "id": "HfDK7ypKAHCG"
    },
    {
      "cell_type": "code",
      "execution_count": null,
      "metadata": {
        "colab": {
          "base_uri": "https://localhost:8080/",
          "height": 296
        },
        "id": "409f8fe1-9e19-4b3b-8723-a8e1d65312f5",
        "outputId": "0e171513-be8f-4595-b64a-fa029f65b81b"
      },
      "outputs": [
        {
          "output_type": "execute_result",
          "data": {
            "text/plain": [
              "<matplotlib.axes._subplots.AxesSubplot at 0x7f9d7b42bb90>"
            ]
          },
          "metadata": {},
          "execution_count": 104
        },
        {
          "output_type": "display_data",
          "data": {
            "text/plain": [
              "<Figure size 432x288 with 1 Axes>"
            ],
            "image/png": "[encoded data removed]"
          },
          "metadata": {
            "needs_background": "light"
          }
        }
      ],
      "source": [
        "### Complete in this cell: income type \n",
        "sns.countplot(data = app_train, y = \"NAME_INCOME_TYPE\")"
      ],
      "id": "409f8fe1-9e19-4b3b-8723-a8e1d65312f5"
    },
    {
      "cell_type": "code",
      "execution_count": null,
      "metadata": {
        "colab": {
          "base_uri": "https://localhost:8080/",
          "height": 296
        },
        "id": "f22c3267-56c8-45fc-9184-b822cd026571",
        "outputId": "2befc42e-27e2-4fbd-9f78-6d8ac5cdfa47"
      },
      "outputs": [
        {
          "output_type": "execute_result",
          "data": {
            "text/plain": [
              "<matplotlib.axes._subplots.AxesSubplot at 0x7f9d7f5b9350>"
            ]
          },
          "metadata": {},
          "execution_count": 105
        },
        {
          "output_type": "display_data",
          "data": {
            "text/plain": [
              "<Figure size 432x288 with 1 Axes>"
            ],
            "image/png": "[encoded data removed]"
          },
          "metadata": {
            "needs_background": "light"
          }
        }
      ],
      "source": [
        "### Complete in this cell: Income type of applicants by target variable\n",
        "sns.countplot(data = app_train, y = \"NAME_INCOME_TYPE\", hue = \"TARGET\")"
      ],
      "id": "f22c3267-56c8-45fc-9184-b822cd026571"
    },
    {
      "cell_type": "markdown",
      "metadata": {
        "id": "675b1ae3-c943-4737-bdb8-2ecff733b27b"
      },
      "source": [
        "## 2. Preprocessing"
      ],
      "id": "675b1ae3-c943-4737-bdb8-2ecff733b27b"
    },
    {
      "cell_type": "markdown",
      "metadata": {
        "id": "VvT_6ZEOztAQ"
      },
      "source": [
        "2.1. The first step will be separate our train and test datasets columns between Features and Targets.\n",
        "\n",
        "- Assign to `X_train` those columns from `app_train` that should be used as features for training our models.\n",
        "- Assign to `y_train` the single column from `app_train` that should be used as our target (i.e. what we want to predict).\n",
        "- Assign to `X_test` those columns from `app_test` that should be used as features for training our models.\n",
        "- Assign to `y_test` the single column from `app_test` that should be used as our target (i.e. what we want to predict).\n"
      ],
      "id": "VvT_6ZEOztAQ"
    },
    {
      "cell_type": "code",
      "execution_count": null,
      "metadata": {
        "id": "Mm9px1oQztZT"
      },
      "outputs": [],
      "source": [
        "### Complete in this cell\n",
        "X_train = app_train.loc[:, app_train.columns != \"TARGET\"]\n",
        "y_train = app_train[\"TARGET\"]\n",
        "X_test = app_test.loc[:, app_train.columns != \"TARGET\"]\n",
        "y_test =  app_test[\"TARGET\"]\n"
      ],
      "id": "Mm9px1oQztZT"
    },
    {
      "cell_type": "markdown",
      "metadata": {
        "id": "wrkoywq9aNvJ"
      },
      "source": [
        "**Don't change anything in this cell, just make it run correctly**"
      ],
      "id": "wrkoywq9aNvJ"
    },
    {
      "cell_type": "code",
      "execution_count": null,
      "metadata": {
        "colab": {
          "base_uri": "https://localhost:8080/"
        },
        "id": "5F5UeGj1aNvJ",
        "outputId": "a943f6b6-a947-4429-e612-9ee9283c48ee"
      },
      "outputs": [
        {
          "output_type": "stream",
          "name": "stdout",
          "text": [
            "Success: X_train shape is correct!\n",
            "Success: X_train type is correct!\n",
            "Success: y_train shape is correct!\n",
            "Success: X_test shape is correct!\n",
            "Success: X_test type is correct!\n",
            "Success: y_test shape is correct!\n"
          ]
        }
      ],
      "source": [
        "if X_train.shape == (215257, 122):\n",
        "  print('Success: X_train shape is correct!')\n",
        "else:\n",
        "  raise ValueError('X_train dataset shape is incorrect, please review your code')\n",
        "\n",
        "if isinstance(X_train, pd.DataFrame):\n",
        "  print('Success: X_train type is correct!')\n",
        "else:\n",
        "  raise ValueError('Train dataset type is incorrect, please review your code')\n",
        "\n",
        "if y_train.shape == (215257,) or y_train.shape == (215257, 1):\n",
        "  print('Success: y_train shape is correct!')\n",
        "else:\n",
        "  raise ValueError('Train labels shape is incorrect, please review your code')\n",
        "\n",
        "if X_test.shape == (92254, 122):\n",
        "  print('Success: X_test shape is correct!')\n",
        "else:\n",
        "  raise ValueError('Test dataset shape is incorrect, please review your code')\n",
        "\n",
        "if isinstance(X_test, pd.DataFrame):\n",
        "  print('Success: X_test type is correct!')\n",
        "else:\n",
        "  raise ValueError('Test dataset type is incorrect, please review your code')\n",
        "\n",
        "if y_test.shape == (92254,) or y_test.shape == (92254, 1):\n",
        "  print('Success: y_test shape is correct!')\n",
        "else:\n",
        "  raise ValueError('Test labels shape is incorrect, please review your code')\n"
      ],
      "id": "5F5UeGj1aNvJ"
    },
    {
      "cell_type": "markdown",
      "metadata": {
        "id": "51397c38-0204-454b-8fe6-011dc8c38418"
      },
      "source": [
        "2.2. In this section, you will code a function to make all the data pre processing for the dataset. What you have to deliver is a function that takes `X_train` and `X_test` dataframes, processes all features, and returns the transformed data as numpy arrays ready to be used for training.\n",
        "\n",
        "The function should perform these activities:\n",
        "\n",
        "- Correct outliers/anomalous values in numerical columns (hint: take a look at the DAYS_EMPLOYED column)\n",
        "- Impute values for all columns with missing data (use median as imputing value)\n",
        "- Encode categorical features:\n",
        "    - If feature has 2 categories encode using binary encoding\n",
        "    - More than 2 categories, use one hot encoding \n",
        "- Feature scaling\n",
        "\n",
        "**Important note:** Keep in mind that you could get different number of columns in train and test because some category could only be present in one of the dataframes, this could create more one hot encoded columns. You should align train and test to have the same number of columns. Check `pandas.DataFrame.align()` function.\n",
        "\n",
        "Complete the function `preprocess_data(train_df: pd.DataFrame, test_df: pd.DataFrame)` following the instructions given above."
      ],
      "id": "51397c38-0204-454b-8fe6-011dc8c38418"
    },
    {
      "cell_type": "code",
      "source": [
        "sns.boxplot(app_train['DAYS_EMPLOYED'] )"
      ],
      "metadata": {
        "colab": {
          "base_uri": "https://localhost:8080/",
          "height": 297
        },
        "id": "hVJyoLmkxbmw",
        "outputId": "44511e78-750b-4925-a3d5-15a48541d447"
      },
      "id": "hVJyoLmkxbmw",
      "execution_count": null,
      "outputs": [
        {
          "output_type": "execute_result",
          "data": {
            "text/plain": [
              "<matplotlib.axes._subplots.AxesSubplot at 0x7efe75b92b50>"
            ]
          },
          "metadata": {},
          "execution_count": 8
        },
        {
          "output_type": "display_data",
          "data": {
            "text/plain": [
              "<Figure size 432x288 with 1 Axes>"
            ],
            "image/png": "[encoded data removed]"
          },
          "metadata": {
            "needs_background": "light"
          }
        }
      ]
    },
    {
      "cell_type": "code",
      "execution_count": null,
      "metadata": {
        "id": "imG2ov4RiK4S"
      },
      "outputs": [],
      "source": [
        "### Complete in this cell: Data pre processing function\n",
        "def preprocess_data(train_df: pd.DataFrame, test_df: pd.DataFrame): #-> Tuple[np.ndarray, np.ndarray]:\n",
        "  \"\"\"\n",
        "  Pre processes data for modeling. Receives train and testing dataframes \n",
        "  for Home Credit Competition, and returns numpy ndarrays of cleaned up \n",
        "  dataframes with feature engineering already performed.\n",
        "  \n",
        "  Arguments:\n",
        "      train_df: pd.DataFrame\n",
        "      test_df: pd.DataFrame\n",
        "  \"\"\"    \n",
        "  # Correct anomalous values \n",
        "  train_df['DAYS_EMPLOYED'].replace({365243: np.nan}, inplace = True)\n",
        "  train_df['DAYS_EMPLOYED'] = abs(train_df['DAYS_EMPLOYED'])\n",
        "  train_df[\"ORGANIZATION_TYPE\"].replace({\"XNA\": \"Other\"}, inplace = True)\n",
        "  \n",
        "  test_df['DAYS_EMPLOYED'].replace({365243: np.nan}, inplace = True)\n",
        "  test_df['DAYS_EMPLOYED'] = abs(test_df['DAYS_EMPLOYED'])\n",
        "  test_df[\"ORGANIZATION_TYPE\"].replace({\"XNA\": \"Other\"}, inplace = True)\n",
        "  \n",
        "  scaler = StandardScaler()\n",
        "  \n",
        "  #Replace na values with median and scale values\n",
        "  for col in train_df:\n",
        "    if train_df[col].dtype == 'int64' or train_df[col].dtype == \"float64\":\n",
        "      train_df[col].fillna(train_df[col].median(), inplace = True)\n",
        "\n",
        "      reshape = train_df[col].values.reshape(-1, 1)\n",
        "      scaler.fit(reshape)\n",
        "      train_df[col] = scaler.transform(reshape)\n",
        "      \n",
        "  #Replace na values with median and scale values\n",
        "  for col in test_df:\n",
        "    if test_df[col].dtype == 'int64' or test_df[col].dtype == \"float64\":\n",
        "      test_df[col].fillna(test_df[col].median(), inplace = True)    \n",
        "      \n",
        "      reshape_1 = test_df[col].values.reshape(-1, 1)\n",
        "      scaler.fit(reshape_1)\n",
        "      test_df[col] = scaler.transform(reshape_1)\n",
        "  \n",
        "  lb = preprocessing.LabelBinarizer()\n",
        "  \n",
        "  columns_dummies_list = []\n",
        "  columns_dummies_list_2 = []\n",
        "  \n",
        "  # Iterate through the columns\n",
        "  for col in train_df:\n",
        "    if train_df[col].dtype == 'object' :\n",
        "    # If 2 unique categories\n",
        "      if len(list(train_df[col].unique())) <= 2:\n",
        "      # Train on the training data\n",
        "        train_df[col] = lb.fit_transform(train_df[col])\n",
        "      if len(list(train_df[col].unique())) > 2:\n",
        "        columns_dummies_list.append(col)\n",
        "  \n",
        "  # Iterate through the columns\n",
        "  for col in test_df:\n",
        "    if test_df[col].dtype == 'object' :\n",
        "    # If 2 unique categories\n",
        "      if len(list(test_df[col].unique())) <= 2:\n",
        "      # Train on the training data\n",
        "        test_df[col] = lb.fit_transform(test_df[col])\n",
        "      if len(list(test_df[col].unique())) > 2:\n",
        "        columns_dummies_list_2.append(col)\n",
        "\n",
        "  \n",
        "  # Convert +2 unique values in categorical columns with dummies\n",
        "  train_df = pd.get_dummies(train_df, columns = columns_dummies_list)\n",
        "  test_df = pd.get_dummies(test_df, columns = columns_dummies_list_2)\n",
        "\n",
        "  a, b = train_df.align(test_df, axis = 1)\n",
        "  \n",
        "  # Changing to array type\n",
        "  c = a.to_numpy()\n",
        "  d = b.to_numpy() \n",
        "  \"\"\"    \n",
        "  Returns:\n",
        "      train_data: np.ndarrary\n",
        "      test_data: np.ndarrary\n",
        "  \"\"\"\n",
        "  # Complete this function\n",
        "  return c, d"
      ],
      "id": "imG2ov4RiK4S"
    },
    {
      "cell_type": "markdown",
      "metadata": {
        "id": "-1YXG39vc2qX"
      },
      "source": [
        "In the following cell we are going to execute the functions you've just coded. No need to modify this.\n",
        "\n",
        "**Important Note:** From now on, you must always use `train_data` for training your models and `test_data` only for the final evaluation of the model trained."
      ],
      "id": "-1YXG39vc2qX"
    },
    {
      "cell_type": "markdown",
      "metadata": {
        "id": "mMkqwi0gd7a8"
      },
      "source": [
        "**Don't change anything in this cell, just make it run correctly**"
      ],
      "id": "mMkqwi0gd7a8"
    },
    {
      "cell_type": "code",
      "execution_count": null,
      "metadata": {
        "id": "98df784f-3e3c-42ac-8c09-b6a3d8dacf8b"
      },
      "outputs": [],
      "source": [
        "train_data, test_data = preprocess_data(X_train, X_test)"
      ],
      "id": "98df784f-3e3c-42ac-8c09-b6a3d8dacf8b"
    },
    {
      "cell_type": "markdown",
      "metadata": {
        "id": "rupRp_y2cyYe"
      },
      "source": [
        "**Don't change anything in this cell, just make it run correctly**"
      ],
      "id": "rupRp_y2cyYe"
    },
    {
      "cell_type": "code",
      "execution_count": null,
      "metadata": {
        "colab": {
          "base_uri": "https://localhost:8080/"
        },
        "id": "whWcb5jtcyYe",
        "outputId": "91ba1822-fd80-446c-bbd8-7c22d7807b18"
      },
      "outputs": [
        {
          "output_type": "stream",
          "name": "stdout",
          "text": [
            "Success: train_data shape is correct!\n",
            "Success: train_data type is correct!\n",
            "Success: test_data shape is correct!\n",
            "Success: test_data type is correct!\n"
          ]
        }
      ],
      "source": [
        "if train_data.shape == (215257, 242):\n",
        "  print('Success: train_data shape is correct!')\n",
        "else:\n",
        "  raise ValueError('train_data dataset shape is incorrect, please review your code')\n",
        "\n",
        "if isinstance(train_data, np.ndarray):\n",
        "  print('Success: train_data type is correct!')\n",
        "else:\n",
        "  raise ValueError('Train dataset type is incorrect, please review your code')\n",
        "\n",
        "if test_data.shape == (92254, 242):\n",
        "  print('Success: test_data shape is correct!')\n",
        "else:\n",
        "  raise ValueError('test_data dataset shape is incorrect, please review your code')\n",
        "\n",
        "if isinstance(test_data, np.ndarray):\n",
        "  print('Success: test_data type is correct!')\n",
        "else:\n",
        "  raise ValueError('Train dataset type is incorrect, please review your code')\n"
      ],
      "id": "whWcb5jtcyYe"
    },
    {
      "cell_type": "markdown",
      "metadata": {
        "id": "2f5df1e8-1f03-4f14-9dbd-292d3b84859d"
      },
      "source": [
        "## 3. Training Models"
      ],
      "id": "2f5df1e8-1f03-4f14-9dbd-292d3b84859d"
    },
    {
      "cell_type": "markdown",
      "metadata": {
        "id": "83062f02-7157-4083-b57b-78fbc95fe39b"
      },
      "source": [
        "As usual, you will start training simple models and will progressively move to more complex models and pipelines.\n",
        "\n",
        "**Pro tip:** It is of utmost importance to make an accurate estimation of the time required to train a machine learning model. Because of this, we recommend you to use Python [time](https://docs.python.org/3/library/time.html) library or Jupyter magic function `%%time` on the cell you're training your model to get an estimate of the time it took to fit your data."
      ],
      "id": "83062f02-7157-4083-b57b-78fbc95fe39b"
    },
    {
      "cell_type": "markdown",
      "metadata": {
        "id": "7e99a786-a17e-4caa-9ac7-48fced40fa71"
      },
      "source": [
        "### Baseline: LogisticRegression"
      ],
      "id": "7e99a786-a17e-4caa-9ac7-48fced40fa71"
    },
    {
      "cell_type": "markdown",
      "metadata": {
        "id": "91e10796-6d86-4fce-8738-4b9c4fbbf359"
      },
      "source": [
        "3.1. Import LogisticRegression from sklearn and train a model using the preprocesed train data from the previous section, and just default parameters. If you receive a warning because the algorithm failed to converge, try increasing the number of iterations or decreasing the C parameter.\n",
        "\n",
        "Assign the trained model to `log_reg` variable."
      ],
      "id": "91e10796-6d86-4fce-8738-4b9c4fbbf359"
    },
    {
      "cell_type": "code",
      "execution_count": null,
      "metadata": {
        "colab": {
          "base_uri": "https://localhost:8080/"
        },
        "id": "e1285054-4ea6-4bdb-9477-e774fc3d04c5",
        "outputId": "5dc335df-aee6-4975-f95b-1b8cfe629e82"
      },
      "outputs": [
        {
          "output_type": "execute_result",
          "data": {
            "text/plain": [
              "LogisticRegression(random_state=42)"
            ]
          },
          "metadata": {},
          "execution_count": 111
        }
      ],
      "source": [
        "### Complete in this cell: train a logistic regression, assign to `log_reg` variable\n",
        "log_reg = LogisticRegression(random_state=42)\n",
        "log_reg.fit(train_data, y_train)\n",
        "proba = log_reg.predict_proba(test_data)\n",
        "proba  = proba[:,1]\n"
      ],
      "id": "e1285054-4ea6-4bdb-9477-e774fc3d04c5"
    },
    {
      "cell_type": "markdown",
      "metadata": {
        "id": "2OTXvqibhqid"
      },
      "source": [
        "**Don't change anything in this cell, just make it run correctly**"
      ],
      "id": "2OTXvqibhqid"
    },
    {
      "cell_type": "code",
      "execution_count": null,
      "metadata": {
        "colab": {
          "base_uri": "https://localhost:8080/"
        },
        "id": "JmFsb5DShqid",
        "outputId": "e4f1bf29-1a39-4c8c-da1b-d1ff304462f2"
      },
      "outputs": [
        {
          "output_type": "stream",
          "name": "stdout",
          "text": [
            "Success: Logistic regression model type is correct!\n"
          ]
        }
      ],
      "source": [
        "if isinstance(log_reg, LogisticRegression):\n",
        "  print('Success: Logistic regression model type is correct!')\n",
        "else:\n",
        "  raise ValueError('Logistic regression model type is incorrect, please review your code')"
      ],
      "id": "JmFsb5DShqid"
    },
    {
      "cell_type": "markdown",
      "metadata": {
        "id": "018d5c7e-012f-47cc-8bfc-0332de907ae9"
      },
      "source": [
        "3.2. Use the trained model to predict probabilities for the test data.\n",
        "\n",
        "**Important note:** When using the function `predict_proba()` for getting model probabilities you will get, for each sample, a tuple indicating the probability for class 0 and for class 1 respectively. For computing the AUC ROC score we only need the probability that the debt is not repaid (equivalent to class 1)."
      ],
      "id": "018d5c7e-012f-47cc-8bfc-0332de907ae9"
    },
    {
      "cell_type": "code",
      "execution_count": null,
      "metadata": {
        "colab": {
          "base_uri": "https://localhost:8080/"
        },
        "id": "798ae69b-1fe2-458d-9de7-3e1ed70b9b02",
        "outputId": "c9c6daad-70e2-4866-fe5a-d54eab88d619"
      },
      "outputs": [
        {
          "output_type": "execute_result",
          "data": {
            "text/plain": [
              "array([0.05630209, 0.01868419, 0.16316389, ..., 0.19213946, 0.00725355,\n",
              "       0.01123356])"
            ]
          },
          "metadata": {},
          "execution_count": 113
        }
      ],
      "source": [
        "### Complete in this cell: predict test data-\n",
        "proba = log_reg.predict_proba(test_data)\n",
        "proba  = proba[:,1]\n",
        "proba"
      ],
      "id": "798ae69b-1fe2-458d-9de7-3e1ed70b9b02"
    },
    {
      "cell_type": "markdown",
      "metadata": {
        "id": "b0826305-4900-4ba1-bf25-48205be980c6"
      },
      "source": [
        "3.3. Get AUC ROC score on test dataset. See [scikit-learn AUC ROC function](https://scikit-learn.org/stable/modules/generated/sklearn.metrics.roc_auc_score.html) for a working implementation.\n",
        "\n",
        "Assign the AUC ROC score to `lr_roc_auc` variable.\n"
      ],
      "id": "b0826305-4900-4ba1-bf25-48205be980c6"
    },
    {
      "cell_type": "code",
      "execution_count": null,
      "metadata": {
        "id": "dTUVNxs8UWAx"
      },
      "outputs": [],
      "source": [
        "y_test_array = np.array(y_test).reshape(-1, 1)"
      ],
      "id": "dTUVNxs8UWAx"
    },
    {
      "cell_type": "code",
      "execution_count": null,
      "metadata": {
        "id": "9_KaFn_oyXT3"
      },
      "outputs": [],
      "source": [
        "### Complete in this cell: calculate roc_auc_score.\n",
        "### Assign to `lr_roc_auc` variable.\n",
        "lr_roc_auc = roc_auc_score(y_test_array, proba)"
      ],
      "id": "9_KaFn_oyXT3"
    },
    {
      "cell_type": "markdown",
      "metadata": {
        "id": "4d889582-0c21-4789-acac-4d58f8eb74d9"
      },
      "source": [
        "At this point, the model should produce a result around 0.67 "
      ],
      "id": "4d889582-0c21-4789-acac-4d58f8eb74d9"
    },
    {
      "cell_type": "markdown",
      "metadata": {
        "id": "ap_JpPoNidg2"
      },
      "source": [
        "**Don't change anything in this cell, just make it run correctly**"
      ],
      "id": "ap_JpPoNidg2"
    },
    {
      "cell_type": "code",
      "execution_count": null,
      "metadata": {
        "colab": {
          "base_uri": "https://localhost:8080/"
        },
        "id": "KWSHN2Ouidg2",
        "outputId": "0929bdeb-f7c0-449e-86b2-f10380338f2e"
      },
      "outputs": [
        {
          "output_type": "stream",
          "name": "stdout",
          "text": [
            "Success: AUC ROC score type is correct!\n",
            "Success: AUC ROC score is correct!\n"
          ]
        }
      ],
      "source": [
        "if isinstance(lr_roc_auc, float):\n",
        "  print('Success: AUC ROC score type is correct!')\n",
        "else:\n",
        "  raise ValueError('AUC ROC score type is incorrect, please review your code')\n",
        "\n",
        "if lr_roc_auc >= 0.63:\n",
        "  print('Success: AUC ROC score is correct!')\n",
        "else:\n",
        "  raise ValueError('AUC ROC score is incorrect, please review your code')"
      ],
      "id": "KWSHN2Ouidg2"
    },
    {
      "cell_type": "markdown",
      "metadata": {
        "id": "8f8300cc-d8be-4303-9042-757cb9e15d3e"
      },
      "source": [
        "### Training a Random Forest Classifier "
      ],
      "id": "8f8300cc-d8be-4303-9042-757cb9e15d3e"
    },
    {
      "cell_type": "markdown",
      "metadata": {
        "id": "05280b49-11af-4fe6-9236-95f31fb5e0d5"
      },
      "source": [
        "You're gonna start working in more complex models: ensambles, particularly, you're going to use the Random Forest Classifier from Scikit Learn. "
      ],
      "id": "05280b49-11af-4fe6-9236-95f31fb5e0d5"
    },
    {
      "cell_type": "markdown",
      "metadata": {
        "id": "0efdfd67-ec68-49b3-8727-7ab9784b5e54"
      },
      "source": [
        "3.4. Train a RandomForestClassifier, print the time taken by the fit function. Just use default hyperparameters, except for n_jobs, which should be set to \"-1\" to allow the library to use all CPU cores to speed up training time.\n",
        "\n",
        "Assign the trained model to `rf` variable."
      ],
      "id": "0efdfd67-ec68-49b3-8727-7ab9784b5e54"
    },
    {
      "cell_type": "code",
      "execution_count": null,
      "metadata": {
        "colab": {
          "base_uri": "https://localhost:8080/"
        },
        "id": "1d3b9ea6-4bf9-42f0-aed1-1c0f3a4f9b39",
        "outputId": "2d3392a0-7f8e-447d-e326-a7e06510d7cc"
      },
      "outputs": [
        {
          "output_type": "execute_result",
          "data": {
            "text/plain": [
              "RandomForestClassifier(random_state=42)"
            ]
          },
          "metadata": {},
          "execution_count": 117
        }
      ],
      "source": [
        "### Complete in this cell: train a RandomForestClassifier\n",
        "### Assgign to `rf`\n",
        "rf = RandomForestClassifier(random_state=42)\n",
        "rf.fit(train_data, y_train)\n",
        "proba_1 = rf.predict_proba(test_data)\n",
        "proba_1  = proba_1[:,1]"
      ],
      "id": "1d3b9ea6-4bf9-42f0-aed1-1c0f3a4f9b39"
    },
    {
      "cell_type": "markdown",
      "metadata": {
        "id": "3b12a0a5-8ff1-4cb6-9928-37122d2a3435"
      },
      "source": [
        "3.5. Use the classifier to predict probabilities on the test set.\n",
        "\n"
      ],
      "id": "3b12a0a5-8ff1-4cb6-9928-37122d2a3435"
    },
    {
      "cell_type": "code",
      "execution_count": null,
      "metadata": {
        "colab": {
          "base_uri": "https://localhost:8080/"
        },
        "id": "4ba80108-858c-4d4e-ba19-7f19fa526dc9",
        "outputId": "12d8a25c-2e12-4de2-bb03-2a34453b853f"
      },
      "outputs": [
        {
          "output_type": "execute_result",
          "data": {
            "text/plain": [
              "array([0.03, 0.06, 0.1 , ..., 0.12, 0.07, 0.05])"
            ]
          },
          "metadata": {},
          "execution_count": 118
        }
      ],
      "source": [
        "### Complete in this cell: predict test data and store in\n",
        "proba_1 = rf.predict_proba(test_data)\n",
        "proba_1  = proba_1[:,1]\n",
        "proba_1"
      ],
      "id": "4ba80108-858c-4d4e-ba19-7f19fa526dc9"
    },
    {
      "cell_type": "markdown",
      "metadata": {
        "id": "W3TrmlUF2pDM"
      },
      "source": [
        "3.6. Get AUC ROC score on test dataset.\n",
        "\n",
        "Assign the AUC ROC score to `rf_roc_auc` variable.\n"
      ],
      "id": "W3TrmlUF2pDM"
    },
    {
      "cell_type": "code",
      "execution_count": null,
      "metadata": {
        "id": "D4jft3Sw2pDN"
      },
      "outputs": [],
      "source": [
        "### Complete in this cell: calculate roc_auc_score.\n",
        "### Assign to `rf_roc_auc` variable.\n",
        "rf_roc_auc = roc_auc_score(y_test_array, proba_1)"
      ],
      "id": "D4jft3Sw2pDN"
    },
    {
      "cell_type": "markdown",
      "metadata": {
        "id": "8_buAhkG24ZC"
      },
      "source": [
        "At this point, the model should produce a result around 0.7"
      ],
      "id": "8_buAhkG24ZC"
    },
    {
      "cell_type": "markdown",
      "metadata": {
        "id": "-1iYZeNjW-pR"
      },
      "source": [
        "**Don't change anything in this cell, just make it run correctly**"
      ],
      "id": "-1iYZeNjW-pR"
    },
    {
      "cell_type": "code",
      "execution_count": null,
      "metadata": {
        "colab": {
          "base_uri": "https://localhost:8080/"
        },
        "id": "G1I6K19KW-pa",
        "outputId": "f1bbf792-529f-4b52-be0a-fed083714d56"
      },
      "outputs": [
        {
          "output_type": "stream",
          "name": "stdout",
          "text": [
            "Success: AUC ROC score type is correct!\n",
            "Success: AUC ROC score is correct!\n"
          ]
        }
      ],
      "source": [
        "if isinstance(rf_roc_auc, float):\n",
        "  print('Success: AUC ROC score type is correct!')\n",
        "else:\n",
        "  raise ValueError('AUC ROC score type is incorrect, please review your code')\n",
        "\n",
        "if rf_roc_auc >= 0.66:\n",
        "  print('Success: AUC ROC score is correct!')\n",
        "else:\n",
        "  raise ValueError('AUC ROC score is incorrect, please review your code')"
      ],
      "id": "G1I6K19KW-pa"
    },
    {
      "cell_type": "markdown",
      "metadata": {
        "id": "4acfcc24-62b6-4118-9c42-a0268dcf5c53"
      },
      "source": [
        "### Randomized Search with Cross Validation"
      ],
      "id": "4acfcc24-62b6-4118-9c42-a0268dcf5c53"
    },
    {
      "cell_type": "markdown",
      "metadata": {
        "id": "dd634b2b-68af-4db1-b062-1496f8d1179e"
      },
      "source": [
        "So far, we've only created models using the default hyperparameters of each algorithm. This is usually something that we would only do for baseline models, hyperparameter tuning is a very important part of the modeling process and is often the difference between having an acceptable model or not.\n",
        "\n",
        "But, there are usually lots of hyperparameters to tune and a finite amount of time to do it, you have to consider the time and resources it takes to find an optimal combination of them. In the previous section you trained a random forest classifier and saw how much it took to train it once in your PC. If you want to do hyperparameter optimization you now have to consider that you will have to train the algorithm N number of times, with N being the cartesian product of all parameters. \n",
        "\n",
        "Furthermore, you can't validate the performance of your trained models on the test set, as this data should only be used to validate the final model. So we have to implement a validation strategy, K-Fold Cross Validation being the most common. But this also adds time complexity to our training, because we will have to train each combinations of hyperparameters M number of times, X being the number of folds in which we divided our dataset, so the total number of training iterations will be NxM... this resulting number can grow VERY quickly.\n",
        "\n",
        "Fortunately there are strategies to mitigate this, here you're going to select a small number of hyperparameters to test a RandomForestClassifier, and use a Randomized Search algorithm with K-Fold Cross Validation to avoid doing a full search across the grid. \n",
        "\n",
        "Remember: take in consideration how much time it took to train a single classifier, and define the number of cross validations folds and iterations of the search accordingly. \n",
        "A recommendation: run the training process, go make yourself a cup of coffee, sit somewhere comfortably and forget about it for a while.\n"
      ],
      "id": "dd634b2b-68af-4db1-b062-1496f8d1179e"
    },
    {
      "cell_type": "markdown",
      "metadata": {
        "id": "c49a11c7-156f-46bb-8bba-be29d1b2ed1a"
      },
      "source": [
        "3.7. Use RandomizedSearchCV to find the best combination of hyperparameters for a RandomForestClassifier. The validation metric used to evaluate the models should be \"roc_auc\" (i.e. `scoring=\"roc_auc\"`).\n",
        "\n",
        "Assign the trained model to `rf_random` variable."
      ],
      "id": "c49a11c7-156f-46bb-8bba-be29d1b2ed1a"
    },
    {
      "cell_type": "code",
      "execution_count": null,
      "metadata": {
        "id": "0cb4c536-82d8-49f8-a0b6-fede491055c1"
      },
      "outputs": [],
      "source": [
        "### Complete in this cell: Use RandomizedSearchCV to find the best combination \n",
        "### of hyperparameters for a RandomForestClassifier.\n",
        "### Assign the model to `rf_random`\n",
        "\n",
        "random_grid = {\n",
        "               \"penalty\" : [\"l2\", \"l1\", \"elasticnet\"],\n",
        "               'alpha': [0.0001, 0.00001],\n",
        "               'max_iter': [50, 100],\n",
        "               'eta0': [0.01, .001]}\n",
        "\n",
        "rf_random = RandomizedSearchCV(estimator = rf,  param_distributions = random_grid, random_state=42)"
      ],
      "id": "0cb4c536-82d8-49f8-a0b6-fede491055c1"
    },
    {
      "cell_type": "markdown",
      "metadata": {
        "id": "b09205aa-5afc-481a-b45b-d5e80b56d804"
      },
      "source": [
        "3.8. Use the classifier to predict probabilities on the test set.\n"
      ],
      "id": "b09205aa-5afc-481a-b45b-d5e80b56d804"
    },
    {
      "cell_type": "code",
      "execution_count": null,
      "metadata": {
        "colab": {
          "base_uri": "https://localhost:8080/"
        },
        "id": "4429ca94-57f4-487e-b3dd-883bc7bc7835",
        "outputId": "fb919847-d82e-4180-8971-76cbe0d6a7a5"
      },
      "outputs": [
        {
          "output_type": "execute_result",
          "data": {
            "text/plain": [
              "RandomizedSearchCV(estimator=RandomForestClassifier(random_state=42),\n",
              "                   param_distributions={'max_depth': [10, 20],\n",
              "                                        'min_samples_leaf': [1, 2],\n",
              "                                        'min_samples_split': [2, 5],\n",
              "                                        'n_estimators': [130, 180]},\n",
              "                   random_state=42)"
            ]
          },
          "metadata": {},
          "execution_count": 122
        }
      ],
      "source": [
        "### Complete in this cell: predict test data and save csv\n",
        "rf_random.fit(train_data, y_train)"
      ],
      "id": "4429ca94-57f4-487e-b3dd-883bc7bc7835"
    },
    {
      "cell_type": "code",
      "execution_count": null,
      "metadata": {
        "colab": {
          "base_uri": "https://localhost:8080/"
        },
        "id": "953f2204-304a-405b-b51b-350f054eb3f4",
        "outputId": "22a30d03-4f23-4572-86ae-c5ce4367acfe"
      },
      "outputs": [
        {
          "output_type": "execute_result",
          "data": {
            "text/plain": [
              "array([0.04389642, 0.03682788, 0.09648793, ..., 0.08764154, 0.04418386,\n",
              "       0.04485132])"
            ]
          },
          "metadata": {},
          "execution_count": 123
        }
      ],
      "source": [
        "# Predic probabilities of best hyperparameters model\n",
        "proba_2  = rf_random.predict_proba(test_data)\n",
        "proba_2  = proba_2[:,1]\n",
        "proba_2"
      ],
      "id": "953f2204-304a-405b-b51b-350f054eb3f4"
    },
    {
      "cell_type": "markdown",
      "metadata": {
        "id": "e645e849-a7e0-43af-b7d1-0b84c29f0e70"
      },
      "source": [
        "3.9. Get AUC ROC score on test dataset.\n",
        "\n",
        "Assign the AUC ROC score to `rf_tuned_roc_auc` variable."
      ],
      "id": "e645e849-a7e0-43af-b7d1-0b84c29f0e70"
    },
    {
      "cell_type": "code",
      "execution_count": null,
      "metadata": {
        "id": "8gDLlDC9XvcT"
      },
      "outputs": [],
      "source": [
        "### Complete in this cell: calculate roc_auc_score.\n",
        "### Assign to `rf_tuned_roc_auc` variable.\n",
        "rf_tuned_roc_auc = roc_auc_score(y_test_array, proba_2)"
      ],
      "id": "8gDLlDC9XvcT"
    },
    {
      "cell_type": "markdown",
      "metadata": {
        "id": "_ZAAkhx1X1Qt"
      },
      "source": [
        "At this point, the model should produce a result around 0.7 or higher."
      ],
      "id": "_ZAAkhx1X1Qt"
    },
    {
      "cell_type": "markdown",
      "metadata": {
        "id": "2nziyTPMX1Qu"
      },
      "source": [
        "**Don't change anything in this cell, just make it run correctly**"
      ],
      "id": "2nziyTPMX1Qu"
    },
    {
      "cell_type": "code",
      "execution_count": null,
      "metadata": {
        "colab": {
          "base_uri": "https://localhost:8080/"
        },
        "id": "nlDvoWwGX1Qu",
        "outputId": "ff68760c-15fc-4df5-8c82-f344b3fce26b"
      },
      "outputs": [
        {
          "output_type": "stream",
          "name": "stdout",
          "text": [
            "Success: AUC ROC score type is correct!\n",
            "Success: AUC ROC score is correct!\n"
          ]
        }
      ],
      "source": [
        "if isinstance(rf_tuned_roc_auc, float):\n",
        "  print('Success: AUC ROC score type is correct!')\n",
        "else:\n",
        "  raise ValueError('AUC ROC score type is incorrect, please review your code')\n",
        "\n",
        "if rf_tuned_roc_auc >= 0.7:\n",
        "  print('Success: AUC ROC score is correct!')\n",
        "else:\n",
        "  raise ValueError('AUC ROC score is incorrect, please review your code')"
      ],
      "id": "nlDvoWwGX1Qu"
    },
    {
      "cell_type": "markdown",
      "metadata": {
        "id": "be101430-3682-468d-a43d-8c78f60f96a5"
      },
      "source": [
        "3.10. Optional: If you have the time and resources, you can train the model for longer iterations, or select more estimator sizes. This is optional, but if you, we would love to see your results."
      ],
      "id": "be101430-3682-468d-a43d-8c78f60f96a5"
    },
    {
      "cell_type": "markdown",
      "metadata": {
        "id": "d72e7335-f3cc-410d-81f2-f110f3fbb252"
      },
      "source": [
        "### Optional: Training a LightGBM model "
      ],
      "id": "d72e7335-f3cc-410d-81f2-f110f3fbb252"
    },
    {
      "cell_type": "markdown",
      "metadata": {
        "id": "015d58b7-9f70-4bfb-8b72-20a626e00ea0"
      },
      "source": [
        "3.11. Gradient Boosting Machine is one of the most used machine learning algorithms for tabular data. Lots of competitions have been won using models from libraries like XGBoost or LightGBM. You can try using [LightGBM](https://lightgbm.readthedocs.io/en/latest/) to train a new model an see how it performs compared to the other classifiers you trained. "
      ],
      "id": "015d58b7-9f70-4bfb-8b72-20a626e00ea0"
    },
    {
      "cell_type": "code",
      "execution_count": null,
      "metadata": {
        "id": "91d497eb-2b8b-43fe-945e-26a04b8fc004"
      },
      "outputs": [],
      "source": [
        "### Complete in this cell: train a LightGBM model\n"
      ],
      "id": "91d497eb-2b8b-43fe-945e-26a04b8fc004"
    },
    {
      "cell_type": "markdown",
      "metadata": {
        "id": "c2d1a1f4-5e1e-4982-a6ae-a27b8c11428e"
      },
      "source": [
        "### Optional: Using Scikit Learn Pipelines "
      ],
      "id": "c2d1a1f4-5e1e-4982-a6ae-a27b8c11428e"
    },
    {
      "cell_type": "markdown",
      "metadata": {
        "id": "2e4f95fb-73bf-42c4-97a3-80078f2496aa"
      },
      "source": [
        "3.12. So far you've created special functions or blocks or code to chain operations on data and then train the models. But, reproducibility is important, and you don't want to have to remember the correct steps to follow each time you have new data to train your models. There are a lots of tools out there that can help you with that, here you can use a [Sklearn Pipeline](https://scikit-learn.org/stable/modules/generated/sklearn.pipeline.Pipeline.html) to process your data."
      ],
      "id": "2e4f95fb-73bf-42c4-97a3-80078f2496aa"
    },
    {
      "cell_type": "code",
      "execution_count": null,
      "metadata": {
        "id": "5a5eecdf-ee08-4ebd-8667-25cdb9a3eef4"
      },
      "outputs": [],
      "source": [
        "### Complete in this cell: use a sklearn Pipeline to automate the cleaning, standardizing and training\n"
      ],
      "id": "5a5eecdf-ee08-4ebd-8667-25cdb9a3eef4"
    }
  ],
  "metadata": {
    "colab": {
      "provenance": [],
      "include_colab_link": true
    },
    "kernelspec": {
      "display_name": "Python 3 (ipykernel)",
      "language": "python",
      "name": "python3"
    },
    "language_info": {
      "codemirror_mode": {
        "name": "ipython",
        "version": 3
      },
      "file_extension": ".py",
      "mimetype": "text/x-python",
      "name": "python",
      "nbconvert_exporter": "python",
      "pygments_lexer": "ipython3",
      "version": "3.8.9"
    }
  },
  "nbformat": 4,
  "nbformat_minor": 5
}